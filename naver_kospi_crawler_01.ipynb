{
  "nbformat": 4,
  "nbformat_minor": 0,
  "metadata": {
    "colab": {
      "name": "naver_kospi_crawler_01.ipynb",
      "provenance": [],
      "collapsed_sections": []
    },
    "kernelspec": {
      "name": "python3",
      "display_name": "Python 3"
    },
    "language_info": {
      "name": "python"
    }
  },
  "cells": [
    {
      "cell_type": "code",
      "source": [
        "import requests\n",
        "from bs4 import BeautifulSoup\n",
        "from datetime import datetime, timedelta\n",
        "import openpyxl\n",
        "\n",
        "tr_dates = []\n",
        "tr_kospis = []\n",
        "new_tr_kospis = []\n",
        "\n",
        "target_dates = []\n",
        "target_kospis = []\n",
        "\n",
        "for n in range(1, 4):\n",
        "  res = requests.get(f'https://finance.naver.com/sise/sise_index_day.naver?code=KOSPI&page={n}')\n",
        "  soup = BeautifulSoup(res.content, 'html.parser')\n",
        "\n",
        "  start_date = '2022.03.30'\n",
        "  end_date = '2022.03.11'\n",
        "\n",
        "  trs = soup.find_all('tr')\n",
        "  for tr in trs:\n",
        "    if tr.find('td', 'date'):\n",
        "      dates = tr.find('td', 'date')\n",
        "      for date in dates:\n",
        "        if end_date < date < start_date:\n",
        "          tr_dates.append(date)\n",
        "          tr_dates = list(set(tr_dates))\n",
        "          tr_dates.sort(reverse=True)\n",
        "          kospis = tr.find('td', 'number_1')\n",
        "          for kospi in kospis:\n",
        "            tr_kospis.append(kospi)\n",
        "          for tr_kospi in tr_kospis:\n",
        "            tr_kospi = tr_kospi.replace(\",\",\"\")\n",
        "            tr_kospi = float(tr_kospi)\n",
        "            if tr_kospi not in new_tr_kospis:\n",
        "              new_tr_kospis.append(tr_kospi)\n",
        "\n",
        "target_dates.extend(tr_dates)    \n",
        "target_kospis.extend(new_tr_kospis) \n",
        "\n",
        "print(target_dates)  # 삭제해도 무방함\n",
        "print(target_kospis)  # 삭제해도 무방함\n",
        "\n",
        "zip_list = zip(target_dates, target_kospis)\n",
        "item_list = list(zip_list)\n",
        "\n",
        "excel_file = openpyxl.Workbook()\n",
        "excel_sheet = excel_file.active\n",
        "\n",
        "for item in item_list:\n",
        "  excel_sheet.append(list(item))\n",
        "\n",
        "excel_file.save('kospis.xlsx')\n",
        "excel_file.close\n"
      ],
      "metadata": {
        "colab": {
          "base_uri": "https://localhost:8080/"
        },
        "id": "YxYYW86QS823",
        "outputId": "36f665ba-2632-44e2-f7b8-a59ca9c72c44"
      },
      "execution_count": 148,
      "outputs": [
        {
          "output_type": "stream",
          "name": "stdout",
          "text": [
            "['2022.03.29', '2022.03.28', '2022.03.25', '2022.03.24', '2022.03.23', '2022.03.22', '2022.03.21', '2022.03.18', '2022.03.17', '2022.03.16', '2022.03.15', '2022.03.14']\n",
            "[2741.07, 2729.56, 2729.98, 2729.66, 2735.05, 2710.0, 2686.05, 2707.02, 2694.51, 2659.23, 2621.53, 2645.65]\n"
          ]
        },
        {
          "output_type": "execute_result",
          "data": {
            "text/plain": [
              "<bound method Workbook.close of <openpyxl.workbook.workbook.Workbook object at 0x7fc9d3d64990>>"
            ]
          },
          "metadata": {},
          "execution_count": 148
        }
      ]
    },
    {
      "cell_type": "code",
      "source": [
        ""
      ],
      "metadata": {
        "id": "wTdwekdZS8qN"
      },
      "execution_count": null,
      "outputs": []
    }
  ]
}