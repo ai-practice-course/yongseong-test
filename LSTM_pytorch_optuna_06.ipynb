{
  "cells": [
    {
      "cell_type": "code",
      "execution_count": 1,
      "metadata": {
        "id": "2ZQKDACcmWTN"
      },
      "outputs": [],
      "source": [
        "### '2016-01-04' ~ '2020-01-31'"
      ]
    },
    {
      "cell_type": "code",
      "execution_count": 21,
      "metadata": {},
      "outputs": [
        {
          "data": {
            "text/plain": [
              "pytorch_forecasting.metrics.point.SMAPE"
            ]
          },
          "execution_count": 21,
          "metadata": {},
          "output_type": "execute_result"
        }
      ],
      "source": [
        "SMAPE"
      ]
    },
    {
      "cell_type": "code",
      "execution_count": 1,
      "metadata": {
        "colab": {
          "base_uri": "https://localhost:8080/"
        },
        "id": "4M4OxERWmcnY",
        "outputId": "0bde461d-4aeb-4a9d-faa7-8a17bdd1f811"
      },
      "outputs": [
        {
          "name": "stderr",
          "output_type": "stream",
          "text": [
            "/home/kyle/.pyenv/versions/3.8.3/envs/pytorch-forecasting/lib/python3.8/site-packages/tqdm/auto.py:22: TqdmWarning: IProgress not found. Please update jupyter and ipywidgets. See https://ipywidgets.readthedocs.io/en/stable/user_install.html\n",
            "  from .autonotebook import tqdm as notebook_tqdm\n",
            "/home/kyle/.pyenv/versions/3.8.3/envs/pytorch-forecasting/lib/python3.8/site-packages/torchmetrics/utilities/prints.py:36: UserWarning: Torchmetrics v0.9 introduced a new argument class property called `full_state_update` that has\n",
            "                not been set for this class (SMAPE). The property determines if `update` by\n",
            "                default needs access to the full metric state. If this is not the case, significant speedups can be\n",
            "                achieved and we recommend setting this to `False`.\n",
            "                We provide an checking function\n",
            "                `from torchmetrics.utilities import check_forward_no_full_state`\n",
            "                that can be used to check if the `full_state_update=True` (old and potential slower behaviour,\n",
            "                default for now) or if `full_state_update=False` can be used safely.\n",
            "                \n",
            "  warnings.warn(*args, **kwargs)\n"
          ]
        }
      ],
      "source": [
        "import torch\n",
        "import torch.nn as nn\n",
        "import torch.nn.functional as F\n",
        "import torch.optim as optim\n",
        "\n",
        "import numpy as np\n",
        "import pandas as pd\n",
        "import matplotlib.pyplot as plt\n",
        "import seaborn as sns\n",
        "import warnings\n",
        "\n",
        "from torch.autograd import Variable\n",
        "from sklearn.preprocessing import MinMaxScaler\n",
        "from sklearn.model_selection import train_test_split\n",
        "from torch.utils.data import TensorDataset, DataLoader\n",
        "from pytorch_forecasting import Baseline\n",
        "from pytorch_forecasting.metrics import SMAPE\n",
        "\n",
        "import joblib\n",
        "import pickle\n",
        "import optuna\n",
        "\n",
        "warnings.filterwarnings('ignore')\n",
        "%matplotlib inline"
      ]
    },
    {
      "cell_type": "code",
      "execution_count": 2,
      "metadata": {},
      "outputs": [
        {
          "data": {
            "text/plain": [
              "True"
            ]
          },
          "execution_count": 2,
          "metadata": {},
          "output_type": "execute_result"
        }
      ],
      "source": [
        "torch.cuda.is_available()"
      ]
    },
    {
      "cell_type": "markdown",
      "metadata": {
        "id": "sHcqhwLwecjI"
      },
      "source": [
        "### 함수정의"
      ]
    },
    {
      "cell_type": "code",
      "execution_count": 3,
      "metadata": {
        "id": "ChKBNVnrmcZC"
      },
      "outputs": [],
      "source": [
        "def sliding_windows(data, lookback_length, forecast_length):\n",
        "\n",
        "    x = []\n",
        "    y = []\n",
        "    \n",
        "    for i in range(lookback_length, len(data) - forecast_length + 1):\n",
        "        _x = data[(i-lookback_length) : i]\n",
        "        _y = data[i : (i + forecast_length)]\n",
        "        x.append(_x)\n",
        "        y.append(_y)\n",
        "    return np.array(x), np.array(y)\n",
        "\n",
        "\n",
        "def get_data_loader(X, y, batch_size):\n",
        "\n",
        "    x_train, x_val, y_train, y_val = train_test_split(X, y, test_size=0.2, random_state=42, shuffle=False)\n",
        "\n",
        "    train_ds = TensorDataset(torch.Tensor(x_train), torch.Tensor(y_train))\n",
        "    train_dl = DataLoader(train_ds, batch_size = batch_size)\n",
        "\n",
        "    val_ds = TensorDataset(torch.Tensor(x_val), torch.Tensor(y_val))\n",
        "    val_dl = DataLoader(val_ds, batch_size = batch_size)\n",
        "\n",
        "    input_size = x_train.shape[-1]\n",
        "\n",
        "    return train_dl, val_dl, input_size"
      ]
    },
    {
      "cell_type": "markdown",
      "metadata": {
        "id": "YFPr883NecjN"
      },
      "source": [
        "### Data loading && Preproces"
      ]
    },
    {
      "cell_type": "code",
      "execution_count": 4,
      "metadata": {
        "colab": {
          "base_uri": "https://localhost:8080/"
        },
        "id": "xtNpqfJ4k-M6",
        "outputId": "eb78a5a2-6610-4514-be7c-7d65aee78782"
      },
      "outputs": [
        {
          "name": "stdout",
          "output_type": "stream",
          "text": [
            "<class 'pandas.core.frame.DataFrame'>\n",
            "RangeIndex: 1858 entries, 0 to 1857\n",
            "Data columns (total 18 columns):\n",
            " #   Column           Non-Null Count  Dtype         \n",
            "---  ------           --------------  -----         \n",
            " 0   Date             1858 non-null   datetime64[ns]\n",
            " 1   Account DOW      1858 non-null   object        \n",
            " 2   REV OBD          1858 non-null   int64         \n",
            " 3   OBD NET+FSC_KRW  1858 non-null   float64       \n",
            " 4   OBD A/R_KRW      1858 non-null   float64       \n",
            " 5   REV CPN          1858 non-null   int64         \n",
            " 6   CPN NET+FSC_KRW  1858 non-null   float64       \n",
            " 7   CPN A/R_KRW      1858 non-null   float64       \n",
            " 8   REV TKT          1858 non-null   int64         \n",
            " 9   TKT NET+FSC_KRW  1858 non-null   float64       \n",
            " 10  TKT A/R_KRW      1858 non-null   float64       \n",
            " 11  WTI              1858 non-null   float64       \n",
            " 12  exchanges        1858 non-null   float64       \n",
            " 13  kospi            1858 non-null   float64       \n",
            " 14  rates            1858 non-null   float64       \n",
            " 15  stock_a          1858 non-null   int64         \n",
            " 16  stock_k          1858 non-null   int64         \n",
            " 17  stock_kkj        1858 non-null   int64         \n",
            "dtypes: datetime64[ns](1), float64(10), int64(6), object(1)\n",
            "memory usage: 261.4+ KB\n"
          ]
        }
      ],
      "source": [
        "scaler = MinMaxScaler()\n",
        "\n",
        "data=pd.read_excel('./data_full.xlsx')\n",
        "data.info()"
      ]
    },
    {
      "cell_type": "code",
      "execution_count": 5,
      "metadata": {
        "id": "fKl57TZ3tPVr"
      },
      "outputs": [],
      "source": [
        "res_data = data[data[\"Date\"].isin(pd.date_range('2016-01-04', '2020-01-31'))]\n",
        "res_data.reset_index(drop=True, inplace=True)\n",
        "res_data = res_data[['Date', 'REV OBD']]\n",
        "scale_cols = ['REV OBD']"
      ]
    },
    {
      "cell_type": "code",
      "execution_count": 6,
      "metadata": {
        "colab": {
          "base_uri": "https://localhost:8080/"
        },
        "id": "G2Srq4wbu1IW",
        "outputId": "548a6f47-af21-4af8-a432-97cf9a9c1cee"
      },
      "outputs": [
        {
          "data": {
            "text/plain": [
              "(1489, 2)"
            ]
          },
          "execution_count": 6,
          "metadata": {},
          "output_type": "execute_result"
        }
      ],
      "source": [
        "res_data.shape"
      ]
    },
    {
      "cell_type": "code",
      "execution_count": 7,
      "metadata": {
        "id": "8tit7FldnXBk"
      },
      "outputs": [],
      "source": [
        "# 원본 코드 LSTM-pytorch_optuna_05와 다른 부분\n",
        "\n",
        "# Loockback_period & forecasting_period\n",
        "max_prediction_length = 20\n",
        "lookback_length = 100\n",
        "training_data_max = len(res_data) - max_prediction_length\n",
        "\n",
        "# 학습용 데이터\n",
        "data_p = res_data.iloc[:training_data_max, :]\n",
        "training_data = scaler.fit_transform(data_p[scale_cols])"
      ]
    },
    {
      "cell_type": "code",
      "execution_count": 8,
      "metadata": {
        "colab": {
          "base_uri": "https://localhost:8080/"
        },
        "id": "Ni62h_LquvF5",
        "outputId": "3a5c287d-d47b-4ef5-ae27-fa449dd4066f"
      },
      "outputs": [
        {
          "data": {
            "text/plain": [
              "1469"
            ]
          },
          "execution_count": 8,
          "metadata": {},
          "output_type": "execute_result"
        }
      ],
      "source": [
        "training_data_max"
      ]
    },
    {
      "cell_type": "code",
      "execution_count": 9,
      "metadata": {
        "colab": {
          "base_uri": "https://localhost:8080/"
        },
        "id": "EBGkWALXuFwk",
        "outputId": "33301ea3-1934-4ea3-dc1d-2745cb0ff15e"
      },
      "outputs": [
        {
          "data": {
            "text/plain": [
              "(1469, 2)"
            ]
          },
          "execution_count": 9,
          "metadata": {},
          "output_type": "execute_result"
        }
      ],
      "source": [
        "data_p.shape"
      ]
    },
    {
      "cell_type": "code",
      "execution_count": 10,
      "metadata": {
        "colab": {
          "base_uri": "https://localhost:8080/",
          "height": 424
        },
        "id": "0NvGypmuuLAV",
        "outputId": "f94c0acf-4c86-477e-c9b6-00428391bd7b"
      },
      "outputs": [
        {
          "data": {
            "text/html": [
              "<div>\n",
              "<style scoped>\n",
              "    .dataframe tbody tr th:only-of-type {\n",
              "        vertical-align: middle;\n",
              "    }\n",
              "\n",
              "    .dataframe tbody tr th {\n",
              "        vertical-align: top;\n",
              "    }\n",
              "\n",
              "    .dataframe thead th {\n",
              "        text-align: right;\n",
              "    }\n",
              "</style>\n",
              "<table border=\"1\" class=\"dataframe\">\n",
              "  <thead>\n",
              "    <tr style=\"text-align: right;\">\n",
              "      <th></th>\n",
              "      <th>Date</th>\n",
              "      <th>REV OBD</th>\n",
              "    </tr>\n",
              "  </thead>\n",
              "  <tbody>\n",
              "    <tr>\n",
              "      <th>0</th>\n",
              "      <td>2016-01-04</td>\n",
              "      <td>28000</td>\n",
              "    </tr>\n",
              "    <tr>\n",
              "      <th>1</th>\n",
              "      <td>2016-01-05</td>\n",
              "      <td>24657</td>\n",
              "    </tr>\n",
              "    <tr>\n",
              "      <th>2</th>\n",
              "      <td>2016-01-06</td>\n",
              "      <td>26920</td>\n",
              "    </tr>\n",
              "    <tr>\n",
              "      <th>3</th>\n",
              "      <td>2016-01-07</td>\n",
              "      <td>26624</td>\n",
              "    </tr>\n",
              "    <tr>\n",
              "      <th>4</th>\n",
              "      <td>2016-01-08</td>\n",
              "      <td>28879</td>\n",
              "    </tr>\n",
              "    <tr>\n",
              "      <th>...</th>\n",
              "      <td>...</td>\n",
              "      <td>...</td>\n",
              "    </tr>\n",
              "    <tr>\n",
              "      <th>1464</th>\n",
              "      <td>2020-01-07</td>\n",
              "      <td>24716</td>\n",
              "    </tr>\n",
              "    <tr>\n",
              "      <th>1465</th>\n",
              "      <td>2020-01-08</td>\n",
              "      <td>26562</td>\n",
              "    </tr>\n",
              "    <tr>\n",
              "      <th>1466</th>\n",
              "      <td>2020-01-09</td>\n",
              "      <td>26855</td>\n",
              "    </tr>\n",
              "    <tr>\n",
              "      <th>1467</th>\n",
              "      <td>2020-01-10</td>\n",
              "      <td>31204</td>\n",
              "    </tr>\n",
              "    <tr>\n",
              "      <th>1468</th>\n",
              "      <td>2020-01-11</td>\n",
              "      <td>32338</td>\n",
              "    </tr>\n",
              "  </tbody>\n",
              "</table>\n",
              "<p>1469 rows × 2 columns</p>\n",
              "</div>"
            ],
            "text/plain": [
              "           Date  REV OBD\n",
              "0    2016-01-04    28000\n",
              "1    2016-01-05    24657\n",
              "2    2016-01-06    26920\n",
              "3    2016-01-07    26624\n",
              "4    2016-01-08    28879\n",
              "...         ...      ...\n",
              "1464 2020-01-07    24716\n",
              "1465 2020-01-08    26562\n",
              "1466 2020-01-09    26855\n",
              "1467 2020-01-10    31204\n",
              "1468 2020-01-11    32338\n",
              "\n",
              "[1469 rows x 2 columns]"
            ]
          },
          "execution_count": 10,
          "metadata": {},
          "output_type": "execute_result"
        }
      ],
      "source": [
        "data_p"
      ]
    },
    {
      "cell_type": "markdown",
      "metadata": {
        "id": "gJpfyfnAecjR"
      },
      "source": [
        "#### Metric 생성을 위한 oot sample 정의 (원본 코드 LSTM-pytorch_optuna_05와 다른 부분)\n"
      ]
    },
    {
      "cell_type": "code",
      "execution_count": 12,
      "metadata": {
        "id": "SytPlWa-mchZ"
      },
      "outputs": [
        {
          "name": "stdout",
          "output_type": "stream",
          "text": [
            "pred_x_start =  2019-12-03\n",
            "pred_x_end =  2020-01-31\n",
            "x_for_metric [[0.15122259]\n",
            " [0.21618695]\n",
            " [0.38933502]]\n",
            "y_for_metric [[1.        ]\n",
            " [0.78841891]\n",
            " [0.65602554]]\n"
          ]
        }
      ],
      "source": [
        "# max_prediction_length 만큼의 데이터는 예측 데이터와 비교를 위해 분리\n",
        "# Training set에 없는 데이터로 구성\n",
        "# Input과 output의 pair로 정의\n",
        "# Input과 output의 pair로 정의\n",
        "from datetime import datetime, timedelta\n",
        "pred_start = '2020-02-01'\n",
        "pred_end = '2020-02-20'\n",
        "pred_y_start = pred_start\n",
        "pred_y_end = pred_end\n",
        "\n",
        "pred_x_start = datetime.strftime(datetime.strptime(pred_start, '%Y-%m-%d') - timedelta( days = 60), '%Y-%m-%d')\n",
        "pred_x_end =datetime.strftime(datetime.strptime(pred_start, '%Y-%m-%d') - timedelta( days = 1), '%Y-%m-%d')\n",
        "print('pred_x_start = ', pred_x_start)\n",
        "print('pred_x_end = ', pred_x_end)\n",
        "\n",
        "\n",
        "x_for_metric = scaler.fit_transform(data[data[\"Date\"].isin(pd.date_range(pred_x_start, pred_x_end))][scale_cols])\n",
        "y_for_metric = scaler.fit_transform(data[data[\"Date\"].isin(pd.date_range(pred_y_start, pred_y_end))][scale_cols])\n",
        "\n",
        "# x_for_metric['time_index'] = np.arange(len(x_for_metric))\n",
        "# x_for_metric['market'] = 'OBD'\n",
        "print('x_for_metric', x_for_metric[:3])\n",
        "print('y_for_metric', y_for_metric[:3])"
      ]
    },
    {
      "cell_type": "code",
      "execution_count": 13,
      "metadata": {
        "colab": {
          "base_uri": "https://localhost:8080/"
        },
        "id": "n-8rqEFzwVzN",
        "outputId": "c7d675d7-41b8-4753-bc65-02d502c2ae88"
      },
      "outputs": [
        {
          "data": {
            "text/plain": [
              "(60, 1)"
            ]
          },
          "execution_count": 13,
          "metadata": {},
          "output_type": "execute_result"
        }
      ],
      "source": [
        "x_for_metric.shape"
      ]
    },
    {
      "cell_type": "code",
      "execution_count": 14,
      "metadata": {
        "colab": {
          "base_uri": "https://localhost:8080/"
        },
        "id": "-3ruST9FwVvk",
        "outputId": "59c61112-609b-4548-db5f-d257bca631c4"
      },
      "outputs": [
        {
          "data": {
            "text/plain": [
              "(20, 1)"
            ]
          },
          "execution_count": 14,
          "metadata": {},
          "output_type": "execute_result"
        }
      ],
      "source": [
        "y_for_metric.shape"
      ]
    },
    {
      "cell_type": "code",
      "execution_count": 15,
      "metadata": {
        "id": "ppgysLUiecjS"
      },
      "outputs": [],
      "source": [
        "# LSTM은 1 step 뒤의 값만을 예측하므로, forecasting_period를 1로 두고 진행\n",
        "x, y = sliding_windows(training_data, lookback_length, 1)"
      ]
    },
    {
      "cell_type": "markdown",
      "metadata": {
        "id": "V0azZI1tecjT"
      },
      "source": [
        "### Model 정의"
      ]
    },
    {
      "cell_type": "code",
      "execution_count": 16,
      "metadata": {
        "id": "C9eplEkh3hvw"
      },
      "outputs": [],
      "source": [
        "# 원본 코드 LSTM-pytorch_optuna_05와 다른 부분\n",
        "\n",
        "class LSTM(nn.Module):\n",
        "    def __init__(self, num_classes, input_size, hidden_size, num_layers):\n",
        "        super(LSTM, self).__init__()\n",
        "        self.num_classes = num_classes\n",
        "        self.num_layers = num_layers\n",
        "        self.input_size = input_size\n",
        "        self.hidden_size = hidden_size\n",
        "        \n",
        "        self.lstm = nn.LSTM(input_size = input_size, hidden_size = hidden_size,\n",
        "                            num_layers = num_layers, batch_first = True)\n",
        "        \n",
        "        self.fc = nn.Linear(hidden_size  * num_layers, num_classes)\n",
        "        \n",
        "    def forward(self, x):\n",
        "        h_0 = Variable(torch.zeros(self.num_layers, x.size(0), self.hidden_size, device = x.device))\n",
        "        c_0 = Variable(torch.zeros(self.num_layers, x.size(0), self.hidden_size, device = x.device))\n",
        "        \n",
        "        # Propagate input through LSTM\n",
        "        ula, (h_out, _) = self.lstm(x, (h_0, c_0))\n",
        "        h_out = h_out.view(-1, self.hidden_size * self.num_layers)\n",
        "        out = self.fc(h_out)\n",
        "        return out"
      ]
    },
    {
      "cell_type": "code",
      "execution_count": 17,
      "metadata": {
        "id": "3_IBkQhZ4CpP"
      },
      "outputs": [],
      "source": [
        "def train(log_interval, model, train_dl, val_dl, optimizer, criterion, epoch):\n",
        "\n",
        "    best_loss = np.inf\n",
        "    for epoch in range(epoch):\n",
        "        train_loss = 0.0\n",
        "        model.train()\n",
        "        for data, target in train_dl:\n",
        "\n",
        "            if False:\n",
        "                data, target = data.cuda(), target.cuda()\n",
        "                model = model.cuda()\n",
        "\n",
        "            optimizer.zero_grad()\n",
        "            output = model(data)\n",
        "            loss = criterion(output, target) # mean-squared error for regression\n",
        "            loss.backward()\n",
        "            optimizer.step()\n",
        "            train_loss += loss.item()\n",
        "\n",
        "        # validation\n",
        "        valid_loss = 0.0\n",
        "        model.eval()\n",
        "        for data, target in val_dl:\n",
        "\n",
        "            if False:\n",
        "                data, target = data.cuda(), target.cuda()\n",
        "\n",
        "            output = model(data)         \n",
        "            loss = criterion(output, target)\n",
        "            valid_loss += loss.item()\n",
        "\n",
        "        if ( epoch % log_interval == 0 ):\n",
        "            print(f'\\n Epoch {epoch} \\t Training Loss: {train_loss / len(train_dl)} \\t Validation Loss: {valid_loss / len(val_dl)} \\n')\n",
        "\n",
        "        if best_loss > (valid_loss / len(val_dl)):\n",
        "            print(f'Validation Loss Decreased({best_loss:.6f}--->{(valid_loss / len(val_dl)):.6f}) \\t Saving The Model')\n",
        "            best_loss = (valid_loss / len(val_dl))\n",
        "            torch.save(model.state_dict(), 'lstm_saved_model.pth')\n",
        "\n",
        "    return best_loss\n"
      ]
    },
    {
      "cell_type": "code",
      "execution_count": 25,
      "metadata": {
        "id": "im6B6rzG4ClH"
      },
      "outputs": [],
      "source": [
        "def objective(trial):\n",
        "\n",
        "    cfg = { \n",
        "            'batch_size' : trial.suggest_categorical('batch_size',[32, 64, 128, 256, 512]), # [64, 128, 256],\n",
        "            # 'num_epochs' : trial.suggest_int('num_epochs', 5, 50, 5),\n",
        "            'learning_rate' : trial.suggest_loguniform('learning_rate', 1e-3, 1e-1), #trial.suggest_loguniform('learning_rate', 1e-2, 1e-1), # learning rate을 0.01-0.1까지 로그 uniform 분포로 사용\n",
        "            'hidden_size': trial.suggest_categorical('hidden_size',[32, 64]), # , 128, 256, 512\n",
        "            'num_layers': trial.suggest_int('num_layers', 1, 7, 1),       \n",
        "        }\n",
        "\n",
        "    torch.manual_seed(42)\n",
        "\n",
        "    log_interval = 5\n",
        "    num_classes = 1 # parameter에서 빼서 상수로 설정\n",
        "\n",
        "    train_dl, val_dl, input_size = get_data_loader(x, y,  cfg['batch_size'])\n",
        "    \n",
        "    model = LSTM(\n",
        "        num_classes = num_classes, \n",
        "        input_size = input_size, \n",
        "        hidden_size = cfg['hidden_size'], \n",
        "        num_layers = cfg['num_layers']\n",
        "    )\n",
        "    \n",
        "    if False:\n",
        "        model = model.cuda()\n",
        "        \n",
        "    optimizer = optim.Adam(model.parameters(), lr=cfg['learning_rate'])\n",
        "    criterion = torch.nn.MSELoss()\n",
        "    best_loss = train(log_interval, model, train_dl, val_dl, optimizer, criterion, 5)\n",
        "\n",
        "    print('best loss for the trial = ', best_loss)\n",
        "    predict_data = []\n",
        "    # 여기서 x는 (sample, lookback_length, 1)의 크기를 지님. 따라서, 제일 앞의 시점을 제거하려면, x[:, -1, :]이 되어야 함\n",
        "    x_pred = np.expand_dims(x_for_metric, 0)  # Inference에 사용할 lookback data를 x_pred로 지정. 앞으로 x_pred를 하나씩 옮겨 가면서 inference를 할 예정\n",
        "\n",
        "    for j, i in enumerate(range(max_prediction_length)):\n",
        "\n",
        "        # feed the last forecast back to the model as an input\n",
        "        x_pred = np.append( x_pred[:, 1:, :], np.expand_dims(y_for_metric[j, :], (0,2)), axis=1)\n",
        "        xt_pred = torch.Tensor(x_pred)\n",
        "\n",
        "        if False:\n",
        "            xt_pred = xt_pred.cuda()\n",
        "        # generate the next forecast\n",
        "        yt_pred = model(xt_pred)\n",
        "        # tensor to array\n",
        "        # x_pred = xt_pred.cpu().detach().numpy()\n",
        "        y_pred = yt_pred.cpu().detach().numpy()\n",
        "\n",
        "        # save the forecast\n",
        "        predict_data.append(y_pred)\n",
        "\n",
        "    # transform the forecasts back to the original scale\n",
        "    predict_data = np.array(predict_data).reshape(-1, 1)\n",
        "    \n",
        "    print('predicted = ', predict_data[-10:])\n",
        "    print('actual = ', y_for_metric[-10:])\n",
        "\n",
        "    print('SMAPE = ', SMAPE)\n",
        "    _smape = np.mean(2*(abs(y_for_metric - predict_data) / (abs(y_for_metric) + abs(predict_data))))\n",
        "    \n",
        "    print(f' \\nSMAPE : {_smape}')\n",
        "\n",
        "\n",
        "    return _smape"
      ]
    },
    {
      "cell_type": "code",
      "execution_count": 26,
      "metadata": {
        "colab": {
          "base_uri": "https://localhost:8080/"
        },
        "id": "LDfe0XmG4ChP",
        "outputId": "45e579e9-22cf-434b-b469-5574c7c65dc1"
      },
      "outputs": [
        {
          "name": "stderr",
          "output_type": "stream",
          "text": [
            "\u001b[32m[I 2022-06-23 11:29:04,313]\u001b[0m A new study created in memory with name: no-name-a26719ec-e38e-47d0-b370-64c38fcd258a\u001b[0m\n"
          ]
        },
        {
          "name": "stdout",
          "output_type": "stream",
          "text": [
            "\n",
            " Epoch 0 \t Training Loss: 0.04183424599468708 \t Validation Loss: 0.019451656999687355 \n",
            "\n",
            "Validation Loss Decreased(inf--->0.019452) \t Saving The Model\n",
            "Validation Loss Decreased(0.019452--->0.017631) \t Saving The Model\n",
            "Validation Loss Decreased(0.017631--->0.017296) \t Saving The Model\n",
            "Validation Loss Decreased(0.017296--->0.017277) \t Saving The Model\n",
            "best loss for the trial =  0.017277449886831973\n"
          ]
        },
        {
          "name": "stderr",
          "output_type": "stream",
          "text": [
            "\u001b[33m[W 2022-06-23 11:30:18,754]\u001b[0m Trial 0 failed, because the value array([[0.98760382],\n",
            "       [0.80135129],\n",
            "       [0.65136044],\n",
            "       [0.36555559],\n",
            "       [0.35807498],\n",
            "       [0.1808104 ],\n",
            "       [0.55391763],\n",
            "       [0.41867771],\n",
            "       [0.32762872],\n",
            "       [0.24202368],\n",
            "       [0.64374948],\n",
            "       [0.1858385 ],\n",
            "       [0.48748516],\n",
            "       [0.1657117 ],\n",
            "       [0.13457899],\n",
            "       [0.15139588],\n",
            "       [0.32968391],\n",
            "       [2.        ],\n",
            "       [0.99917495],\n",
            "       [1.85758069]]) could not be cast to float.\u001b[0m\n"
          ]
        },
        {
          "name": "stdout",
          "output_type": "stream",
          "text": [
            "predicted =  [[0.3154639 ]\n",
            " [0.3167913 ]\n",
            " [0.31471592]\n",
            " [0.32010084]\n",
            " [0.32090485]\n",
            " [0.3182711 ]\n",
            " [0.3162536 ]\n",
            " [0.3086599 ]\n",
            " [0.31011367]\n",
            " [0.30744153]]\n",
            "actual =  [[0.16183382]\n",
            " [0.26292454]\n",
            " [0.19136295]\n",
            " [0.37793739]\n",
            " [0.36720759]\n",
            " [0.27347699]\n",
            " [0.2267447 ]\n",
            " [0.        ]\n",
            " [0.10348497]\n",
            " [0.01135054]]\n",
            "SMAPE =  <class 'pytorch_forecasting.metrics.point.SMAPE'>\n",
            " \n",
            "SMAPE : [[0.98760382]\n",
            " [0.80135129]\n",
            " [0.65136044]\n",
            " [0.36555559]\n",
            " [0.35807498]\n",
            " [0.1808104 ]\n",
            " [0.55391763]\n",
            " [0.41867771]\n",
            " [0.32762872]\n",
            " [0.24202368]\n",
            " [0.64374948]\n",
            " [0.1858385 ]\n",
            " [0.48748516]\n",
            " [0.1657117 ]\n",
            " [0.13457899]\n",
            " [0.15139588]\n",
            " [0.32968391]\n",
            " [2.        ]\n",
            " [0.99917495]\n",
            " [1.85758069]]\n",
            "\n",
            " Epoch 0 \t Training Loss: 1.0761222293334347 \t Validation Loss: 0.05589917219347424 \n",
            "\n",
            "Validation Loss Decreased(inf--->0.055899) \t Saving The Model\n",
            "Validation Loss Decreased(0.055899--->0.025690) \t Saving The Model\n"
          ]
        }
      ],
      "source": [
        "sampler = optuna.samplers.TPESampler()\n",
        "#   sampler = optuna.samplers.SkoptSampler()\n",
        "\n",
        "# model.load_state_dict(torch.load('lstm_saved_model.pth'))\n",
        "    \n",
        "study = optuna.create_study(sampler=sampler, direction='minimize')\n",
        "study.optimize(objective, n_trials= 7)\n",
        "joblib.dump(study, './LSTM_pytorch_optuna_06.pkl')"
      ]
    },
    {
      "cell_type": "code",
      "execution_count": null,
      "metadata": {
        "colab": {
          "base_uri": "https://localhost:8080/",
          "height": 434
        },
        "id": "FqV0d659ecjX",
        "outputId": "66f5279b-f06c-4158-afad-f7c5c2caf92d"
      },
      "outputs": [
        {
          "data": {
            "text/html": [
              "\n",
              "  <div id=\"df-1d0f62b1-42fe-43d7-8156-9eae39c7867c\">\n",
              "    <div class=\"colab-df-container\">\n",
              "      <div>\n",
              "<style scoped>\n",
              "    .dataframe tbody tr th:only-of-type {\n",
              "        vertical-align: middle;\n",
              "    }\n",
              "\n",
              "    .dataframe tbody tr th {\n",
              "        vertical-align: top;\n",
              "    }\n",
              "\n",
              "    .dataframe thead th {\n",
              "        text-align: right;\n",
              "    }\n",
              "</style>\n",
              "<table border=\"1\" class=\"dataframe\">\n",
              "  <thead>\n",
              "    <tr style=\"text-align: right;\">\n",
              "      <th></th>\n",
              "      <th>number</th>\n",
              "      <th>value</th>\n",
              "      <th>datetime_start</th>\n",
              "      <th>datetime_complete</th>\n",
              "      <th>duration</th>\n",
              "      <th>params_batch_size</th>\n",
              "      <th>params_hidden_size</th>\n",
              "      <th>params_learning_rate</th>\n",
              "      <th>params_num_epochs</th>\n",
              "      <th>params_num_layers</th>\n",
              "      <th>state</th>\n",
              "    </tr>\n",
              "  </thead>\n",
              "  <tbody>\n",
              "    <tr>\n",
              "      <th>5</th>\n",
              "      <td>5</td>\n",
              "      <td>64.258700</td>\n",
              "      <td>2022-06-22 11:35:30.269737</td>\n",
              "      <td>2022-06-22 11:35:43.250624</td>\n",
              "      <td>0 days 00:00:12.980887</td>\n",
              "      <td>32</td>\n",
              "      <td>32</td>\n",
              "      <td>0.052172</td>\n",
              "      <td>25</td>\n",
              "      <td>4</td>\n",
              "      <td>COMPLETE</td>\n",
              "    </tr>\n",
              "    <tr>\n",
              "      <th>0</th>\n",
              "      <td>0</td>\n",
              "      <td>65.264598</td>\n",
              "      <td>2022-06-22 11:33:58.832678</td>\n",
              "      <td>2022-06-22 11:34:19.662926</td>\n",
              "      <td>0 days 00:00:20.830248</td>\n",
              "      <td>128</td>\n",
              "      <td>128</td>\n",
              "      <td>0.003809</td>\n",
              "      <td>45</td>\n",
              "      <td>2</td>\n",
              "      <td>COMPLETE</td>\n",
              "    </tr>\n",
              "    <tr>\n",
              "      <th>3</th>\n",
              "      <td>3</td>\n",
              "      <td>66.497066</td>\n",
              "      <td>2022-06-22 11:35:16.333515</td>\n",
              "      <td>2022-06-22 11:35:18.986343</td>\n",
              "      <td>0 days 00:00:02.652828</td>\n",
              "      <td>512</td>\n",
              "      <td>32</td>\n",
              "      <td>0.025897</td>\n",
              "      <td>50</td>\n",
              "      <td>3</td>\n",
              "      <td>COMPLETE</td>\n",
              "    </tr>\n",
              "    <tr>\n",
              "      <th>2</th>\n",
              "      <td>2</td>\n",
              "      <td>67.335145</td>\n",
              "      <td>2022-06-22 11:35:10.961908</td>\n",
              "      <td>2022-06-22 11:35:16.331743</td>\n",
              "      <td>0 days 00:00:05.369835</td>\n",
              "      <td>256</td>\n",
              "      <td>256</td>\n",
              "      <td>0.006021</td>\n",
              "      <td>45</td>\n",
              "      <td>1</td>\n",
              "      <td>COMPLETE</td>\n",
              "    </tr>\n",
              "    <tr>\n",
              "      <th>1</th>\n",
              "      <td>1</td>\n",
              "      <td>71.487864</td>\n",
              "      <td>2022-06-22 11:34:19.666222</td>\n",
              "      <td>2022-06-22 11:35:10.960080</td>\n",
              "      <td>0 days 00:00:51.293858</td>\n",
              "      <td>512</td>\n",
              "      <td>512</td>\n",
              "      <td>0.066099</td>\n",
              "      <td>50</td>\n",
              "      <td>5</td>\n",
              "      <td>COMPLETE</td>\n",
              "    </tr>\n",
              "    <tr>\n",
              "      <th>4</th>\n",
              "      <td>4</td>\n",
              "      <td>80.762639</td>\n",
              "      <td>2022-06-22 11:35:18.988171</td>\n",
              "      <td>2022-06-22 11:35:30.267761</td>\n",
              "      <td>0 days 00:00:11.279590</td>\n",
              "      <td>64</td>\n",
              "      <td>32</td>\n",
              "      <td>0.012539</td>\n",
              "      <td>25</td>\n",
              "      <td>6</td>\n",
              "      <td>COMPLETE</td>\n",
              "    </tr>\n",
              "    <tr>\n",
              "      <th>6</th>\n",
              "      <td>6</td>\n",
              "      <td>80.906707</td>\n",
              "      <td>2022-06-22 11:35:43.254234</td>\n",
              "      <td>2022-06-22 11:36:40.391254</td>\n",
              "      <td>0 days 00:00:57.137020</td>\n",
              "      <td>64</td>\n",
              "      <td>512</td>\n",
              "      <td>0.005986</td>\n",
              "      <td>35</td>\n",
              "      <td>5</td>\n",
              "      <td>COMPLETE</td>\n",
              "    </tr>\n",
              "  </tbody>\n",
              "</table>\n",
              "</div>\n",
              "      <button class=\"colab-df-convert\" onclick=\"convertToInteractive('df-1d0f62b1-42fe-43d7-8156-9eae39c7867c')\"\n",
              "              title=\"Convert this dataframe to an interactive table.\"\n",
              "              style=\"display:none;\">\n",
              "        \n",
              "  <svg xmlns=\"http://www.w3.org/2000/svg\" height=\"24px\"viewBox=\"0 0 24 24\"\n",
              "       width=\"24px\">\n",
              "    <path d=\"M0 0h24v24H0V0z\" fill=\"none\"/>\n",
              "    <path d=\"M18.56 5.44l.94 2.06.94-2.06 2.06-.94-2.06-.94-.94-2.06-.94 2.06-2.06.94zm-11 1L8.5 8.5l.94-2.06 2.06-.94-2.06-.94L8.5 2.5l-.94 2.06-2.06.94zm10 10l.94 2.06.94-2.06 2.06-.94-2.06-.94-.94-2.06-.94 2.06-2.06.94z\"/><path d=\"M17.41 7.96l-1.37-1.37c-.4-.4-.92-.59-1.43-.59-.52 0-1.04.2-1.43.59L10.3 9.45l-7.72 7.72c-.78.78-.78 2.05 0 2.83L4 21.41c.39.39.9.59 1.41.59.51 0 1.02-.2 1.41-.59l7.78-7.78 2.81-2.81c.8-.78.8-2.07 0-2.86zM5.41 20L4 18.59l7.72-7.72 1.47 1.35L5.41 20z\"/>\n",
              "  </svg>\n",
              "      </button>\n",
              "      \n",
              "  <style>\n",
              "    .colab-df-container {\n",
              "      display:flex;\n",
              "      flex-wrap:wrap;\n",
              "      gap: 12px;\n",
              "    }\n",
              "\n",
              "    .colab-df-convert {\n",
              "      background-color: #E8F0FE;\n",
              "      border: none;\n",
              "      border-radius: 50%;\n",
              "      cursor: pointer;\n",
              "      display: none;\n",
              "      fill: #1967D2;\n",
              "      height: 32px;\n",
              "      padding: 0 0 0 0;\n",
              "      width: 32px;\n",
              "    }\n",
              "\n",
              "    .colab-df-convert:hover {\n",
              "      background-color: #E2EBFA;\n",
              "      box-shadow: 0px 1px 2px rgba(60, 64, 67, 0.3), 0px 1px 3px 1px rgba(60, 64, 67, 0.15);\n",
              "      fill: #174EA6;\n",
              "    }\n",
              "\n",
              "    [theme=dark] .colab-df-convert {\n",
              "      background-color: #3B4455;\n",
              "      fill: #D2E3FC;\n",
              "    }\n",
              "\n",
              "    [theme=dark] .colab-df-convert:hover {\n",
              "      background-color: #434B5C;\n",
              "      box-shadow: 0px 1px 3px 1px rgba(0, 0, 0, 0.15);\n",
              "      filter: drop-shadow(0px 1px 2px rgba(0, 0, 0, 0.3));\n",
              "      fill: #FFFFFF;\n",
              "    }\n",
              "  </style>\n",
              "\n",
              "      <script>\n",
              "        const buttonEl =\n",
              "          document.querySelector('#df-1d0f62b1-42fe-43d7-8156-9eae39c7867c button.colab-df-convert');\n",
              "        buttonEl.style.display =\n",
              "          google.colab.kernel.accessAllowed ? 'block' : 'none';\n",
              "\n",
              "        async function convertToInteractive(key) {\n",
              "          const element = document.querySelector('#df-1d0f62b1-42fe-43d7-8156-9eae39c7867c');\n",
              "          const dataTable =\n",
              "            await google.colab.kernel.invokeFunction('convertToInteractive',\n",
              "                                                     [key], {});\n",
              "          if (!dataTable) return;\n",
              "\n",
              "          const docLinkHtml = 'Like what you see? Visit the ' +\n",
              "            '<a target=\"_blank\" href=https://colab.research.google.com/notebooks/data_table.ipynb>data table notebook</a>'\n",
              "            + ' to learn more about interactive tables.';\n",
              "          element.innerHTML = '';\n",
              "          dataTable['output_type'] = 'display_data';\n",
              "          await google.colab.output.renderOutput(dataTable, element);\n",
              "          const docLink = document.createElement('div');\n",
              "          docLink.innerHTML = docLinkHtml;\n",
              "          element.appendChild(docLink);\n",
              "        }\n",
              "      </script>\n",
              "    </div>\n",
              "  </div>\n",
              "  "
            ],
            "text/plain": [
              "   number      value             datetime_start          datetime_complete  \\\n",
              "5       5  64.258700 2022-06-22 11:35:30.269737 2022-06-22 11:35:43.250624   \n",
              "0       0  65.264598 2022-06-22 11:33:58.832678 2022-06-22 11:34:19.662926   \n",
              "3       3  66.497066 2022-06-22 11:35:16.333515 2022-06-22 11:35:18.986343   \n",
              "2       2  67.335145 2022-06-22 11:35:10.961908 2022-06-22 11:35:16.331743   \n",
              "1       1  71.487864 2022-06-22 11:34:19.666222 2022-06-22 11:35:10.960080   \n",
              "4       4  80.762639 2022-06-22 11:35:18.988171 2022-06-22 11:35:30.267761   \n",
              "6       6  80.906707 2022-06-22 11:35:43.254234 2022-06-22 11:36:40.391254   \n",
              "\n",
              "                duration  params_batch_size  params_hidden_size  \\\n",
              "5 0 days 00:00:12.980887                 32                  32   \n",
              "0 0 days 00:00:20.830248                128                 128   \n",
              "3 0 days 00:00:02.652828                512                  32   \n",
              "2 0 days 00:00:05.369835                256                 256   \n",
              "1 0 days 00:00:51.293858                512                 512   \n",
              "4 0 days 00:00:11.279590                 64                  32   \n",
              "6 0 days 00:00:57.137020                 64                 512   \n",
              "\n",
              "   params_learning_rate  params_num_epochs  params_num_layers     state  \n",
              "5              0.052172                 25                  4  COMPLETE  \n",
              "0              0.003809                 45                  2  COMPLETE  \n",
              "3              0.025897                 50                  3  COMPLETE  \n",
              "2              0.006021                 45                  1  COMPLETE  \n",
              "1              0.066099                 50                  5  COMPLETE  \n",
              "4              0.012539                 25                  6  COMPLETE  \n",
              "6              0.005986                 35                  5  COMPLETE  "
            ]
          },
          "execution_count": 23,
          "metadata": {},
          "output_type": "execute_result"
        }
      ],
      "source": [
        "study = joblib.load('./LSTM_pytorch_optuna_06.pkl') \n",
        "df = study.trials_dataframe() \n",
        "df.sort_values('value')"
      ]
    },
    {
      "cell_type": "code",
      "execution_count": null,
      "metadata": {
        "colab": {
          "base_uri": "https://localhost:8080/"
        },
        "id": "vfNBpfq07pOe",
        "outputId": "42c51d34-f168-4bac-a30a-7a83481976cc"
      },
      "outputs": [
        {
          "data": {
            "text/plain": [
              "{'batch_size': 32,\n",
              " 'hidden_size': 32,\n",
              " 'learning_rate': 0.05217185390739443,\n",
              " 'num_epochs': 25,\n",
              " 'num_layers': 4}"
            ]
          },
          "execution_count": 24,
          "metadata": {},
          "output_type": "execute_result"
        }
      ],
      "source": [
        "study.best_params"
      ]
    },
    {
      "cell_type": "code",
      "execution_count": null,
      "metadata": {
        "colab": {
          "base_uri": "https://localhost:8080/"
        },
        "id": "xtNCQTnLHue3",
        "outputId": "8ba8a9c3-ad99-4953-a5b3-e8181e72799c"
      },
      "outputs": [
        {
          "name": "stdout",
          "output_type": "stream",
          "text": [
            "<class 'pandas.core.frame.DataFrame'>\n",
            "Int64Index: 100 entries, 1389 to 1488\n",
            "Data columns (total 2 columns):\n",
            " #   Column   Non-Null Count  Dtype         \n",
            "---  ------   --------------  -----         \n",
            " 0   Date     100 non-null    datetime64[ns]\n",
            " 1   REV OBD  100 non-null    float64       \n",
            "dtypes: datetime64[ns](1), float64(1)\n",
            "memory usage: 2.3 KB\n"
          ]
        }
      ],
      "source": [
        "# 실제 예측하려는 target 구간의 max_encoder_length : 100일 \n",
        "test_data = res_data[res_data[\"Date\"].isin(pd.date_range('2019-10-24', '2020-01-31'))]\n",
        "test_data.info()"
      ]
    },
    {
      "cell_type": "code",
      "execution_count": null,
      "metadata": {
        "colab": {
          "base_uri": "https://localhost:8080/"
        },
        "id": "ZtrAGWjRH1wd",
        "outputId": "76f7036f-af2e-44c7-da64-ba70d8cd0125"
      },
      "outputs": [
        {
          "data": {
            "text/plain": [
              "(100, 2)"
            ]
          },
          "execution_count": 28,
          "metadata": {},
          "output_type": "execute_result"
        }
      ],
      "source": [
        "test_data.shape"
      ]
    },
    {
      "cell_type": "code",
      "execution_count": null,
      "metadata": {
        "colab": {
          "base_uri": "https://localhost:8080/"
        },
        "id": "DOyR0jZc6y8f",
        "outputId": "396e3f28-e7bb-4b51-af22-c020feee427f"
      },
      "outputs": [
        {
          "ename": "NameError",
          "evalue": "name 'torch' is not defined",
          "output_type": "error",
          "traceback": [
            "\u001b[0;31m---------------------------------------------------------------------------\u001b[0m",
            "\u001b[0;31mNameError\u001b[0m                                 Traceback (most recent call last)",
            "\u001b[1;32m/home/kyle/tmp_lecture/yongseong-test/LSTM_pytorch_optuna_06.ipynb Cell 1'\u001b[0m in \u001b[0;36m<cell line: 1>\u001b[0;34m()\u001b[0m\n\u001b[0;32m----> <a href='vscode-notebook-cell://ssh-remote%2Bkookmin/home/kyle/tmp_lecture/yongseong-test/LSTM_pytorch_optuna_06.ipynb#ch0000000vscode-remote?line=0'>1</a>\u001b[0m torch\u001b[39m.\u001b[39mmanual_seed(\u001b[39m42\u001b[39m)\n\u001b[1;32m      <a href='vscode-notebook-cell://ssh-remote%2Bkookmin/home/kyle/tmp_lecture/yongseong-test/LSTM_pytorch_optuna_06.ipynb#ch0000000vscode-remote?line=2'>3</a>\u001b[0m log_interval \u001b[39m=\u001b[39m \u001b[39m5\u001b[39m\n\u001b[1;32m      <a href='vscode-notebook-cell://ssh-remote%2Bkookmin/home/kyle/tmp_lecture/yongseong-test/LSTM_pytorch_optuna_06.ipynb#ch0000000vscode-remote?line=3'>4</a>\u001b[0m num_classes \u001b[39m=\u001b[39m \u001b[39m1\u001b[39m \u001b[39m# parameter에서 빼서 상수로 설정\u001b[39;00m\n",
            "\u001b[0;31mNameError\u001b[0m: name 'torch' is not defined"
          ]
        }
      ],
      "source": [
        "torch.manual_seed(42)\n",
        "\n",
        "log_interval = 5\n",
        "num_classes = 1 # parameter에서 빼서 상수로 설정\n",
        "\n",
        "train_dl, val_dl, input_size = get_data_loader(x, y,  study.best_params['batch_size'])\n",
        "\n",
        "model = LSTM(\n",
        "    num_classes = num_classes, \n",
        "    input_size = input_size, \n",
        "    hidden_size = study.best_params['hidden_size'], \n",
        "    num_layers = study.best_params['num_layers']\n",
        ")\n",
        "\n",
        "if torch.cuda.is_available():\n",
        "    model = model.cuda()\n",
        "    \n",
        "optimizer = optim.Adam(model.parameters(), lr=study.best_params['learning_rate'])\n",
        "criterion = torch.nn.MSELoss()\n",
        "best_loss = train(log_interval, model, train_dl, val_dl, optimizer, criterion, study.best_params['num_epochs'])\n",
        "\n",
        "print('best loss for the trial = ', best_loss)\n",
        "predict_data = []\n",
        "# 여기서 x는 (sample, lookback_length, 1)의 크기를 지님. 따라서, 제일 앞의 시점을 제거하려면, x[:, -1, :]이 되어야 함\n",
        "x_pred = np.expand_dims(x_for_metric, 0)  # Inference에 사용할 lookback data를 x_pred로 지정. 앞으로 x_pred를 하나씩 옮겨 가면서 inference를 할 예정\n",
        "\n",
        "for j, i in enumerate(range(max_prediction_length)):\n",
        "\n",
        "    # feed the last forecast back to the model as an input\n",
        "    x_pred = np.append( x_pred[:, 1:, :], np.expand_dims(y_for_metric[j, :], (0,2)), axis=1)\n",
        "    xt_pred = torch.Tensor(x_pred)\n",
        "\n",
        "    if torch.cuda.is_available():\n",
        "        xt_pred = xt_pred.cuda()\n",
        "    # generate the next forecast\n",
        "    yt_pred = model(xt_pred)\n",
        "    # tensor to array\n",
        "    # x_pred = xt_pred.cpu().detach().numpy()\n",
        "    y_pred = yt_pred.cpu().detach().numpy()\n",
        "\n",
        "    # save the forecast\n",
        "    predict_data.append(y_pred)\n",
        "\n",
        "# transform the forecasts back to the original scale\n",
        "predict_data = np.array(predict_data).reshape(-1, 1)\n",
        "print('predicted = ', predict_data[-10:])\n",
        "print('actual = ', y_for_metric[-10:])\n",
        "_smape = SMAPE()(y_for_metric, predict_data)\n",
        "\n",
        "print(f' \\nSMAPE : {_smape}')"
      ]
    },
    {
      "cell_type": "code",
      "execution_count": null,
      "metadata": {
        "colab": {
          "base_uri": "https://localhost:8080/",
          "height": 374
        },
        "id": "iWdqeAuYAJxc",
        "outputId": "fb626db6-e1a3-4dcf-a832-4533917e1566"
      },
      "outputs": [
        {
          "data": {
            "text/html": [
              "\n",
              "  <div id=\"df-254aac0b-5e4a-4141-9d64-c318f3168bca\">\n",
              "    <div class=\"colab-df-container\">\n",
              "      <div>\n",
              "<style scoped>\n",
              "    .dataframe tbody tr th:only-of-type {\n",
              "        vertical-align: middle;\n",
              "    }\n",
              "\n",
              "    .dataframe tbody tr th {\n",
              "        vertical-align: top;\n",
              "    }\n",
              "\n",
              "    .dataframe thead th {\n",
              "        text-align: right;\n",
              "    }\n",
              "</style>\n",
              "<table border=\"1\" class=\"dataframe\">\n",
              "  <thead>\n",
              "    <tr style=\"text-align: right;\">\n",
              "      <th></th>\n",
              "      <th>Date</th>\n",
              "      <th>Account DOW</th>\n",
              "      <th>REV OBD</th>\n",
              "      <th>OBD NET+FSC_KRW</th>\n",
              "      <th>OBD A/R_KRW</th>\n",
              "      <th>REV CPN</th>\n",
              "      <th>CPN NET+FSC_KRW</th>\n",
              "      <th>CPN A/R_KRW</th>\n",
              "      <th>REV TKT</th>\n",
              "      <th>TKT NET+FSC_KRW</th>\n",
              "      <th>TKT A/R_KRW</th>\n",
              "      <th>WTI</th>\n",
              "      <th>exchanges</th>\n",
              "      <th>kospi</th>\n",
              "      <th>rates</th>\n",
              "      <th>stock_a</th>\n",
              "      <th>stock_k</th>\n",
              "      <th>stock_kkj</th>\n",
              "      <th>time_index</th>\n",
              "      <th>market</th>\n",
              "    </tr>\n",
              "  </thead>\n",
              "  <tbody>\n",
              "    <tr>\n",
              "      <th>1492</th>\n",
              "      <td>2020-02-01</td>\n",
              "      <td>SAT</td>\n",
              "      <td>23210.0</td>\n",
              "      <td>1.172142e+10</td>\n",
              "      <td>505015.9678</td>\n",
              "      <td>6412.0</td>\n",
              "      <td>2.781090e+09</td>\n",
              "      <td>433732.0616</td>\n",
              "      <td>3888.0</td>\n",
              "      <td>3.517716e+09</td>\n",
              "      <td>9.047624e+05</td>\n",
              "      <td>51.56</td>\n",
              "      <td>1194.5</td>\n",
              "      <td>2119.01</td>\n",
              "      <td>1.30</td>\n",
              "      <td>21763.0</td>\n",
              "      <td>15335.0</td>\n",
              "      <td>43860.0</td>\n",
              "      <td>0</td>\n",
              "      <td>OBD</td>\n",
              "    </tr>\n",
              "    <tr>\n",
              "      <th>1493</th>\n",
              "      <td>2020-02-02</td>\n",
              "      <td>SUN</td>\n",
              "      <td>20824.0</td>\n",
              "      <td>9.549017e+09</td>\n",
              "      <td>458558.2667</td>\n",
              "      <td>6049.0</td>\n",
              "      <td>2.553490e+09</td>\n",
              "      <td>422134.2552</td>\n",
              "      <td>3675.0</td>\n",
              "      <td>2.836992e+09</td>\n",
              "      <td>7.719705e+05</td>\n",
              "      <td>51.56</td>\n",
              "      <td>1194.5</td>\n",
              "      <td>2119.01</td>\n",
              "      <td>1.30</td>\n",
              "      <td>21763.0</td>\n",
              "      <td>15335.0</td>\n",
              "      <td>43860.0</td>\n",
              "      <td>1</td>\n",
              "      <td>OBD</td>\n",
              "    </tr>\n",
              "    <tr>\n",
              "      <th>1494</th>\n",
              "      <td>2020-02-03</td>\n",
              "      <td>MON</td>\n",
              "      <td>19331.0</td>\n",
              "      <td>8.695239e+09</td>\n",
              "      <td>449808.0166</td>\n",
              "      <td>17749.0</td>\n",
              "      <td>1.013166e+10</td>\n",
              "      <td>570829.9001</td>\n",
              "      <td>10027.0</td>\n",
              "      <td>1.117746e+10</td>\n",
              "      <td>1.114736e+06</td>\n",
              "      <td>50.11</td>\n",
              "      <td>1194.0</td>\n",
              "      <td>2118.88</td>\n",
              "      <td>1.29</td>\n",
              "      <td>21883.0</td>\n",
              "      <td>15659.0</td>\n",
              "      <td>44739.0</td>\n",
              "      <td>2</td>\n",
              "      <td>OBD</td>\n",
              "    </tr>\n",
              "    <tr>\n",
              "      <th>1495</th>\n",
              "      <td>2020-02-04</td>\n",
              "      <td>TUE</td>\n",
              "      <td>17277.0</td>\n",
              "      <td>7.375559e+09</td>\n",
              "      <td>426900.4457</td>\n",
              "      <td>16530.0</td>\n",
              "      <td>9.081702e+09</td>\n",
              "      <td>549407.2659</td>\n",
              "      <td>9351.0</td>\n",
              "      <td>1.003142e+10</td>\n",
              "      <td>1.072765e+06</td>\n",
              "      <td>49.61</td>\n",
              "      <td>1188.5</td>\n",
              "      <td>2157.90</td>\n",
              "      <td>1.33</td>\n",
              "      <td>22790.0</td>\n",
              "      <td>16697.0</td>\n",
              "      <td>47035.0</td>\n",
              "      <td>3</td>\n",
              "      <td>OBD</td>\n",
              "    </tr>\n",
              "    <tr>\n",
              "      <th>1496</th>\n",
              "      <td>2020-02-05</td>\n",
              "      <td>WED</td>\n",
              "      <td>17211.0</td>\n",
              "      <td>7.884009e+09</td>\n",
              "      <td>458079.6780</td>\n",
              "      <td>18526.0</td>\n",
              "      <td>1.005432e+10</td>\n",
              "      <td>542713.8500</td>\n",
              "      <td>10438.0</td>\n",
              "      <td>1.124609e+10</td>\n",
              "      <td>1.077418e+06</td>\n",
              "      <td>50.75</td>\n",
              "      <td>1184.5</td>\n",
              "      <td>2165.63</td>\n",
              "      <td>1.31</td>\n",
              "      <td>22909.0</td>\n",
              "      <td>16859.0</td>\n",
              "      <td>46937.0</td>\n",
              "      <td>4</td>\n",
              "      <td>OBD</td>\n",
              "    </tr>\n",
              "  </tbody>\n",
              "</table>\n",
              "</div>\n",
              "      <button class=\"colab-df-convert\" onclick=\"convertToInteractive('df-254aac0b-5e4a-4141-9d64-c318f3168bca')\"\n",
              "              title=\"Convert this dataframe to an interactive table.\"\n",
              "              style=\"display:none;\">\n",
              "        \n",
              "  <svg xmlns=\"http://www.w3.org/2000/svg\" height=\"24px\"viewBox=\"0 0 24 24\"\n",
              "       width=\"24px\">\n",
              "    <path d=\"M0 0h24v24H0V0z\" fill=\"none\"/>\n",
              "    <path d=\"M18.56 5.44l.94 2.06.94-2.06 2.06-.94-2.06-.94-.94-2.06-.94 2.06-2.06.94zm-11 1L8.5 8.5l.94-2.06 2.06-.94-2.06-.94L8.5 2.5l-.94 2.06-2.06.94zm10 10l.94 2.06.94-2.06 2.06-.94-2.06-.94-.94-2.06-.94 2.06-2.06.94z\"/><path d=\"M17.41 7.96l-1.37-1.37c-.4-.4-.92-.59-1.43-.59-.52 0-1.04.2-1.43.59L10.3 9.45l-7.72 7.72c-.78.78-.78 2.05 0 2.83L4 21.41c.39.39.9.59 1.41.59.51 0 1.02-.2 1.41-.59l7.78-7.78 2.81-2.81c.8-.78.8-2.07 0-2.86zM5.41 20L4 18.59l7.72-7.72 1.47 1.35L5.41 20z\"/>\n",
              "  </svg>\n",
              "      </button>\n",
              "      \n",
              "  <style>\n",
              "    .colab-df-container {\n",
              "      display:flex;\n",
              "      flex-wrap:wrap;\n",
              "      gap: 12px;\n",
              "    }\n",
              "\n",
              "    .colab-df-convert {\n",
              "      background-color: #E8F0FE;\n",
              "      border: none;\n",
              "      border-radius: 50%;\n",
              "      cursor: pointer;\n",
              "      display: none;\n",
              "      fill: #1967D2;\n",
              "      height: 32px;\n",
              "      padding: 0 0 0 0;\n",
              "      width: 32px;\n",
              "    }\n",
              "\n",
              "    .colab-df-convert:hover {\n",
              "      background-color: #E2EBFA;\n",
              "      box-shadow: 0px 1px 2px rgba(60, 64, 67, 0.3), 0px 1px 3px 1px rgba(60, 64, 67, 0.15);\n",
              "      fill: #174EA6;\n",
              "    }\n",
              "\n",
              "    [theme=dark] .colab-df-convert {\n",
              "      background-color: #3B4455;\n",
              "      fill: #D2E3FC;\n",
              "    }\n",
              "\n",
              "    [theme=dark] .colab-df-convert:hover {\n",
              "      background-color: #434B5C;\n",
              "      box-shadow: 0px 1px 3px 1px rgba(0, 0, 0, 0.15);\n",
              "      filter: drop-shadow(0px 1px 2px rgba(0, 0, 0, 0.3));\n",
              "      fill: #FFFFFF;\n",
              "    }\n",
              "  </style>\n",
              "\n",
              "      <script>\n",
              "        const buttonEl =\n",
              "          document.querySelector('#df-254aac0b-5e4a-4141-9d64-c318f3168bca button.colab-df-convert');\n",
              "        buttonEl.style.display =\n",
              "          google.colab.kernel.accessAllowed ? 'block' : 'none';\n",
              "\n",
              "        async function convertToInteractive(key) {\n",
              "          const element = document.querySelector('#df-254aac0b-5e4a-4141-9d64-c318f3168bca');\n",
              "          const dataTable =\n",
              "            await google.colab.kernel.invokeFunction('convertToInteractive',\n",
              "                                                     [key], {});\n",
              "          if (!dataTable) return;\n",
              "\n",
              "          const docLinkHtml = 'Like what you see? Visit the ' +\n",
              "            '<a target=\"_blank\" href=https://colab.research.google.com/notebooks/data_table.ipynb>data table notebook</a>'\n",
              "            + ' to learn more about interactive tables.';\n",
              "          element.innerHTML = '';\n",
              "          dataTable['output_type'] = 'display_data';\n",
              "          await google.colab.output.renderOutput(dataTable, element);\n",
              "          const docLink = document.createElement('div');\n",
              "          docLink.innerHTML = docLinkHtml;\n",
              "          element.appendChild(docLink);\n",
              "        }\n",
              "      </script>\n",
              "    </div>\n",
              "  </div>\n",
              "  "
            ],
            "text/plain": [
              "           Date Account DOW  REV OBD  OBD NET+FSC_KRW  OBD A/R_KRW  REV CPN  \\\n",
              "1492 2020-02-01         SAT  23210.0     1.172142e+10  505015.9678   6412.0   \n",
              "1493 2020-02-02         SUN  20824.0     9.549017e+09  458558.2667   6049.0   \n",
              "1494 2020-02-03         MON  19331.0     8.695239e+09  449808.0166  17749.0   \n",
              "1495 2020-02-04         TUE  17277.0     7.375559e+09  426900.4457  16530.0   \n",
              "1496 2020-02-05         WED  17211.0     7.884009e+09  458079.6780  18526.0   \n",
              "\n",
              "      CPN NET+FSC_KRW  CPN A/R_KRW  REV TKT  TKT NET+FSC_KRW   TKT A/R_KRW  \\\n",
              "1492     2.781090e+09  433732.0616   3888.0     3.517716e+09  9.047624e+05   \n",
              "1493     2.553490e+09  422134.2552   3675.0     2.836992e+09  7.719705e+05   \n",
              "1494     1.013166e+10  570829.9001  10027.0     1.117746e+10  1.114736e+06   \n",
              "1495     9.081702e+09  549407.2659   9351.0     1.003142e+10  1.072765e+06   \n",
              "1496     1.005432e+10  542713.8500  10438.0     1.124609e+10  1.077418e+06   \n",
              "\n",
              "        WTI  exchanges    kospi  rates  stock_a  stock_k  stock_kkj  \\\n",
              "1492  51.56     1194.5  2119.01   1.30  21763.0  15335.0    43860.0   \n",
              "1493  51.56     1194.5  2119.01   1.30  21763.0  15335.0    43860.0   \n",
              "1494  50.11     1194.0  2118.88   1.29  21883.0  15659.0    44739.0   \n",
              "1495  49.61     1188.5  2157.90   1.33  22790.0  16697.0    47035.0   \n",
              "1496  50.75     1184.5  2165.63   1.31  22909.0  16859.0    46937.0   \n",
              "\n",
              "      time_index market  \n",
              "1492           0    OBD  \n",
              "1493           1    OBD  \n",
              "1494           2    OBD  \n",
              "1495           3    OBD  \n",
              "1496           4    OBD  "
            ]
          },
          "execution_count": 30,
          "metadata": {},
          "output_type": "execute_result"
        }
      ],
      "source": [
        "# actual_data는 max_prediction_length에 해당하는 20일의 기간 : 실제 예측하려는 기간 (2020년 2월1일 ~ 2020년 2월 20일)\n",
        "actual_data = data[data[\"Date\"].isin(pd.date_range('2020-02-01', '2020-02-20'))]\n",
        "actual_data['time_index'] = np.arange(len(actual_data))\n",
        "actual_data['market'] = 'OBD'\n",
        "actual_data.head()"
      ]
    },
    {
      "cell_type": "code",
      "execution_count": null,
      "metadata": {
        "colab": {
          "base_uri": "https://localhost:8080/"
        },
        "id": "jNhgd-GlAQ8p",
        "outputId": "f18bde69-2081-425b-c113-7eddceb88890"
      },
      "outputs": [
        {
          "data": {
            "text/plain": [
              "1492    23210.0\n",
              "1493    20824.0\n",
              "1494    19331.0\n",
              "1495    17277.0\n",
              "1496    17211.0\n",
              "1497    16299.0\n",
              "1498    18470.0\n",
              "1499    17570.0\n",
              "1500    17037.0\n",
              "1501    16587.0\n",
              "1502    13758.0\n",
              "1503    14898.0\n",
              "1504    14091.0\n",
              "1505    16195.0\n",
              "1506    16074.0\n",
              "1507    15017.0\n",
              "1508    14490.0\n",
              "1509    11933.0\n",
              "1510    13100.0\n",
              "1511    12061.0\n",
              "Name: REV OBD, dtype: float64"
            ]
          },
          "execution_count": 31,
          "metadata": {},
          "output_type": "execute_result"
        }
      ],
      "source": [
        "# 실제 예측하려는 target prediction 구간 : 20일\n",
        "actuals = actual_data['REV OBD']\n",
        "actuals"
      ]
    },
    {
      "cell_type": "code",
      "execution_count": null,
      "metadata": {
        "colab": {
          "base_uri": "https://localhost:8080/"
        },
        "id": "T2GJ5w04AUez",
        "outputId": "0a91c527-b486-470c-cbd2-92e40df87fac"
      },
      "outputs": [
        {
          "name": "stdout",
          "output_type": "stream",
          "text": [
            "tensor([23210., 20824., 19331., 17277., 17211., 16299., 18470., 17570., 17037.,\n",
            "        16587., 13758., 14898., 14091., 16195., 16074., 15017., 14490., 11933.,\n",
            "        13100., 12061.], dtype=torch.float64)\n",
            "torch.Size([20])\n"
          ]
        }
      ],
      "source": [
        "actuals = torch.tensor(actual_data['REV OBD'].values)\n",
        "print(actuals)\n",
        "print(actuals.shape)"
      ]
    },
    {
      "cell_type": "code",
      "execution_count": null,
      "metadata": {
        "colab": {
          "base_uri": "https://localhost:8080/"
        },
        "id": "hCcwkzZxAY47",
        "outputId": "6d90dabb-cb39-4d06-bc0f-6be2a7edfea2"
      },
      "outputs": [
        {
          "name": "stdout",
          "output_type": "stream",
          "text": [
            "mae_with_baseline : 7632.35\n",
            "smape_with_baseline : 0.39083401983455535\n"
          ]
        }
      ],
      "source": [
        "baseline_predictions =  torch.tensor([data.loc[data.Date == '2020-01-31']['REV OBD'].values[0]] * len(actuals)).to(torch.float32)\n",
        "\n",
        "mae_with_baseline = (actuals - baseline_predictions).abs().mean().item()\n",
        "smape_with_baseline = (2 * (baseline_predictions - actuals).abs() / (baseline_predictions.abs() + actuals.abs() + 1e-8)).mean()\n",
        "\n",
        "print(f'mae_with_baseline : {mae_with_baseline}')\n",
        "print(f'smape_with_baseline : {smape_with_baseline}')"
      ]
    },
    {
      "cell_type": "code",
      "execution_count": null,
      "metadata": {
        "colab": {
          "base_uri": "https://localhost:8080/"
        },
        "id": "S3_z8xQTbT7j",
        "outputId": "3060cc0d-2cfc-410d-a584-918106ca71d9"
      },
      "outputs": [
        {
          "data": {
            "text/plain": [
              "tensor([23904., 23904., 23904., 23904., 23904., 23904., 23904., 23904., 23904.,\n",
              "        23904., 23904., 23904., 23904., 23904., 23904., 23904., 23904., 23904.,\n",
              "        23904., 23904.])"
            ]
          },
          "execution_count": 38,
          "metadata": {},
          "output_type": "execute_result"
        }
      ],
      "source": [
        "torch.tensor([data.loc[data.Date == '2020-01-31']['REV OBD'].values[0]] * len(actuals)).to(torch.float32)"
      ]
    },
    {
      "cell_type": "code",
      "execution_count": null,
      "metadata": {
        "colab": {
          "base_uri": "https://localhost:8080/"
        },
        "id": "sys72FgHMd2z",
        "outputId": "2d6fccfe-b3fa-4669-919c-48f9f28d3bf0"
      },
      "outputs": [
        {
          "name": "stdout",
          "output_type": "stream",
          "text": [
            "(20, 1)\n",
            "[[25458.75 ]\n",
            " [25387.09 ]\n",
            " [25091.88 ]\n",
            " [25435.121]\n",
            " [25151.662]\n",
            " [25639.234]\n",
            " [25292.557]\n",
            " [25087.676]\n",
            " [24852.074]\n",
            " [24863.977]\n",
            " [25256.951]\n",
            " [25193.934]\n",
            " [24965.936]\n",
            " [24552.059]\n",
            " [25093.479]\n",
            " [25416.496]\n",
            " [25019.54 ]\n",
            " [24737.062]\n",
            " [24675.943]\n",
            " [24816.951]]\n",
            "<class 'numpy.ndarray'>\n"
          ]
        }
      ],
      "source": [
        "predicts = scaler.inverse_transform(predict_data)\n",
        "print(predicts.shape)\n",
        "print(predicts)\n",
        "print(type(predicts))"
      ]
    },
    {
      "cell_type": "code",
      "execution_count": null,
      "metadata": {
        "colab": {
          "base_uri": "https://localhost:8080/"
        },
        "id": "hYGCzrBiCAGj",
        "outputId": "0331a97d-12aa-4a5a-aa8d-cbba208a3e0a"
      },
      "outputs": [
        {
          "data": {
            "text/plain": [
              "torch.Size([20, 1])"
            ]
          },
          "execution_count": 35,
          "metadata": {},
          "output_type": "execute_result"
        }
      ],
      "source": [
        "predicts = torch.tensor(predicts)\n",
        "predicts.shape"
      ]
    },
    {
      "cell_type": "code",
      "execution_count": null,
      "metadata": {
        "colab": {
          "base_uri": "https://localhost:8080/"
        },
        "id": "NuaLALHQTP5C",
        "outputId": "b639c966-c625-4fea-8ae3-c78fcc843a24"
      },
      "outputs": [
        {
          "name": "stdout",
          "output_type": "stream",
          "text": [
            "mae_with_test : 8827.7685546875\n",
            "smape_with_test : 874.3154316016535\n"
          ]
        }
      ],
      "source": [
        "mae_with_test = (actuals - predicts).abs().mean().item()\n",
        "smape_with_test = SMAPE()(actuals.numpy(), predicts.numpy())\n",
        "\n",
        "print(f'mae_with_test : {mae_with_test}')\n",
        "print(f'smape_with_test : {smape_with_test}')"
      ]
    },
    {
      "cell_type": "code",
      "execution_count": null,
      "metadata": {
        "id": "kuHFzcs_E9g1"
      },
      "outputs": [],
      "source": []
    },
    {
      "cell_type": "code",
      "execution_count": null,
      "metadata": {
        "colab": {
          "base_uri": "https://localhost:8080/",
          "height": 244
        },
        "id": "xS1ykF026jrf",
        "outputId": "a9a59b6b-b7d3-4c50-c91b-2bcf804253d8"
      },
      "outputs": [
        {
          "ename": "NameError",
          "evalue": "ignored",
          "output_type": "error",
          "traceback": [
            "\u001b[0;31m---------------------------------------------------------------------------\u001b[0m",
            "\u001b[0;31mNameError\u001b[0m                                 Traceback (most recent call last)",
            "\u001b[0;32m<ipython-input-37-6ec47954aaea>\u001b[0m in \u001b[0;36m<module>\u001b[0;34m()\u001b[0m\n\u001b[0;32m----> 1\u001b[0;31m \u001b[0my_train\u001b[0m\u001b[0;34m.\u001b[0m\u001b[0mshape\u001b[0m\u001b[0;34m\u001b[0m\u001b[0;34m\u001b[0m\u001b[0m\n\u001b[0m\u001b[1;32m      2\u001b[0m \u001b[0;34m\u001b[0m\u001b[0m\n\u001b[1;32m      3\u001b[0m \u001b[0mnp\u001b[0m\u001b[0;34m.\u001b[0m\u001b[0mexpand_dims\u001b[0m\u001b[0;34m(\u001b[0m\u001b[0mpred\u001b[0m\u001b[0;34m,\u001b[0m \u001b[0maxis\u001b[0m\u001b[0;34m=\u001b[0m\u001b[0;36m1\u001b[0m\u001b[0;34m)\u001b[0m\u001b[0;34m.\u001b[0m\u001b[0mshape\u001b[0m\u001b[0;34m\u001b[0m\u001b[0;34m\u001b[0m\u001b[0m\n\u001b[1;32m      4\u001b[0m \u001b[0;34m\u001b[0m\u001b[0m\n\u001b[1;32m      5\u001b[0m \u001b[0mpredicted_for_plot\u001b[0m \u001b[0;34m=\u001b[0m \u001b[0msc\u001b[0m\u001b[0;34m.\u001b[0m\u001b[0minverse_transform\u001b[0m\u001b[0;34m(\u001b[0m\u001b[0mnp\u001b[0m\u001b[0;34m.\u001b[0m\u001b[0mconcatenate\u001b[0m\u001b[0;34m(\u001b[0m\u001b[0;34m(\u001b[0m\u001b[0my_train\u001b[0m\u001b[0;34m,\u001b[0m \u001b[0mnp\u001b[0m\u001b[0;34m.\u001b[0m\u001b[0mexpand_dims\u001b[0m\u001b[0;34m(\u001b[0m\u001b[0mpred\u001b[0m\u001b[0;34m,\u001b[0m \u001b[0maxis\u001b[0m\u001b[0;34m=\u001b[0m\u001b[0;36m1\u001b[0m\u001b[0;34m)\u001b[0m\u001b[0;34m)\u001b[0m\u001b[0;34m)\u001b[0m\u001b[0;34m)\u001b[0m\u001b[0;34m\u001b[0m\u001b[0;34m\u001b[0m\u001b[0m\n",
            "\u001b[0;31mNameError\u001b[0m: name 'y_train' is not defined"
          ]
        }
      ],
      "source": [
        "y_train.shape\n",
        "\n",
        "np.expand_dims(pred, axis=1).shape\n",
        "\n",
        "predicted_for_plot = sc.inverse_transform(np.concatenate((y_train, np.expand_dims(pred, axis=1))))\n",
        "actual_for_plot = sc.inverse_transform(np.concatenate((y_train, y_test)))\n",
        "\n",
        "predicted_for_plot.shape\n",
        "\n",
        "actual_for_plot.shape\n",
        "\n",
        "plt.plot(predicted_for_plot[300:])\n",
        "plt.plot(actual_for_plot[300:])\n",
        "plt.suptitle('Timeseries Prediction')\n",
        "plt.axvline(x=y_train.shape[0]-300, c='r', linestyle='--')\n",
        "plt.show()"
      ]
    },
    {
      "cell_type": "code",
      "execution_count": null,
      "metadata": {
        "id": "_zEeT_006jom"
      },
      "outputs": [],
      "source": []
    },
    {
      "cell_type": "code",
      "execution_count": null,
      "metadata": {
        "id": "ntsiZvsU6jlR"
      },
      "outputs": [],
      "source": []
    }
  ],
  "metadata": {
    "accelerator": "GPU",
    "colab": {
      "collapsed_sections": [],
      "name": "LSTM_pytorch_optuna_06.ipynb",
      "provenance": []
    },
    "gpuClass": "standard",
    "kernelspec": {
      "display_name": "Python 3.8.3 64-bit ('pytorch-forecasting')",
      "language": "python",
      "name": "python3"
    },
    "language_info": {
      "codemirror_mode": {
        "name": "ipython",
        "version": 3
      },
      "file_extension": ".py",
      "mimetype": "text/x-python",
      "name": "python",
      "nbconvert_exporter": "python",
      "pygments_lexer": "ipython3",
      "version": "3.8.3"
    },
    "vscode": {
      "interpreter": {
        "hash": "506ce369c6fa360cedbad1755df2357c8ae382567bd96e3cfdc78c5a1777ea94"
      }
    }
  },
  "nbformat": 4,
  "nbformat_minor": 0
}
