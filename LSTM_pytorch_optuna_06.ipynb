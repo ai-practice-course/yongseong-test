{
  "cells": [
    {
      "cell_type": "code",
      "source": [
        "### '2016-01-04' ~ '2020-01-31'"
      ],
      "metadata": {
        "id": "2ZQKDACcmWTN"
      },
      "execution_count": null,
      "outputs": []
    },
    {
      "cell_type": "code",
      "source": [
        "from google.colab import drive\n",
        "drive.mount('/content/drive')"
      ],
      "metadata": {
        "id": "g9gh5z1xkist",
        "colab": {
          "base_uri": "https://localhost:8080/"
        },
        "outputId": "0e3fac4f-3ffa-4f76-cf6d-d239f54bdbc7"
      },
      "execution_count": 1,
      "outputs": [
        {
          "output_type": "stream",
          "name": "stdout",
          "text": [
            "Mounted at /content/drive\n"
          ]
        }
      ]
    },
    {
      "cell_type": "code",
      "source": [
        "pip install pytorch-lightning  "
      ],
      "metadata": {
        "id": "tUrjEthASH_V",
        "colab": {
          "base_uri": "https://localhost:8080/"
        },
        "outputId": "599945ec-50e0-4f55-9323-eb1adb3a56ba"
      },
      "execution_count": 2,
      "outputs": [
        {
          "output_type": "stream",
          "name": "stdout",
          "text": [
            "Looking in indexes: https://pypi.org/simple, https://us-python.pkg.dev/colab-wheels/public/simple/\n",
            "Collecting pytorch-lightning\n",
            "  Downloading pytorch_lightning-1.6.4-py3-none-any.whl (585 kB)\n",
            "\u001b[K     |████████████████████████████████| 585 kB 6.8 MB/s \n",
            "\u001b[?25hCollecting PyYAML>=5.4\n",
            "  Downloading PyYAML-6.0-cp37-cp37m-manylinux_2_5_x86_64.manylinux1_x86_64.manylinux_2_12_x86_64.manylinux2010_x86_64.whl (596 kB)\n",
            "\u001b[K     |████████████████████████████████| 596 kB 60.8 MB/s \n",
            "\u001b[?25hRequirement already satisfied: protobuf<=3.20.1 in /usr/local/lib/python3.7/dist-packages (from pytorch-lightning) (3.17.3)\n",
            "Collecting torchmetrics>=0.4.1\n",
            "  Downloading torchmetrics-0.9.1-py3-none-any.whl (419 kB)\n",
            "\u001b[K     |████████████████████████████████| 419 kB 66.0 MB/s \n",
            "\u001b[?25hRequirement already satisfied: tqdm>=4.57.0 in /usr/local/lib/python3.7/dist-packages (from pytorch-lightning) (4.64.0)\n",
            "Collecting fsspec[http]!=2021.06.0,>=2021.05.0\n",
            "  Downloading fsspec-2022.5.0-py3-none-any.whl (140 kB)\n",
            "\u001b[K     |████████████████████████████████| 140 kB 71.7 MB/s \n",
            "\u001b[?25hCollecting pyDeprecate>=0.3.1\n",
            "  Downloading pyDeprecate-0.3.2-py3-none-any.whl (10 kB)\n",
            "Requirement already satisfied: typing-extensions>=4.0.0 in /usr/local/lib/python3.7/dist-packages (from pytorch-lightning) (4.1.1)\n",
            "Requirement already satisfied: packaging>=17.0 in /usr/local/lib/python3.7/dist-packages (from pytorch-lightning) (21.3)\n",
            "Requirement already satisfied: torch>=1.8.* in /usr/local/lib/python3.7/dist-packages (from pytorch-lightning) (1.11.0+cu113)\n",
            "Requirement already satisfied: numpy>=1.17.2 in /usr/local/lib/python3.7/dist-packages (from pytorch-lightning) (1.21.6)\n",
            "Requirement already satisfied: tensorboard>=2.2.0 in /usr/local/lib/python3.7/dist-packages (from pytorch-lightning) (2.8.0)\n",
            "Collecting aiohttp\n",
            "  Downloading aiohttp-3.8.1-cp37-cp37m-manylinux_2_5_x86_64.manylinux1_x86_64.manylinux_2_12_x86_64.manylinux2010_x86_64.whl (1.1 MB)\n",
            "\u001b[K     |████████████████████████████████| 1.1 MB 45.0 MB/s \n",
            "\u001b[?25hRequirement already satisfied: requests in /usr/local/lib/python3.7/dist-packages (from fsspec[http]!=2021.06.0,>=2021.05.0->pytorch-lightning) (2.23.0)\n",
            "Requirement already satisfied: pyparsing!=3.0.5,>=2.0.2 in /usr/local/lib/python3.7/dist-packages (from packaging>=17.0->pytorch-lightning) (3.0.9)\n",
            "Requirement already satisfied: six>=1.9 in /usr/local/lib/python3.7/dist-packages (from protobuf<=3.20.1->pytorch-lightning) (1.15.0)\n",
            "Requirement already satisfied: wheel>=0.26 in /usr/local/lib/python3.7/dist-packages (from tensorboard>=2.2.0->pytorch-lightning) (0.37.1)\n",
            "Requirement already satisfied: werkzeug>=0.11.15 in /usr/local/lib/python3.7/dist-packages (from tensorboard>=2.2.0->pytorch-lightning) (1.0.1)\n",
            "Requirement already satisfied: setuptools>=41.0.0 in /usr/local/lib/python3.7/dist-packages (from tensorboard>=2.2.0->pytorch-lightning) (57.4.0)\n",
            "Requirement already satisfied: tensorboard-data-server<0.7.0,>=0.6.0 in /usr/local/lib/python3.7/dist-packages (from tensorboard>=2.2.0->pytorch-lightning) (0.6.1)\n",
            "Requirement already satisfied: tensorboard-plugin-wit>=1.6.0 in /usr/local/lib/python3.7/dist-packages (from tensorboard>=2.2.0->pytorch-lightning) (1.8.1)\n",
            "Requirement already satisfied: markdown>=2.6.8 in /usr/local/lib/python3.7/dist-packages (from tensorboard>=2.2.0->pytorch-lightning) (3.3.7)\n",
            "Requirement already satisfied: google-auth-oauthlib<0.5,>=0.4.1 in /usr/local/lib/python3.7/dist-packages (from tensorboard>=2.2.0->pytorch-lightning) (0.4.6)\n",
            "Requirement already satisfied: absl-py>=0.4 in /usr/local/lib/python3.7/dist-packages (from tensorboard>=2.2.0->pytorch-lightning) (1.1.0)\n",
            "Requirement already satisfied: grpcio>=1.24.3 in /usr/local/lib/python3.7/dist-packages (from tensorboard>=2.2.0->pytorch-lightning) (1.46.3)\n",
            "Requirement already satisfied: google-auth<3,>=1.6.3 in /usr/local/lib/python3.7/dist-packages (from tensorboard>=2.2.0->pytorch-lightning) (1.35.0)\n",
            "Requirement already satisfied: pyasn1-modules>=0.2.1 in /usr/local/lib/python3.7/dist-packages (from google-auth<3,>=1.6.3->tensorboard>=2.2.0->pytorch-lightning) (0.2.8)\n",
            "Requirement already satisfied: rsa<5,>=3.1.4 in /usr/local/lib/python3.7/dist-packages (from google-auth<3,>=1.6.3->tensorboard>=2.2.0->pytorch-lightning) (4.8)\n",
            "Requirement already satisfied: cachetools<5.0,>=2.0.0 in /usr/local/lib/python3.7/dist-packages (from google-auth<3,>=1.6.3->tensorboard>=2.2.0->pytorch-lightning) (4.2.4)\n",
            "Requirement already satisfied: requests-oauthlib>=0.7.0 in /usr/local/lib/python3.7/dist-packages (from google-auth-oauthlib<0.5,>=0.4.1->tensorboard>=2.2.0->pytorch-lightning) (1.3.1)\n",
            "Requirement already satisfied: importlib-metadata>=4.4 in /usr/local/lib/python3.7/dist-packages (from markdown>=2.6.8->tensorboard>=2.2.0->pytorch-lightning) (4.11.4)\n",
            "Requirement already satisfied: zipp>=0.5 in /usr/local/lib/python3.7/dist-packages (from importlib-metadata>=4.4->markdown>=2.6.8->tensorboard>=2.2.0->pytorch-lightning) (3.8.0)\n",
            "Requirement already satisfied: pyasn1<0.5.0,>=0.4.6 in /usr/local/lib/python3.7/dist-packages (from pyasn1-modules>=0.2.1->google-auth<3,>=1.6.3->tensorboard>=2.2.0->pytorch-lightning) (0.4.8)\n",
            "Requirement already satisfied: idna<3,>=2.5 in /usr/local/lib/python3.7/dist-packages (from requests->fsspec[http]!=2021.06.0,>=2021.05.0->pytorch-lightning) (2.10)\n",
            "Requirement already satisfied: certifi>=2017.4.17 in /usr/local/lib/python3.7/dist-packages (from requests->fsspec[http]!=2021.06.0,>=2021.05.0->pytorch-lightning) (2022.6.15)\n",
            "Requirement already satisfied: urllib3!=1.25.0,!=1.25.1,<1.26,>=1.21.1 in /usr/local/lib/python3.7/dist-packages (from requests->fsspec[http]!=2021.06.0,>=2021.05.0->pytorch-lightning) (1.24.3)\n",
            "Requirement already satisfied: chardet<4,>=3.0.2 in /usr/local/lib/python3.7/dist-packages (from requests->fsspec[http]!=2021.06.0,>=2021.05.0->pytorch-lightning) (3.0.4)\n",
            "Requirement already satisfied: oauthlib>=3.0.0 in /usr/local/lib/python3.7/dist-packages (from requests-oauthlib>=0.7.0->google-auth-oauthlib<0.5,>=0.4.1->tensorboard>=2.2.0->pytorch-lightning) (3.2.0)\n",
            "Requirement already satisfied: charset-normalizer<3.0,>=2.0 in /usr/local/lib/python3.7/dist-packages (from aiohttp->fsspec[http]!=2021.06.0,>=2021.05.0->pytorch-lightning) (2.0.12)\n",
            "Collecting frozenlist>=1.1.1\n",
            "  Downloading frozenlist-1.3.0-cp37-cp37m-manylinux_2_5_x86_64.manylinux1_x86_64.manylinux_2_17_x86_64.manylinux2014_x86_64.whl (144 kB)\n",
            "\u001b[K     |████████████████████████████████| 144 kB 69.8 MB/s \n",
            "\u001b[?25hRequirement already satisfied: attrs>=17.3.0 in /usr/local/lib/python3.7/dist-packages (from aiohttp->fsspec[http]!=2021.06.0,>=2021.05.0->pytorch-lightning) (21.4.0)\n",
            "Collecting async-timeout<5.0,>=4.0.0a3\n",
            "  Downloading async_timeout-4.0.2-py3-none-any.whl (5.8 kB)\n",
            "Collecting yarl<2.0,>=1.0\n",
            "  Downloading yarl-1.7.2-cp37-cp37m-manylinux_2_5_x86_64.manylinux1_x86_64.manylinux_2_12_x86_64.manylinux2010_x86_64.whl (271 kB)\n",
            "\u001b[K     |████████████████████████████████| 271 kB 74.8 MB/s \n",
            "\u001b[?25hCollecting aiosignal>=1.1.2\n",
            "  Downloading aiosignal-1.2.0-py3-none-any.whl (8.2 kB)\n",
            "Collecting asynctest==0.13.0\n",
            "  Downloading asynctest-0.13.0-py3-none-any.whl (26 kB)\n",
            "Collecting multidict<7.0,>=4.5\n",
            "  Downloading multidict-6.0.2-cp37-cp37m-manylinux_2_17_x86_64.manylinux2014_x86_64.whl (94 kB)\n",
            "\u001b[K     |████████████████████████████████| 94 kB 1.1 MB/s \n",
            "\u001b[?25hInstalling collected packages: multidict, frozenlist, yarl, asynctest, async-timeout, aiosignal, fsspec, aiohttp, torchmetrics, PyYAML, pyDeprecate, pytorch-lightning\n",
            "  Attempting uninstall: PyYAML\n",
            "    Found existing installation: PyYAML 3.13\n",
            "    Uninstalling PyYAML-3.13:\n",
            "      Successfully uninstalled PyYAML-3.13\n",
            "Successfully installed PyYAML-6.0 aiohttp-3.8.1 aiosignal-1.2.0 async-timeout-4.0.2 asynctest-0.13.0 frozenlist-1.3.0 fsspec-2022.5.0 multidict-6.0.2 pyDeprecate-0.3.2 pytorch-lightning-1.6.4 torchmetrics-0.9.1 yarl-1.7.2\n"
          ]
        }
      ]
    },
    {
      "cell_type": "code",
      "source": [
        "pip install pytorch-forecasting"
      ],
      "metadata": {
        "id": "PKAy2RJsSWlG",
        "colab": {
          "base_uri": "https://localhost:8080/"
        },
        "outputId": "9a5b3867-ccbc-4072-b6f7-bdd80f28a9b7"
      },
      "execution_count": 3,
      "outputs": [
        {
          "output_type": "stream",
          "name": "stdout",
          "text": [
            "Looking in indexes: https://pypi.org/simple, https://us-python.pkg.dev/colab-wheels/public/simple/\n",
            "Collecting pytorch-forecasting\n",
            "  Downloading pytorch_forecasting-0.10.1-py3-none-any.whl (127 kB)\n",
            "\u001b[K     |████████████████████████████████| 127 kB 10.9 MB/s \n",
            "\u001b[?25hRequirement already satisfied: scikit-learn<1.1,>=0.24 in /usr/local/lib/python3.7/dist-packages (from pytorch-forecasting) (1.0.2)\n",
            "Requirement already satisfied: pandas<2.0.0,>=1.3.0 in /usr/local/lib/python3.7/dist-packages (from pytorch-forecasting) (1.3.5)\n",
            "Collecting optuna<3.0.0,>=2.3.0\n",
            "  Downloading optuna-2.10.1-py3-none-any.whl (308 kB)\n",
            "\u001b[K     |████████████████████████████████| 308 kB 45.1 MB/s \n",
            "\u001b[?25hRequirement already satisfied: matplotlib in /usr/local/lib/python3.7/dist-packages (from pytorch-forecasting) (3.2.2)\n",
            "Requirement already satisfied: statsmodels in /usr/local/lib/python3.7/dist-packages (from pytorch-forecasting) (0.10.2)\n",
            "Requirement already satisfied: scipy in /usr/local/lib/python3.7/dist-packages (from pytorch-forecasting) (1.4.1)\n",
            "Requirement already satisfied: torch<2.0,>=1.7 in /usr/local/lib/python3.7/dist-packages (from pytorch-forecasting) (1.11.0+cu113)\n",
            "Requirement already satisfied: pytorch-lightning<2.0.0,>=1.2.4 in /usr/local/lib/python3.7/dist-packages (from pytorch-forecasting) (1.6.4)\n",
            "Collecting colorlog\n",
            "  Downloading colorlog-6.6.0-py2.py3-none-any.whl (11 kB)\n",
            "Collecting cmaes>=0.8.2\n",
            "  Downloading cmaes-0.8.2-py3-none-any.whl (15 kB)\n",
            "Collecting cliff\n",
            "  Downloading cliff-3.10.1-py3-none-any.whl (81 kB)\n",
            "\u001b[K     |████████████████████████████████| 81 kB 10.8 MB/s \n",
            "\u001b[?25hRequirement already satisfied: PyYAML in /usr/local/lib/python3.7/dist-packages (from optuna<3.0.0,>=2.3.0->pytorch-forecasting) (6.0)\n",
            "Requirement already satisfied: numpy in /usr/local/lib/python3.7/dist-packages (from optuna<3.0.0,>=2.3.0->pytorch-forecasting) (1.21.6)\n",
            "Requirement already satisfied: sqlalchemy>=1.1.0 in /usr/local/lib/python3.7/dist-packages (from optuna<3.0.0,>=2.3.0->pytorch-forecasting) (1.4.37)\n",
            "Requirement already satisfied: tqdm in /usr/local/lib/python3.7/dist-packages (from optuna<3.0.0,>=2.3.0->pytorch-forecasting) (4.64.0)\n",
            "Requirement already satisfied: packaging>=20.0 in /usr/local/lib/python3.7/dist-packages (from optuna<3.0.0,>=2.3.0->pytorch-forecasting) (21.3)\n",
            "Collecting alembic\n",
            "  Downloading alembic-1.8.0-py3-none-any.whl (209 kB)\n",
            "\u001b[K     |████████████████████████████████| 209 kB 71.3 MB/s \n",
            "\u001b[?25hRequirement already satisfied: pyparsing!=3.0.5,>=2.0.2 in /usr/local/lib/python3.7/dist-packages (from packaging>=20.0->optuna<3.0.0,>=2.3.0->pytorch-forecasting) (3.0.9)\n",
            "Requirement already satisfied: python-dateutil>=2.7.3 in /usr/local/lib/python3.7/dist-packages (from pandas<2.0.0,>=1.3.0->pytorch-forecasting) (2.8.2)\n",
            "Requirement already satisfied: pytz>=2017.3 in /usr/local/lib/python3.7/dist-packages (from pandas<2.0.0,>=1.3.0->pytorch-forecasting) (2022.1)\n",
            "Requirement already satisfied: six>=1.5 in /usr/local/lib/python3.7/dist-packages (from python-dateutil>=2.7.3->pandas<2.0.0,>=1.3.0->pytorch-forecasting) (1.15.0)\n",
            "Requirement already satisfied: tensorboard>=2.2.0 in /usr/local/lib/python3.7/dist-packages (from pytorch-lightning<2.0.0,>=1.2.4->pytorch-forecasting) (2.8.0)\n",
            "Requirement already satisfied: typing-extensions>=4.0.0 in /usr/local/lib/python3.7/dist-packages (from pytorch-lightning<2.0.0,>=1.2.4->pytorch-forecasting) (4.1.1)\n",
            "Requirement already satisfied: pyDeprecate>=0.3.1 in /usr/local/lib/python3.7/dist-packages (from pytorch-lightning<2.0.0,>=1.2.4->pytorch-forecasting) (0.3.2)\n",
            "Requirement already satisfied: torchmetrics>=0.4.1 in /usr/local/lib/python3.7/dist-packages (from pytorch-lightning<2.0.0,>=1.2.4->pytorch-forecasting) (0.9.1)\n",
            "Requirement already satisfied: protobuf<=3.20.1 in /usr/local/lib/python3.7/dist-packages (from pytorch-lightning<2.0.0,>=1.2.4->pytorch-forecasting) (3.17.3)\n",
            "Requirement already satisfied: fsspec[http]!=2021.06.0,>=2021.05.0 in /usr/local/lib/python3.7/dist-packages (from pytorch-lightning<2.0.0,>=1.2.4->pytorch-forecasting) (2022.5.0)\n",
            "Requirement already satisfied: aiohttp in /usr/local/lib/python3.7/dist-packages (from fsspec[http]!=2021.06.0,>=2021.05.0->pytorch-lightning<2.0.0,>=1.2.4->pytorch-forecasting) (3.8.1)\n",
            "Requirement already satisfied: requests in /usr/local/lib/python3.7/dist-packages (from fsspec[http]!=2021.06.0,>=2021.05.0->pytorch-lightning<2.0.0,>=1.2.4->pytorch-forecasting) (2.23.0)\n",
            "Requirement already satisfied: threadpoolctl>=2.0.0 in /usr/local/lib/python3.7/dist-packages (from scikit-learn<1.1,>=0.24->pytorch-forecasting) (3.1.0)\n",
            "Requirement already satisfied: joblib>=0.11 in /usr/local/lib/python3.7/dist-packages (from scikit-learn<1.1,>=0.24->pytorch-forecasting) (1.1.0)\n",
            "Requirement already satisfied: importlib-metadata in /usr/local/lib/python3.7/dist-packages (from sqlalchemy>=1.1.0->optuna<3.0.0,>=2.3.0->pytorch-forecasting) (4.11.4)\n",
            "Requirement already satisfied: greenlet!=0.4.17 in /usr/local/lib/python3.7/dist-packages (from sqlalchemy>=1.1.0->optuna<3.0.0,>=2.3.0->pytorch-forecasting) (1.1.2)\n",
            "Requirement already satisfied: google-auth<3,>=1.6.3 in /usr/local/lib/python3.7/dist-packages (from tensorboard>=2.2.0->pytorch-lightning<2.0.0,>=1.2.4->pytorch-forecasting) (1.35.0)\n",
            "Requirement already satisfied: wheel>=0.26 in /usr/local/lib/python3.7/dist-packages (from tensorboard>=2.2.0->pytorch-lightning<2.0.0,>=1.2.4->pytorch-forecasting) (0.37.1)\n",
            "Requirement already satisfied: absl-py>=0.4 in /usr/local/lib/python3.7/dist-packages (from tensorboard>=2.2.0->pytorch-lightning<2.0.0,>=1.2.4->pytorch-forecasting) (1.1.0)\n",
            "Requirement already satisfied: setuptools>=41.0.0 in /usr/local/lib/python3.7/dist-packages (from tensorboard>=2.2.0->pytorch-lightning<2.0.0,>=1.2.4->pytorch-forecasting) (57.4.0)\n",
            "Requirement already satisfied: tensorboard-plugin-wit>=1.6.0 in /usr/local/lib/python3.7/dist-packages (from tensorboard>=2.2.0->pytorch-lightning<2.0.0,>=1.2.4->pytorch-forecasting) (1.8.1)\n",
            "Requirement already satisfied: werkzeug>=0.11.15 in /usr/local/lib/python3.7/dist-packages (from tensorboard>=2.2.0->pytorch-lightning<2.0.0,>=1.2.4->pytorch-forecasting) (1.0.1)\n",
            "Requirement already satisfied: grpcio>=1.24.3 in /usr/local/lib/python3.7/dist-packages (from tensorboard>=2.2.0->pytorch-lightning<2.0.0,>=1.2.4->pytorch-forecasting) (1.46.3)\n",
            "Requirement already satisfied: google-auth-oauthlib<0.5,>=0.4.1 in /usr/local/lib/python3.7/dist-packages (from tensorboard>=2.2.0->pytorch-lightning<2.0.0,>=1.2.4->pytorch-forecasting) (0.4.6)\n",
            "Requirement already satisfied: markdown>=2.6.8 in /usr/local/lib/python3.7/dist-packages (from tensorboard>=2.2.0->pytorch-lightning<2.0.0,>=1.2.4->pytorch-forecasting) (3.3.7)\n",
            "Requirement already satisfied: tensorboard-data-server<0.7.0,>=0.6.0 in /usr/local/lib/python3.7/dist-packages (from tensorboard>=2.2.0->pytorch-lightning<2.0.0,>=1.2.4->pytorch-forecasting) (0.6.1)\n",
            "Requirement already satisfied: pyasn1-modules>=0.2.1 in /usr/local/lib/python3.7/dist-packages (from google-auth<3,>=1.6.3->tensorboard>=2.2.0->pytorch-lightning<2.0.0,>=1.2.4->pytorch-forecasting) (0.2.8)\n",
            "Requirement already satisfied: rsa<5,>=3.1.4 in /usr/local/lib/python3.7/dist-packages (from google-auth<3,>=1.6.3->tensorboard>=2.2.0->pytorch-lightning<2.0.0,>=1.2.4->pytorch-forecasting) (4.8)\n",
            "Requirement already satisfied: cachetools<5.0,>=2.0.0 in /usr/local/lib/python3.7/dist-packages (from google-auth<3,>=1.6.3->tensorboard>=2.2.0->pytorch-lightning<2.0.0,>=1.2.4->pytorch-forecasting) (4.2.4)\n",
            "Requirement already satisfied: requests-oauthlib>=0.7.0 in /usr/local/lib/python3.7/dist-packages (from google-auth-oauthlib<0.5,>=0.4.1->tensorboard>=2.2.0->pytorch-lightning<2.0.0,>=1.2.4->pytorch-forecasting) (1.3.1)\n",
            "Requirement already satisfied: zipp>=0.5 in /usr/local/lib/python3.7/dist-packages (from importlib-metadata->sqlalchemy>=1.1.0->optuna<3.0.0,>=2.3.0->pytorch-forecasting) (3.8.0)\n",
            "Requirement already satisfied: pyasn1<0.5.0,>=0.4.6 in /usr/local/lib/python3.7/dist-packages (from pyasn1-modules>=0.2.1->google-auth<3,>=1.6.3->tensorboard>=2.2.0->pytorch-lightning<2.0.0,>=1.2.4->pytorch-forecasting) (0.4.8)\n",
            "Requirement already satisfied: idna<3,>=2.5 in /usr/local/lib/python3.7/dist-packages (from requests->fsspec[http]!=2021.06.0,>=2021.05.0->pytorch-lightning<2.0.0,>=1.2.4->pytorch-forecasting) (2.10)\n",
            "Requirement already satisfied: chardet<4,>=3.0.2 in /usr/local/lib/python3.7/dist-packages (from requests->fsspec[http]!=2021.06.0,>=2021.05.0->pytorch-lightning<2.0.0,>=1.2.4->pytorch-forecasting) (3.0.4)\n",
            "Requirement already satisfied: urllib3!=1.25.0,!=1.25.1,<1.26,>=1.21.1 in /usr/local/lib/python3.7/dist-packages (from requests->fsspec[http]!=2021.06.0,>=2021.05.0->pytorch-lightning<2.0.0,>=1.2.4->pytorch-forecasting) (1.24.3)\n",
            "Requirement already satisfied: certifi>=2017.4.17 in /usr/local/lib/python3.7/dist-packages (from requests->fsspec[http]!=2021.06.0,>=2021.05.0->pytorch-lightning<2.0.0,>=1.2.4->pytorch-forecasting) (2022.6.15)\n",
            "Requirement already satisfied: oauthlib>=3.0.0 in /usr/local/lib/python3.7/dist-packages (from requests-oauthlib>=0.7.0->google-auth-oauthlib<0.5,>=0.4.1->tensorboard>=2.2.0->pytorch-lightning<2.0.0,>=1.2.4->pytorch-forecasting) (3.2.0)\n",
            "Requirement already satisfied: yarl<2.0,>=1.0 in /usr/local/lib/python3.7/dist-packages (from aiohttp->fsspec[http]!=2021.06.0,>=2021.05.0->pytorch-lightning<2.0.0,>=1.2.4->pytorch-forecasting) (1.7.2)\n",
            "Requirement already satisfied: asynctest==0.13.0 in /usr/local/lib/python3.7/dist-packages (from aiohttp->fsspec[http]!=2021.06.0,>=2021.05.0->pytorch-lightning<2.0.0,>=1.2.4->pytorch-forecasting) (0.13.0)\n",
            "Requirement already satisfied: multidict<7.0,>=4.5 in /usr/local/lib/python3.7/dist-packages (from aiohttp->fsspec[http]!=2021.06.0,>=2021.05.0->pytorch-lightning<2.0.0,>=1.2.4->pytorch-forecasting) (6.0.2)\n",
            "Requirement already satisfied: async-timeout<5.0,>=4.0.0a3 in /usr/local/lib/python3.7/dist-packages (from aiohttp->fsspec[http]!=2021.06.0,>=2021.05.0->pytorch-lightning<2.0.0,>=1.2.4->pytorch-forecasting) (4.0.2)\n",
            "Requirement already satisfied: attrs>=17.3.0 in /usr/local/lib/python3.7/dist-packages (from aiohttp->fsspec[http]!=2021.06.0,>=2021.05.0->pytorch-lightning<2.0.0,>=1.2.4->pytorch-forecasting) (21.4.0)\n",
            "Requirement already satisfied: charset-normalizer<3.0,>=2.0 in /usr/local/lib/python3.7/dist-packages (from aiohttp->fsspec[http]!=2021.06.0,>=2021.05.0->pytorch-lightning<2.0.0,>=1.2.4->pytorch-forecasting) (2.0.12)\n",
            "Requirement already satisfied: aiosignal>=1.1.2 in /usr/local/lib/python3.7/dist-packages (from aiohttp->fsspec[http]!=2021.06.0,>=2021.05.0->pytorch-lightning<2.0.0,>=1.2.4->pytorch-forecasting) (1.2.0)\n",
            "Requirement already satisfied: frozenlist>=1.1.1 in /usr/local/lib/python3.7/dist-packages (from aiohttp->fsspec[http]!=2021.06.0,>=2021.05.0->pytorch-lightning<2.0.0,>=1.2.4->pytorch-forecasting) (1.3.0)\n",
            "Requirement already satisfied: importlib-resources in /usr/local/lib/python3.7/dist-packages (from alembic->optuna<3.0.0,>=2.3.0->pytorch-forecasting) (5.7.1)\n",
            "Collecting Mako\n",
            "  Downloading Mako-1.2.0-py3-none-any.whl (78 kB)\n",
            "\u001b[K     |████████████████████████████████| 78 kB 7.7 MB/s \n",
            "\u001b[?25hCollecting stevedore>=2.0.1\n",
            "  Downloading stevedore-3.5.0-py3-none-any.whl (49 kB)\n",
            "\u001b[K     |████████████████████████████████| 49 kB 6.6 MB/s \n",
            "\u001b[?25hCollecting cmd2>=1.0.0\n",
            "  Downloading cmd2-2.4.1-py3-none-any.whl (146 kB)\n",
            "\u001b[K     |████████████████████████████████| 146 kB 71.8 MB/s \n",
            "\u001b[?25hRequirement already satisfied: PrettyTable>=0.7.2 in /usr/local/lib/python3.7/dist-packages (from cliff->optuna<3.0.0,>=2.3.0->pytorch-forecasting) (3.3.0)\n",
            "Collecting autopage>=0.4.0\n",
            "  Downloading autopage-0.5.1-py3-none-any.whl (29 kB)\n",
            "Collecting pbr!=2.1.0,>=2.0.0\n",
            "  Downloading pbr-5.9.0-py2.py3-none-any.whl (112 kB)\n",
            "\u001b[K     |████████████████████████████████| 112 kB 74.7 MB/s \n",
            "\u001b[?25hRequirement already satisfied: wcwidth>=0.1.7 in /usr/local/lib/python3.7/dist-packages (from cmd2>=1.0.0->cliff->optuna<3.0.0,>=2.3.0->pytorch-forecasting) (0.2.5)\n",
            "Collecting pyperclip>=1.6\n",
            "  Downloading pyperclip-1.8.2.tar.gz (20 kB)\n",
            "Requirement already satisfied: MarkupSafe>=0.9.2 in /usr/local/lib/python3.7/dist-packages (from Mako->alembic->optuna<3.0.0,>=2.3.0->pytorch-forecasting) (2.0.1)\n",
            "Requirement already satisfied: cycler>=0.10 in /usr/local/lib/python3.7/dist-packages (from matplotlib->pytorch-forecasting) (0.11.0)\n",
            "Requirement already satisfied: kiwisolver>=1.0.1 in /usr/local/lib/python3.7/dist-packages (from matplotlib->pytorch-forecasting) (1.4.3)\n",
            "Requirement already satisfied: patsy>=0.4.0 in /usr/local/lib/python3.7/dist-packages (from statsmodels->pytorch-forecasting) (0.5.2)\n",
            "Building wheels for collected packages: pyperclip\n",
            "  Building wheel for pyperclip (setup.py) ... \u001b[?25l\u001b[?25hdone\n",
            "  Created wheel for pyperclip: filename=pyperclip-1.8.2-py3-none-any.whl size=11137 sha256=8ede5e0cd0262581b57582a4eae14abbdd8a2281ab7a182e85be6399e593ad55\n",
            "  Stored in directory: /root/.cache/pip/wheels/9f/18/84/8f69f8b08169c7bae2dde6bd7daf0c19fca8c8e500ee620a28\n",
            "Successfully built pyperclip\n",
            "Installing collected packages: pyperclip, pbr, stevedore, Mako, cmd2, autopage, colorlog, cmaes, cliff, alembic, optuna, pytorch-forecasting\n",
            "Successfully installed Mako-1.2.0 alembic-1.8.0 autopage-0.5.1 cliff-3.10.1 cmaes-0.8.2 cmd2-2.4.1 colorlog-6.6.0 optuna-2.10.1 pbr-5.9.0 pyperclip-1.8.2 pytorch-forecasting-0.10.1 stevedore-3.5.0\n"
          ]
        }
      ]
    },
    {
      "cell_type": "code",
      "execution_count": 4,
      "metadata": {
        "id": "XGUfT-SBmVTD",
        "colab": {
          "base_uri": "https://localhost:8080/"
        },
        "outputId": "cf4c2611-f055-45e1-ae7f-13085ce53f45"
      },
      "outputs": [
        {
          "output_type": "stream",
          "name": "stdout",
          "text": [
            "Looking in indexes: https://pypi.org/simple, https://us-python.pkg.dev/colab-wheels/public/simple/\n",
            "Requirement already satisfied: optuna in /usr/local/lib/python3.7/dist-packages (2.10.1)\n",
            "Requirement already satisfied: scipy!=1.4.0 in /usr/local/lib/python3.7/dist-packages (from optuna) (1.4.1)\n",
            "Requirement already satisfied: cliff in /usr/local/lib/python3.7/dist-packages (from optuna) (3.10.1)\n",
            "Requirement already satisfied: packaging>=20.0 in /usr/local/lib/python3.7/dist-packages (from optuna) (21.3)\n",
            "Requirement already satisfied: cmaes>=0.8.2 in /usr/local/lib/python3.7/dist-packages (from optuna) (0.8.2)\n",
            "Requirement already satisfied: PyYAML in /usr/local/lib/python3.7/dist-packages (from optuna) (6.0)\n",
            "Requirement already satisfied: tqdm in /usr/local/lib/python3.7/dist-packages (from optuna) (4.64.0)\n",
            "Requirement already satisfied: alembic in /usr/local/lib/python3.7/dist-packages (from optuna) (1.8.0)\n",
            "Requirement already satisfied: sqlalchemy>=1.1.0 in /usr/local/lib/python3.7/dist-packages (from optuna) (1.4.37)\n",
            "Requirement already satisfied: colorlog in /usr/local/lib/python3.7/dist-packages (from optuna) (6.6.0)\n",
            "Requirement already satisfied: numpy in /usr/local/lib/python3.7/dist-packages (from optuna) (1.21.6)\n",
            "Requirement already satisfied: pyparsing!=3.0.5,>=2.0.2 in /usr/local/lib/python3.7/dist-packages (from packaging>=20.0->optuna) (3.0.9)\n",
            "Requirement already satisfied: importlib-metadata in /usr/local/lib/python3.7/dist-packages (from sqlalchemy>=1.1.0->optuna) (4.11.4)\n",
            "Requirement already satisfied: greenlet!=0.4.17 in /usr/local/lib/python3.7/dist-packages (from sqlalchemy>=1.1.0->optuna) (1.1.2)\n",
            "Requirement already satisfied: importlib-resources in /usr/local/lib/python3.7/dist-packages (from alembic->optuna) (5.7.1)\n",
            "Requirement already satisfied: Mako in /usr/local/lib/python3.7/dist-packages (from alembic->optuna) (1.2.0)\n",
            "Requirement already satisfied: cmd2>=1.0.0 in /usr/local/lib/python3.7/dist-packages (from cliff->optuna) (2.4.1)\n",
            "Requirement already satisfied: autopage>=0.4.0 in /usr/local/lib/python3.7/dist-packages (from cliff->optuna) (0.5.1)\n",
            "Requirement already satisfied: PrettyTable>=0.7.2 in /usr/local/lib/python3.7/dist-packages (from cliff->optuna) (3.3.0)\n",
            "Requirement already satisfied: stevedore>=2.0.1 in /usr/local/lib/python3.7/dist-packages (from cliff->optuna) (3.5.0)\n",
            "Requirement already satisfied: pbr!=2.1.0,>=2.0.0 in /usr/local/lib/python3.7/dist-packages (from cliff->optuna) (5.9.0)\n",
            "Requirement already satisfied: pyperclip>=1.6 in /usr/local/lib/python3.7/dist-packages (from cmd2>=1.0.0->cliff->optuna) (1.8.2)\n",
            "Requirement already satisfied: wcwidth>=0.1.7 in /usr/local/lib/python3.7/dist-packages (from cmd2>=1.0.0->cliff->optuna) (0.2.5)\n",
            "Requirement already satisfied: typing-extensions in /usr/local/lib/python3.7/dist-packages (from cmd2>=1.0.0->cliff->optuna) (4.1.1)\n",
            "Requirement already satisfied: attrs>=16.3.0 in /usr/local/lib/python3.7/dist-packages (from cmd2>=1.0.0->cliff->optuna) (21.4.0)\n",
            "Requirement already satisfied: zipp>=0.5 in /usr/local/lib/python3.7/dist-packages (from importlib-metadata->sqlalchemy>=1.1.0->optuna) (3.8.0)\n",
            "Requirement already satisfied: MarkupSafe>=0.9.2 in /usr/local/lib/python3.7/dist-packages (from Mako->alembic->optuna) (2.0.1)\n"
          ]
        }
      ],
      "source": [
        "!pip install optuna"
      ]
    },
    {
      "cell_type": "code",
      "execution_count": 5,
      "metadata": {
        "id": "4M4OxERWmcnY",
        "colab": {
          "base_uri": "https://localhost:8080/"
        },
        "outputId": "0bde461d-4aeb-4a9d-faa7-8a17bdd1f811"
      },
      "outputs": [
        {
          "output_type": "stream",
          "name": "stderr",
          "text": [
            "/usr/local/lib/python3.7/dist-packages/torchmetrics/utilities/prints.py:36: UserWarning: Torchmetrics v0.9 introduced a new argument class property called `full_state_update` that has\n",
            "                not been set for this class (SMAPE). The property determines if `update` by\n",
            "                default needs access to the full metric state. If this is not the case, significant speedups can be\n",
            "                achieved and we recommend setting this to `False`.\n",
            "                We provide an checking function\n",
            "                `from torchmetrics.utilities import check_forward_no_full_state`\n",
            "                that can be used to check if the `full_state_update=True` (old and potential slower behaviour,\n",
            "                default for now) or if `full_state_update=False` can be used safely.\n",
            "                \n",
            "  warnings.warn(*args, **kwargs)\n"
          ]
        }
      ],
      "source": [
        "import torch\n",
        "import torch.nn as nn\n",
        "import torch.nn.functional as F\n",
        "import torch.optim as optim\n",
        "\n",
        "import numpy as np\n",
        "import pandas as pd\n",
        "import matplotlib.pyplot as plt\n",
        "import seaborn as sns\n",
        "import warnings\n",
        "\n",
        "from torch.autograd import Variable\n",
        "from sklearn.preprocessing import MinMaxScaler\n",
        "from sklearn.model_selection import train_test_split\n",
        "from torch.utils.data import TensorDataset, DataLoader\n",
        "from pytorch_forecasting import Baseline\n",
        "from pytorch_forecasting.metrics import SMAPE\n",
        "\n",
        "import joblib\n",
        "import pickle\n",
        "import optuna\n",
        "\n",
        "warnings.filterwarnings('ignore')\n",
        "%matplotlib inline"
      ]
    },
    {
      "cell_type": "markdown",
      "metadata": {
        "id": "sHcqhwLwecjI"
      },
      "source": [
        "### 함수정의"
      ]
    },
    {
      "cell_type": "code",
      "execution_count": 6,
      "metadata": {
        "id": "ChKBNVnrmcZC"
      },
      "outputs": [],
      "source": [
        "def sliding_windows(data, lookback_length, forecast_length):\n",
        "\n",
        "    x = []\n",
        "    y = []\n",
        "    \n",
        "    for i in range(lookback_length, len(data) - forecast_length + 1):\n",
        "        _x = data[(i-lookback_length) : i]\n",
        "        _y = data[i : (i + forecast_length)]\n",
        "        x.append(_x)\n",
        "        y.append(_y)\n",
        "    return np.array(x), np.array(y)\n",
        "\n",
        "\n",
        "def get_data_loader(X, y, batch_size):\n",
        "\n",
        "    x_train, x_val, y_train, y_val = train_test_split(X, y, test_size=0.2, random_state=42, shuffle=False)\n",
        "\n",
        "    train_ds = TensorDataset(torch.Tensor(x_train), torch.Tensor(y_train))\n",
        "    train_dl = DataLoader(train_ds, batch_size = batch_size)\n",
        "\n",
        "    val_ds = TensorDataset(torch.Tensor(x_val), torch.Tensor(y_val))\n",
        "    val_dl = DataLoader(val_ds, batch_size = batch_size)\n",
        "\n",
        "    input_size = x_train.shape[-1]\n",
        "\n",
        "    return train_dl, val_dl, input_size"
      ]
    },
    {
      "cell_type": "markdown",
      "metadata": {
        "id": "YFPr883NecjN"
      },
      "source": [
        "### Data loading && Preproces"
      ]
    },
    {
      "cell_type": "code",
      "source": [
        "scaler = MinMaxScaler()\n",
        "\n",
        "data=pd.read_excel('/content/drive/MyDrive/교육/AI실무인증과정/학회 발표/data/data_full.xlsx')\n",
        "data.info()"
      ],
      "metadata": {
        "id": "xtNpqfJ4k-M6",
        "colab": {
          "base_uri": "https://localhost:8080/"
        },
        "outputId": "eb78a5a2-6610-4514-be7c-7d65aee78782"
      },
      "execution_count": 7,
      "outputs": [
        {
          "output_type": "stream",
          "name": "stdout",
          "text": [
            "<class 'pandas.core.frame.DataFrame'>\n",
            "RangeIndex: 1858 entries, 0 to 1857\n",
            "Data columns (total 18 columns):\n",
            " #   Column           Non-Null Count  Dtype         \n",
            "---  ------           --------------  -----         \n",
            " 0   Date             1858 non-null   datetime64[ns]\n",
            " 1   Account DOW      1858 non-null   object        \n",
            " 2   REV OBD          1858 non-null   float64       \n",
            " 3   OBD NET+FSC_KRW  1858 non-null   float64       \n",
            " 4   OBD A/R_KRW      1858 non-null   float64       \n",
            " 5   REV CPN          1858 non-null   float64       \n",
            " 6   CPN NET+FSC_KRW  1858 non-null   float64       \n",
            " 7   CPN A/R_KRW      1858 non-null   float64       \n",
            " 8   REV TKT          1858 non-null   float64       \n",
            " 9   TKT NET+FSC_KRW  1858 non-null   float64       \n",
            " 10  TKT A/R_KRW      1858 non-null   float64       \n",
            " 11  WTI              1858 non-null   float64       \n",
            " 12  exchanges        1858 non-null   float64       \n",
            " 13  kospi            1858 non-null   float64       \n",
            " 14  rates            1858 non-null   float64       \n",
            " 15  stock_a          1858 non-null   float64       \n",
            " 16  stock_k          1858 non-null   float64       \n",
            " 17  stock_kkj        1858 non-null   float64       \n",
            "dtypes: datetime64[ns](1), float64(16), object(1)\n",
            "memory usage: 261.4+ KB\n"
          ]
        }
      ]
    },
    {
      "cell_type": "code",
      "source": [
        "res_data = data[data[\"Date\"].isin(pd.date_range('2016-01-04', '2020-01-31'))]\n",
        "res_data.reset_index(drop=True, inplace=True)\n",
        "res_data = res_data[['Date', 'REV OBD']]\n",
        "scale_cols = ['REV OBD']"
      ],
      "metadata": {
        "id": "fKl57TZ3tPVr"
      },
      "execution_count": 8,
      "outputs": []
    },
    {
      "cell_type": "code",
      "source": [
        "res_data.shape"
      ],
      "metadata": {
        "id": "G2Srq4wbu1IW",
        "colab": {
          "base_uri": "https://localhost:8080/"
        },
        "outputId": "548a6f47-af21-4af8-a432-97cf9a9c1cee"
      },
      "execution_count": 9,
      "outputs": [
        {
          "output_type": "execute_result",
          "data": {
            "text/plain": [
              "(1489, 2)"
            ]
          },
          "metadata": {},
          "execution_count": 9
        }
      ]
    },
    {
      "cell_type": "code",
      "execution_count": 10,
      "metadata": {
        "id": "8tit7FldnXBk"
      },
      "outputs": [],
      "source": [
        "# 원본 코드 LSTM-pytorch_optuna_05와 다른 부분\n",
        "\n",
        "# Loockback_period & forecasting_period\n",
        "max_prediction_length = 20\n",
        "lookback_length = 100\n",
        "training_data_max = len(res_data) - max_prediction_length\n",
        "\n",
        "# 학습용 데이터\n",
        "data_p = res_data.iloc[:training_data_max, :]\n",
        "training_data = scaler.fit_transform(data_p[scale_cols])"
      ]
    },
    {
      "cell_type": "code",
      "source": [
        "training_data_max"
      ],
      "metadata": {
        "id": "Ni62h_LquvF5",
        "colab": {
          "base_uri": "https://localhost:8080/"
        },
        "outputId": "3a5c287d-d47b-4ef5-ae27-fa449dd4066f"
      },
      "execution_count": 11,
      "outputs": [
        {
          "output_type": "execute_result",
          "data": {
            "text/plain": [
              "1469"
            ]
          },
          "metadata": {},
          "execution_count": 11
        }
      ]
    },
    {
      "cell_type": "code",
      "source": [
        "data_p.shape"
      ],
      "metadata": {
        "id": "EBGkWALXuFwk",
        "colab": {
          "base_uri": "https://localhost:8080/"
        },
        "outputId": "33301ea3-1934-4ea3-dc1d-2745cb0ff15e"
      },
      "execution_count": 12,
      "outputs": [
        {
          "output_type": "execute_result",
          "data": {
            "text/plain": [
              "(1469, 2)"
            ]
          },
          "metadata": {},
          "execution_count": 12
        }
      ]
    },
    {
      "cell_type": "code",
      "source": [
        "data_p"
      ],
      "metadata": {
        "id": "0NvGypmuuLAV",
        "colab": {
          "base_uri": "https://localhost:8080/",
          "height": 424
        },
        "outputId": "f94c0acf-4c86-477e-c9b6-00428391bd7b"
      },
      "execution_count": 13,
      "outputs": [
        {
          "output_type": "execute_result",
          "data": {
            "text/plain": [
              "           Date  REV OBD\n",
              "0    2016-01-04  28000.0\n",
              "1    2016-01-05  24657.0\n",
              "2    2016-01-06  26920.0\n",
              "3    2016-01-07  26624.0\n",
              "4    2016-01-08  28879.0\n",
              "...         ...      ...\n",
              "1464 2020-01-07  24716.0\n",
              "1465 2020-01-08  26562.0\n",
              "1466 2020-01-09  26855.0\n",
              "1467 2020-01-10  31204.0\n",
              "1468 2020-01-11  32338.0\n",
              "\n",
              "[1469 rows x 2 columns]"
            ],
            "text/html": [
              "\n",
              "  <div id=\"df-2292e83f-86e7-4e70-acca-a8dbeaea065f\">\n",
              "    <div class=\"colab-df-container\">\n",
              "      <div>\n",
              "<style scoped>\n",
              "    .dataframe tbody tr th:only-of-type {\n",
              "        vertical-align: middle;\n",
              "    }\n",
              "\n",
              "    .dataframe tbody tr th {\n",
              "        vertical-align: top;\n",
              "    }\n",
              "\n",
              "    .dataframe thead th {\n",
              "        text-align: right;\n",
              "    }\n",
              "</style>\n",
              "<table border=\"1\" class=\"dataframe\">\n",
              "  <thead>\n",
              "    <tr style=\"text-align: right;\">\n",
              "      <th></th>\n",
              "      <th>Date</th>\n",
              "      <th>REV OBD</th>\n",
              "    </tr>\n",
              "  </thead>\n",
              "  <tbody>\n",
              "    <tr>\n",
              "      <th>0</th>\n",
              "      <td>2016-01-04</td>\n",
              "      <td>28000.0</td>\n",
              "    </tr>\n",
              "    <tr>\n",
              "      <th>1</th>\n",
              "      <td>2016-01-05</td>\n",
              "      <td>24657.0</td>\n",
              "    </tr>\n",
              "    <tr>\n",
              "      <th>2</th>\n",
              "      <td>2016-01-06</td>\n",
              "      <td>26920.0</td>\n",
              "    </tr>\n",
              "    <tr>\n",
              "      <th>3</th>\n",
              "      <td>2016-01-07</td>\n",
              "      <td>26624.0</td>\n",
              "    </tr>\n",
              "    <tr>\n",
              "      <th>4</th>\n",
              "      <td>2016-01-08</td>\n",
              "      <td>28879.0</td>\n",
              "    </tr>\n",
              "    <tr>\n",
              "      <th>...</th>\n",
              "      <td>...</td>\n",
              "      <td>...</td>\n",
              "    </tr>\n",
              "    <tr>\n",
              "      <th>1464</th>\n",
              "      <td>2020-01-07</td>\n",
              "      <td>24716.0</td>\n",
              "    </tr>\n",
              "    <tr>\n",
              "      <th>1465</th>\n",
              "      <td>2020-01-08</td>\n",
              "      <td>26562.0</td>\n",
              "    </tr>\n",
              "    <tr>\n",
              "      <th>1466</th>\n",
              "      <td>2020-01-09</td>\n",
              "      <td>26855.0</td>\n",
              "    </tr>\n",
              "    <tr>\n",
              "      <th>1467</th>\n",
              "      <td>2020-01-10</td>\n",
              "      <td>31204.0</td>\n",
              "    </tr>\n",
              "    <tr>\n",
              "      <th>1468</th>\n",
              "      <td>2020-01-11</td>\n",
              "      <td>32338.0</td>\n",
              "    </tr>\n",
              "  </tbody>\n",
              "</table>\n",
              "<p>1469 rows × 2 columns</p>\n",
              "</div>\n",
              "      <button class=\"colab-df-convert\" onclick=\"convertToInteractive('df-2292e83f-86e7-4e70-acca-a8dbeaea065f')\"\n",
              "              title=\"Convert this dataframe to an interactive table.\"\n",
              "              style=\"display:none;\">\n",
              "        \n",
              "  <svg xmlns=\"http://www.w3.org/2000/svg\" height=\"24px\"viewBox=\"0 0 24 24\"\n",
              "       width=\"24px\">\n",
              "    <path d=\"M0 0h24v24H0V0z\" fill=\"none\"/>\n",
              "    <path d=\"M18.56 5.44l.94 2.06.94-2.06 2.06-.94-2.06-.94-.94-2.06-.94 2.06-2.06.94zm-11 1L8.5 8.5l.94-2.06 2.06-.94-2.06-.94L8.5 2.5l-.94 2.06-2.06.94zm10 10l.94 2.06.94-2.06 2.06-.94-2.06-.94-.94-2.06-.94 2.06-2.06.94z\"/><path d=\"M17.41 7.96l-1.37-1.37c-.4-.4-.92-.59-1.43-.59-.52 0-1.04.2-1.43.59L10.3 9.45l-7.72 7.72c-.78.78-.78 2.05 0 2.83L4 21.41c.39.39.9.59 1.41.59.51 0 1.02-.2 1.41-.59l7.78-7.78 2.81-2.81c.8-.78.8-2.07 0-2.86zM5.41 20L4 18.59l7.72-7.72 1.47 1.35L5.41 20z\"/>\n",
              "  </svg>\n",
              "      </button>\n",
              "      \n",
              "  <style>\n",
              "    .colab-df-container {\n",
              "      display:flex;\n",
              "      flex-wrap:wrap;\n",
              "      gap: 12px;\n",
              "    }\n",
              "\n",
              "    .colab-df-convert {\n",
              "      background-color: #E8F0FE;\n",
              "      border: none;\n",
              "      border-radius: 50%;\n",
              "      cursor: pointer;\n",
              "      display: none;\n",
              "      fill: #1967D2;\n",
              "      height: 32px;\n",
              "      padding: 0 0 0 0;\n",
              "      width: 32px;\n",
              "    }\n",
              "\n",
              "    .colab-df-convert:hover {\n",
              "      background-color: #E2EBFA;\n",
              "      box-shadow: 0px 1px 2px rgba(60, 64, 67, 0.3), 0px 1px 3px 1px rgba(60, 64, 67, 0.15);\n",
              "      fill: #174EA6;\n",
              "    }\n",
              "\n",
              "    [theme=dark] .colab-df-convert {\n",
              "      background-color: #3B4455;\n",
              "      fill: #D2E3FC;\n",
              "    }\n",
              "\n",
              "    [theme=dark] .colab-df-convert:hover {\n",
              "      background-color: #434B5C;\n",
              "      box-shadow: 0px 1px 3px 1px rgba(0, 0, 0, 0.15);\n",
              "      filter: drop-shadow(0px 1px 2px rgba(0, 0, 0, 0.3));\n",
              "      fill: #FFFFFF;\n",
              "    }\n",
              "  </style>\n",
              "\n",
              "      <script>\n",
              "        const buttonEl =\n",
              "          document.querySelector('#df-2292e83f-86e7-4e70-acca-a8dbeaea065f button.colab-df-convert');\n",
              "        buttonEl.style.display =\n",
              "          google.colab.kernel.accessAllowed ? 'block' : 'none';\n",
              "\n",
              "        async function convertToInteractive(key) {\n",
              "          const element = document.querySelector('#df-2292e83f-86e7-4e70-acca-a8dbeaea065f');\n",
              "          const dataTable =\n",
              "            await google.colab.kernel.invokeFunction('convertToInteractive',\n",
              "                                                     [key], {});\n",
              "          if (!dataTable) return;\n",
              "\n",
              "          const docLinkHtml = 'Like what you see? Visit the ' +\n",
              "            '<a target=\"_blank\" href=https://colab.research.google.com/notebooks/data_table.ipynb>data table notebook</a>'\n",
              "            + ' to learn more about interactive tables.';\n",
              "          element.innerHTML = '';\n",
              "          dataTable['output_type'] = 'display_data';\n",
              "          await google.colab.output.renderOutput(dataTable, element);\n",
              "          const docLink = document.createElement('div');\n",
              "          docLink.innerHTML = docLinkHtml;\n",
              "          element.appendChild(docLink);\n",
              "        }\n",
              "      </script>\n",
              "    </div>\n",
              "  </div>\n",
              "  "
            ]
          },
          "metadata": {},
          "execution_count": 13
        }
      ]
    },
    {
      "cell_type": "markdown",
      "metadata": {
        "id": "gJpfyfnAecjR"
      },
      "source": [
        "#### Metric 생성을 위한 oot sample 정의 (원본 코드 LSTM-pytorch_optuna_05와 다른 부분)\n"
      ]
    },
    {
      "cell_type": "code",
      "execution_count": 14,
      "metadata": {
        "id": "SytPlWa-mchZ"
      },
      "outputs": [],
      "source": [
        "# max_prediction_length 만큼의 데이터는 예측 데이터와 비교를 위해 분리\n",
        "# Training set에 없는 데이터로 구성\n",
        "# Input과 output의 pair로 정의\n",
        "x_for_metric = scaler.fit_transform(res_data[training_data_max -lookback_length : training_data_max][scale_cols])\n",
        "y_for_metric = scaler.fit_transform(res_data[training_data_max:][scale_cols])"
      ]
    },
    {
      "cell_type": "code",
      "source": [
        "x_for_metric.shape"
      ],
      "metadata": {
        "id": "n-8rqEFzwVzN",
        "colab": {
          "base_uri": "https://localhost:8080/"
        },
        "outputId": "c7d675d7-41b8-4753-bc65-02d502c2ae88"
      },
      "execution_count": 15,
      "outputs": [
        {
          "output_type": "execute_result",
          "data": {
            "text/plain": [
              "(100, 1)"
            ]
          },
          "metadata": {},
          "execution_count": 15
        }
      ]
    },
    {
      "cell_type": "code",
      "source": [
        "y_for_metric.shape"
      ],
      "metadata": {
        "id": "-3ruST9FwVvk",
        "colab": {
          "base_uri": "https://localhost:8080/"
        },
        "outputId": "59c61112-609b-4548-db5f-d257bca631c4"
      },
      "execution_count": 16,
      "outputs": [
        {
          "output_type": "execute_result",
          "data": {
            "text/plain": [
              "(20, 1)"
            ]
          },
          "metadata": {},
          "execution_count": 16
        }
      ]
    },
    {
      "cell_type": "code",
      "execution_count": 17,
      "metadata": {
        "id": "ppgysLUiecjS"
      },
      "outputs": [],
      "source": [
        "# LSTM은 1 step 뒤의 값만을 예측하므로, forecasting_period를 1로 두고 진행\n",
        "x, y = sliding_windows(training_data, lookback_length, 1)"
      ]
    },
    {
      "cell_type": "markdown",
      "metadata": {
        "id": "V0azZI1tecjT"
      },
      "source": [
        "### Model 정의"
      ]
    },
    {
      "cell_type": "code",
      "execution_count": 18,
      "metadata": {
        "id": "C9eplEkh3hvw"
      },
      "outputs": [],
      "source": [
        "# 원본 코드 LSTM-pytorch_optuna_05와 다른 부분\n",
        "\n",
        "class LSTM(nn.Module):\n",
        "    def __init__(self, num_classes, input_size, hidden_size, num_layers):\n",
        "        super(LSTM, self).__init__()\n",
        "        self.num_classes = num_classes\n",
        "        self.num_layers = num_layers\n",
        "        self.input_size = input_size\n",
        "        self.hidden_size = hidden_size\n",
        "        \n",
        "        self.lstm = nn.LSTM(input_size = input_size, hidden_size = hidden_size,\n",
        "                            num_layers = num_layers, batch_first = True)\n",
        "        \n",
        "        self.fc = nn.Linear(hidden_size  * num_layers, num_classes)\n",
        "        \n",
        "    def forward(self, x):\n",
        "        h_0 = Variable(torch.zeros(self.num_layers, x.size(0), self.hidden_size, device = x.device))\n",
        "        c_0 = Variable(torch.zeros(self.num_layers, x.size(0), self.hidden_size, device = x.device))\n",
        "        \n",
        "        # Propagate input through LSTM\n",
        "        ula, (h_out, _) = self.lstm(x, (h_0, c_0))\n",
        "        h_out = h_out.view(-1, self.hidden_size * self.num_layers)\n",
        "        out = self.fc(h_out)\n",
        "        return out"
      ]
    },
    {
      "cell_type": "code",
      "execution_count": 19,
      "metadata": {
        "id": "3_IBkQhZ4CpP"
      },
      "outputs": [],
      "source": [
        "def train(log_interval, model, train_dl, val_dl, optimizer, criterion, epoch):\n",
        "\n",
        "    best_loss = np.inf\n",
        "    for epoch in range(epoch):\n",
        "        train_loss = 0.0\n",
        "        model.train()\n",
        "        for data, target in train_dl:\n",
        "\n",
        "            if torch.cuda.is_available():\n",
        "                data, target = data.cuda(), target.cuda()\n",
        "                model = model.cuda()\n",
        "\n",
        "            optimizer.zero_grad()\n",
        "            output = model(data)\n",
        "            loss = criterion(output, target) # mean-squared error for regression\n",
        "            loss.backward()\n",
        "            optimizer.step()\n",
        "            train_loss += loss.item()\n",
        "\n",
        "        # validation\n",
        "        valid_loss = 0.0\n",
        "        model.eval()\n",
        "        for data, target in val_dl:\n",
        "\n",
        "            if torch.cuda.is_available():\n",
        "                data, target = data.cuda(), target.cuda()\n",
        "\n",
        "            output = model(data)         \n",
        "            loss = criterion(output, target)\n",
        "            valid_loss += loss.item()\n",
        "\n",
        "        if ( epoch % log_interval == 0 ):\n",
        "            print(f'\\n Epoch {epoch} \\t Training Loss: {train_loss / len(train_dl)} \\t Validation Loss: {valid_loss / len(val_dl)} \\n')\n",
        "\n",
        "        if best_loss > (valid_loss / len(val_dl)):\n",
        "            print(f'Validation Loss Decreased({best_loss:.6f}--->{(valid_loss / len(val_dl)):.6f}) \\t Saving The Model')\n",
        "            best_loss = (valid_loss / len(val_dl))\n",
        "            torch.save(model.state_dict(), 'lstm_saved_model.pth')\n",
        "\n",
        "    return best_loss\n",
        "\n",
        "\n",
        "def smape(a, f):\n",
        "    return 1/len(a) * np.sum(2 * np.abs(f-a) / (np.abs(a) + np.abs(f))*100)"
      ]
    },
    {
      "cell_type": "code",
      "execution_count": 20,
      "metadata": {
        "id": "1DhDi3XIecjV",
        "colab": {
          "base_uri": "https://localhost:8080/"
        },
        "outputId": "4e48e338-64cc-4011-b951-d9559e35507a"
      },
      "outputs": [
        {
          "output_type": "execute_result",
          "data": {
            "text/plain": [
              "(1, 100, 1)"
            ]
          },
          "metadata": {},
          "execution_count": 20
        }
      ],
      "source": [
        "# 무슨 의미인가?\n",
        "\n",
        "aa = x_for_metric\n",
        "tmp = np.append( np.expand_dims(aa[1:, :], 0), np.expand_dims(y_for_metric[2, :], (0,2)), axis=1)\n",
        "tmp.shape"
      ]
    },
    {
      "cell_type": "code",
      "execution_count": 21,
      "metadata": {
        "id": "im6B6rzG4ClH"
      },
      "outputs": [],
      "source": [
        "def objective(trial):\n",
        "\n",
        "    cfg = { \n",
        "            'batch_size' : trial.suggest_categorical('batch_size',[32, 64, 128, 256, 512]), # [64, 128, 256],\n",
        "            'num_epochs' : trial.suggest_int('num_epochs', 5, 50, 5),\n",
        "            'learning_rate' : trial.suggest_loguniform('learning_rate', 1e-3, 1e-1), #trial.suggest_loguniform('learning_rate', 1e-2, 1e-1), # learning rate을 0.01-0.1까지 로그 uniform 분포로 사용\n",
        "            'hidden_size': trial.suggest_categorical('hidden_size',[32, 64, 128, 256, 512]),\n",
        "            'num_layers': trial.suggest_int('num_layers', 1, 7, 1),       \n",
        "        }\n",
        "\n",
        "    torch.manual_seed(42)\n",
        "\n",
        "    log_interval = 5\n",
        "    num_classes = 1 # parameter에서 빼서 상수로 설정\n",
        "\n",
        "    train_dl, val_dl, input_size = get_data_loader(x, y,  cfg['batch_size'])\n",
        "    \n",
        "    model = LSTM(\n",
        "        num_classes = num_classes, \n",
        "        input_size = input_size, \n",
        "        hidden_size = cfg['hidden_size'], \n",
        "        num_layers = cfg['num_layers']\n",
        "    )\n",
        "    \n",
        "    if torch.cuda.is_available():\n",
        "        model = model.cuda()\n",
        "        \n",
        "    optimizer = optim.Adam(model.parameters(), lr=cfg['learning_rate'])\n",
        "    criterion = torch.nn.MSELoss()\n",
        "    best_loss = train(log_interval, model, train_dl, val_dl, optimizer, criterion, cfg['num_epochs'])\n",
        "\n",
        "    print('best loss for the trial = ', best_loss)\n",
        "    predict_data = []\n",
        "    # 여기서 x는 (sample, lookback_length, 1)의 크기를 지님. 따라서, 제일 앞의 시점을 제거하려면, x[:, -1, :]이 되어야 함\n",
        "    x_pred = np.expand_dims(x_for_metric, 0)  # Inference에 사용할 lookback data를 x_pred로 지정. 앞으로 x_pred를 하나씩 옮겨 가면서 inference를 할 예정\n",
        "\n",
        "    for j, i in enumerate(range(max_prediction_length)):\n",
        "\n",
        "        # feed the last forecast back to the model as an input\n",
        "        x_pred = np.append( x_pred[:, 1:, :], np.expand_dims(y_for_metric[j, :], (0,2)), axis=1)\n",
        "        xt_pred = torch.Tensor(x_pred)\n",
        "\n",
        "        if torch.cuda.is_available():\n",
        "            xt_pred = xt_pred.cuda()\n",
        "        # generate the next forecast\n",
        "        yt_pred = model(xt_pred)\n",
        "        # tensor to array\n",
        "        # x_pred = xt_pred.cpu().detach().numpy()\n",
        "        y_pred = yt_pred.cpu().detach().numpy()\n",
        "\n",
        "        # save the forecast\n",
        "        predict_data.append(y_pred)\n",
        "\n",
        "    # transform the forecasts back to the original scale\n",
        "    predict_data = np.array(predict_data).reshape(-1, 1)\n",
        "    SMAPE = smape(y_for_metric, predict_data)\n",
        "    \n",
        "    print(f' \\nSMAPE : {SMAPE}')\n",
        "\n",
        "\n",
        "    return SMAPE"
      ]
    },
    {
      "cell_type": "code",
      "execution_count": 22,
      "metadata": {
        "colab": {
          "base_uri": "https://localhost:8080/"
        },
        "id": "LDfe0XmG4ChP",
        "outputId": "45e579e9-22cf-434b-b469-5574c7c65dc1"
      },
      "outputs": [
        {
          "output_type": "stream",
          "name": "stderr",
          "text": [
            "\u001b[32m[I 2022-06-22 11:33:58,825]\u001b[0m A new study created in memory with name: no-name-29dc2960-7f0a-41a0-9080-9d3d780c8ce1\u001b[0m\n"
          ]
        },
        {
          "output_type": "stream",
          "name": "stdout",
          "text": [
            "\n",
            " Epoch 0 \t Training Loss: 0.05748009060819944 \t Validation Loss: 0.02064674347639084 \n",
            "\n",
            "Validation Loss Decreased(inf--->0.020647) \t Saving The Model\n",
            "Validation Loss Decreased(0.020647--->0.018611) \t Saving The Model\n",
            "Validation Loss Decreased(0.018611--->0.018445) \t Saving The Model\n",
            "Validation Loss Decreased(0.018445--->0.016424) \t Saving The Model\n",
            "\n",
            " Epoch 5 \t Training Loss: 0.023175305169489648 \t Validation Loss: 0.016599976768096287 \n",
            "\n",
            "\n",
            " Epoch 10 \t Training Loss: 0.023078636783692572 \t Validation Loss: 0.016761823867758114 \n",
            "\n",
            "\n",
            " Epoch 15 \t Training Loss: 0.02305650297138426 \t Validation Loss: 0.016741549596190453 \n",
            "\n",
            "\n",
            " Epoch 20 \t Training Loss: 0.02300599817600515 \t Validation Loss: 0.01668694739540418 \n",
            "\n",
            "\n",
            " Epoch 25 \t Training Loss: 0.02295179044206937 \t Validation Loss: 0.01663207480063041 \n",
            "\n",
            "\n",
            " Epoch 30 \t Training Loss: 0.02290134442349275 \t Validation Loss: 0.01658148504793644 \n",
            "\n",
            "\n",
            " Epoch 35 \t Training Loss: 0.02285603516631656 \t Validation Loss: 0.016535097733139992 \n",
            "\n",
            "\n",
            " Epoch 40 \t Training Loss: 0.022815675992104743 \t Validation Loss: 0.01649235902975003 \n",
            "\n"
          ]
        },
        {
          "output_type": "stream",
          "name": "stderr",
          "text": [
            "\u001b[32m[I 2022-06-22 11:34:19,663]\u001b[0m Trial 0 finished with value: 65.2645984124806 and parameters: {'batch_size': 128, 'num_epochs': 45, 'learning_rate': 0.0038091057345700946, 'hidden_size': 128, 'num_layers': 2}. Best is trial 0 with value: 65.2645984124806.\u001b[0m\n"
          ]
        },
        {
          "output_type": "stream",
          "name": "stdout",
          "text": [
            "best loss for the trial =  0.01642377519359191\n",
            " \n",
            "SMAPE : 65.2645984124806\n",
            "\n",
            " Epoch 0 \t Training Loss: 573.9674616754055 \t Validation Loss: 719.6298828125 \n",
            "\n",
            "Validation Loss Decreased(inf--->719.629883) \t Saving The Model\n",
            "Validation Loss Decreased(719.629883--->489.581757) \t Saving The Model\n",
            "Validation Loss Decreased(489.581757--->211.792694) \t Saving The Model\n",
            "Validation Loss Decreased(211.792694--->9.751367) \t Saving The Model\n",
            "\n",
            " Epoch 5 \t Training Loss: 59.9263718922933 \t Validation Loss: 117.9341812133789 \n",
            "\n",
            "Validation Loss Decreased(9.751367--->5.249639) \t Saving The Model\n",
            "\n",
            " Epoch 10 \t Training Loss: 21.697325229644775 \t Validation Loss: 10.497438430786133 \n",
            "\n",
            "Validation Loss Decreased(5.249639--->1.630319) \t Saving The Model\n",
            "\n",
            " Epoch 15 \t Training Loss: 4.530174712340037 \t Validation Loss: 3.284949541091919 \n",
            "\n",
            "Validation Loss Decreased(1.630319--->0.438770) \t Saving The Model\n",
            "Validation Loss Decreased(0.438770--->0.433106) \t Saving The Model\n",
            "\n",
            " Epoch 20 \t Training Loss: 0.8404969424009323 \t Validation Loss: 1.3989794254302979 \n",
            "\n",
            "Validation Loss Decreased(0.433106--->0.264206) \t Saving The Model\n",
            "\n",
            " Epoch 25 \t Training Loss: 0.2597819392879804 \t Validation Loss: 0.14135019481182098 \n",
            "\n",
            "Validation Loss Decreased(0.264206--->0.141350) \t Saving The Model\n",
            "Validation Loss Decreased(0.141350--->0.088391) \t Saving The Model\n",
            "Validation Loss Decreased(0.088391--->0.064663) \t Saving The Model\n",
            "Validation Loss Decreased(0.064663--->0.039186) \t Saving The Model\n",
            "\n",
            " Epoch 30 \t Training Loss: 0.06077451755603155 \t Validation Loss: 0.030741991475224495 \n",
            "\n",
            "Validation Loss Decreased(0.039186--->0.030742) \t Saving The Model\n",
            "Validation Loss Decreased(0.030742--->0.028010) \t Saving The Model\n",
            "Validation Loss Decreased(0.028010--->0.024166) \t Saving The Model\n",
            "Validation Loss Decreased(0.024166--->0.023026) \t Saving The Model\n",
            "\n",
            " Epoch 35 \t Training Loss: 0.03455207124352455 \t Validation Loss: 0.027305785566568375 \n",
            "\n",
            "Validation Loss Decreased(0.023026--->0.021278) \t Saving The Model\n",
            "\n",
            " Epoch 40 \t Training Loss: 0.02606389671564102 \t Validation Loss: 0.01908019743859768 \n",
            "\n",
            "Validation Loss Decreased(0.021278--->0.019080) \t Saving The Model\n",
            "Validation Loss Decreased(0.019080--->0.017841) \t Saving The Model\n",
            "\n",
            " Epoch 45 \t Training Loss: 0.022571950530012447 \t Validation Loss: 0.017775872722268105 \n",
            "\n",
            "Validation Loss Decreased(0.017841--->0.017776) \t Saving The Model\n",
            "Validation Loss Decreased(0.017776--->0.017676) \t Saving The Model\n"
          ]
        },
        {
          "output_type": "stream",
          "name": "stderr",
          "text": [
            "\u001b[32m[I 2022-06-22 11:35:10,960]\u001b[0m Trial 1 finished with value: 71.48786428210035 and parameters: {'batch_size': 512, 'num_epochs': 50, 'learning_rate': 0.06609874673957551, 'hidden_size': 512, 'num_layers': 5}. Best is trial 0 with value: 65.2645984124806.\u001b[0m\n"
          ]
        },
        {
          "output_type": "stream",
          "name": "stdout",
          "text": [
            "best loss for the trial =  0.017675984650850296\n",
            " \n",
            "SMAPE : 71.48786428210035\n",
            "\n",
            " Epoch 0 \t Training Loss: 2.6305378075689076 \t Validation Loss: 0.04904740583151579 \n",
            "\n",
            "Validation Loss Decreased(inf--->0.049047) \t Saving The Model\n",
            "Validation Loss Decreased(0.049047--->0.041845) \t Saving The Model\n",
            "Validation Loss Decreased(0.041845--->0.039678) \t Saving The Model\n",
            "Validation Loss Decreased(0.039678--->0.014994) \t Saving The Model\n",
            "Validation Loss Decreased(0.014994--->0.014518) \t Saving The Model\n",
            "\n",
            " Epoch 5 \t Training Loss: 0.021982530876994134 \t Validation Loss: 0.018114706501364708 \n",
            "\n",
            "\n",
            " Epoch 10 \t Training Loss: 0.022018606960773467 \t Validation Loss: 0.016586564481258392 \n",
            "\n",
            "\n",
            " Epoch 15 \t Training Loss: 0.022107964381575584 \t Validation Loss: 0.01578020676970482 \n",
            "\n",
            "\n",
            " Epoch 20 \t Training Loss: 0.02210353873670101 \t Validation Loss: 0.015705503057688475 \n",
            "\n",
            "\n",
            " Epoch 25 \t Training Loss: 0.02209959290921688 \t Validation Loss: 0.015780553221702576 \n",
            "\n",
            "\n",
            " Epoch 30 \t Training Loss: 0.022113865241408348 \t Validation Loss: 0.015773456543684006 \n",
            "\n",
            "\n",
            " Epoch 35 \t Training Loss: 0.022121327370405196 \t Validation Loss: 0.015776298008859158 \n",
            "\n",
            "\n",
            " Epoch 40 \t Training Loss: 0.02212820127606392 \t Validation Loss: 0.015777707565575838 \n",
            "\n"
          ]
        },
        {
          "output_type": "stream",
          "name": "stderr",
          "text": [
            "\u001b[32m[I 2022-06-22 11:35:16,332]\u001b[0m Trial 2 finished with value: 67.33514514524812 and parameters: {'batch_size': 256, 'num_epochs': 45, 'learning_rate': 0.006020768382592309, 'hidden_size': 256, 'num_layers': 1}. Best is trial 0 with value: 65.2645984124806.\u001b[0m\n"
          ]
        },
        {
          "output_type": "stream",
          "name": "stdout",
          "text": [
            "best loss for the trial =  0.014518123585730791\n",
            " \n",
            "SMAPE : 67.33514514524812\n",
            "\n",
            " Epoch 0 \t Training Loss: 0.35734978318214417 \t Validation Loss: 0.026360008865594864 \n",
            "\n",
            "Validation Loss Decreased(inf--->0.026360) \t Saving The Model\n",
            "Validation Loss Decreased(0.026360--->0.025695) \t Saving The Model\n",
            "Validation Loss Decreased(0.025695--->0.020056) \t Saving The Model\n",
            "\n",
            " Epoch 5 \t Training Loss: 0.024021780739227932 \t Validation Loss: 0.018451644107699394 \n",
            "\n",
            "Validation Loss Decreased(0.020056--->0.018452) \t Saving The Model\n",
            "Validation Loss Decreased(0.018452--->0.017624) \t Saving The Model\n",
            "\n",
            " Epoch 10 \t Training Loss: 0.02208167314529419 \t Validation Loss: 0.017370104789733887 \n",
            "\n",
            "Validation Loss Decreased(0.017624--->0.017370) \t Saving The Model\n",
            "Validation Loss Decreased(0.017370--->0.017303) \t Saving The Model\n",
            "\n",
            " Epoch 15 \t Training Loss: 0.021877159054080646 \t Validation Loss: 0.017325295135378838 \n",
            "\n",
            "Validation Loss Decreased(0.017303--->0.017261) \t Saving The Model\n",
            "Validation Loss Decreased(0.017261--->0.017253) \t Saving The Model\n",
            "\n",
            " Epoch 20 \t Training Loss: 0.021856284389893215 \t Validation Loss: 0.01728934422135353 \n",
            "\n",
            "Validation Loss Decreased(0.017253--->0.017250) \t Saving The Model\n",
            "Validation Loss Decreased(0.017250--->0.017246) \t Saving The Model\n",
            "\n",
            " Epoch 25 \t Training Loss: 0.02187511945764224 \t Validation Loss: 0.017259960994124413 \n",
            "\n",
            "Validation Loss Decreased(0.017246--->0.017245) \t Saving The Model\n",
            "\n",
            " Epoch 30 \t Training Loss: 0.02189040680726369 \t Validation Loss: 0.017250049859285355 \n",
            "\n",
            "\n",
            " Epoch 35 \t Training Loss: 0.021898175900181133 \t Validation Loss: 0.01724756509065628 \n",
            "\n",
            "\n",
            " Epoch 40 \t Training Loss: 0.021899136404196422 \t Validation Loss: 0.017249254509806633 \n",
            "\n",
            "\n",
            " Epoch 45 \t Training Loss: 0.021901951481898625 \t Validation Loss: 0.017250871285796165 \n",
            "\n"
          ]
        },
        {
          "output_type": "stream",
          "name": "stderr",
          "text": [
            "\u001b[32m[I 2022-06-22 11:35:18,986]\u001b[0m Trial 3 finished with value: 66.49706579683958 and parameters: {'batch_size': 512, 'num_epochs': 50, 'learning_rate': 0.025896530803918818, 'hidden_size': 32, 'num_layers': 3}. Best is trial 0 with value: 65.2645984124806.\u001b[0m\n"
          ]
        },
        {
          "output_type": "stream",
          "name": "stdout",
          "text": [
            "best loss for the trial =  0.01724480837583542\n",
            " \n",
            "SMAPE : 66.49706579683958\n",
            "\n",
            " Epoch 0 \t Training Loss: 0.032822090873701706 \t Validation Loss: 0.018577103316783906 \n",
            "\n",
            "Validation Loss Decreased(inf--->0.018577) \t Saving The Model\n",
            "Validation Loss Decreased(0.018577--->0.016675) \t Saving The Model\n",
            "\n",
            " Epoch 5 \t Training Loss: 0.02612666708106796 \t Validation Loss: 0.020171087607741355 \n",
            "\n",
            "\n",
            " Epoch 10 \t Training Loss: 0.02309421408507559 \t Validation Loss: 0.017445693165063857 \n",
            "\n",
            "\n",
            " Epoch 15 \t Training Loss: 0.022639759712749057 \t Validation Loss: 0.01739627607166767 \n",
            "\n",
            "\n",
            " Epoch 20 \t Training Loss: 0.022455868776887655 \t Validation Loss: 0.017226928286254405 \n",
            "\n"
          ]
        },
        {
          "output_type": "stream",
          "name": "stderr",
          "text": [
            "\u001b[32m[I 2022-06-22 11:35:30,268]\u001b[0m Trial 4 finished with value: 80.76263883197424 and parameters: {'batch_size': 64, 'num_epochs': 25, 'learning_rate': 0.012538697969932467, 'hidden_size': 32, 'num_layers': 6}. Best is trial 0 with value: 65.2645984124806.\u001b[0m\n"
          ]
        },
        {
          "output_type": "stream",
          "name": "stdout",
          "text": [
            "best loss for the trial =  0.016675230115652084\n",
            " \n",
            "SMAPE : 80.76263883197424\n",
            "\n",
            " Epoch 0 \t Training Loss: 0.11322279231888907 \t Validation Loss: 0.01789849054896169 \n",
            "\n",
            "Validation Loss Decreased(inf--->0.017898) \t Saving The Model\n",
            "Validation Loss Decreased(0.017898--->0.017869) \t Saving The Model\n",
            "Validation Loss Decreased(0.017869--->0.017253) \t Saving The Model\n",
            "Validation Loss Decreased(0.017253--->0.017139) \t Saving The Model\n",
            "\n",
            " Epoch 5 \t Training Loss: 0.023498190247586797 \t Validation Loss: 0.0171440981535448 \n",
            "\n",
            "\n",
            " Epoch 10 \t Training Loss: 0.023569034731813838 \t Validation Loss: 0.017685135309067037 \n",
            "\n",
            "Validation Loss Decreased(0.017139--->0.017096) \t Saving The Model\n",
            "Validation Loss Decreased(0.017096--->0.016878) \t Saving The Model\n",
            "\n",
            " Epoch 15 \t Training Loss: 0.022819578221866064 \t Validation Loss: 0.017294477878345385 \n",
            "\n",
            "\n",
            " Epoch 20 \t Training Loss: 0.022853820105748518 \t Validation Loss: 0.01706583332270384 \n",
            "\n"
          ]
        },
        {
          "output_type": "stream",
          "name": "stderr",
          "text": [
            "\u001b[32m[I 2022-06-22 11:35:43,250]\u001b[0m Trial 5 finished with value: 64.25869960736114 and parameters: {'batch_size': 32, 'num_epochs': 25, 'learning_rate': 0.05217185390739443, 'hidden_size': 32, 'num_layers': 4}. Best is trial 5 with value: 64.25869960736114.\u001b[0m\n"
          ]
        },
        {
          "output_type": "stream",
          "name": "stdout",
          "text": [
            "Validation Loss Decreased(0.016878--->0.016844) \t Saving The Model\n",
            "best loss for the trial =  0.016843916848301888\n",
            " \n",
            "SMAPE : 64.25869960736114\n",
            "\n",
            " Epoch 0 \t Training Loss: 4.182005787889163 \t Validation Loss: 0.22810227870941163 \n",
            "\n",
            "Validation Loss Decreased(inf--->0.228102) \t Saving The Model\n",
            "Validation Loss Decreased(0.228102--->0.079386) \t Saving The Model\n",
            "Validation Loss Decreased(0.079386--->0.054940) \t Saving The Model\n",
            "Validation Loss Decreased(0.054940--->0.022207) \t Saving The Model\n",
            "\n",
            " Epoch 5 \t Training Loss: 0.02885263951288329 \t Validation Loss: 0.01902327537536621 \n",
            "\n",
            "Validation Loss Decreased(0.022207--->0.019023) \t Saving The Model\n",
            "Validation Loss Decreased(0.019023--->0.018665) \t Saving The Model\n",
            "\n",
            " Epoch 10 \t Training Loss: 0.03049100014484591 \t Validation Loss: 0.026043500006198882 \n",
            "\n",
            "\n",
            " Epoch 15 \t Training Loss: 0.04376911206377877 \t Validation Loss: 0.02007005363702774 \n",
            "\n",
            "\n",
            " Epoch 20 \t Training Loss: 0.045665818059609994 \t Validation Loss: 0.07604395225644112 \n",
            "\n",
            "\n",
            " Epoch 25 \t Training Loss: 0.03537712763581011 \t Validation Loss: 0.06336723119020463 \n",
            "\n",
            "\n",
            " Epoch 30 \t Training Loss: 0.029335044583098754 \t Validation Loss: 0.04017375260591507 \n",
            "\n"
          ]
        },
        {
          "output_type": "stream",
          "name": "stderr",
          "text": [
            "\u001b[32m[I 2022-06-22 11:36:40,391]\u001b[0m Trial 6 finished with value: 80.90670728743356 and parameters: {'batch_size': 64, 'num_epochs': 35, 'learning_rate': 0.005986233864334597, 'hidden_size': 512, 'num_layers': 5}. Best is trial 5 with value: 64.25869960736114.\u001b[0m\n"
          ]
        },
        {
          "output_type": "stream",
          "name": "stdout",
          "text": [
            "best loss for the trial =  0.01866472288966179\n",
            " \n",
            "SMAPE : 80.90670728743356\n"
          ]
        },
        {
          "output_type": "execute_result",
          "data": {
            "text/plain": [
              "['/content/drive/MyDrive/교육/AI실무인증과정/LSTM/LSTM_pytorch_optuna_06.pkl']"
            ]
          },
          "metadata": {},
          "execution_count": 22
        }
      ],
      "source": [
        "sampler = optuna.samplers.TPESampler()\n",
        "#   sampler = optuna.samplers.SkoptSampler()\n",
        "\n",
        "# model.load_state_dict(torch.load('lstm_saved_model.pth'))\n",
        "    \n",
        "study = optuna.create_study(sampler=sampler, direction='minimize')\n",
        "study.optimize(objective, n_trials= 7)\n",
        "joblib.dump(study, '/content/drive/MyDrive/교육/AI실무인증과정/LSTM/LSTM_pytorch_optuna_06.pkl')"
      ]
    },
    {
      "cell_type": "code",
      "execution_count": 23,
      "metadata": {
        "id": "FqV0d659ecjX",
        "colab": {
          "base_uri": "https://localhost:8080/",
          "height": 434
        },
        "outputId": "66f5279b-f06c-4158-afad-f7c5c2caf92d"
      },
      "outputs": [
        {
          "output_type": "execute_result",
          "data": {
            "text/plain": [
              "   number      value             datetime_start          datetime_complete  \\\n",
              "5       5  64.258700 2022-06-22 11:35:30.269737 2022-06-22 11:35:43.250624   \n",
              "0       0  65.264598 2022-06-22 11:33:58.832678 2022-06-22 11:34:19.662926   \n",
              "3       3  66.497066 2022-06-22 11:35:16.333515 2022-06-22 11:35:18.986343   \n",
              "2       2  67.335145 2022-06-22 11:35:10.961908 2022-06-22 11:35:16.331743   \n",
              "1       1  71.487864 2022-06-22 11:34:19.666222 2022-06-22 11:35:10.960080   \n",
              "4       4  80.762639 2022-06-22 11:35:18.988171 2022-06-22 11:35:30.267761   \n",
              "6       6  80.906707 2022-06-22 11:35:43.254234 2022-06-22 11:36:40.391254   \n",
              "\n",
              "                duration  params_batch_size  params_hidden_size  \\\n",
              "5 0 days 00:00:12.980887                 32                  32   \n",
              "0 0 days 00:00:20.830248                128                 128   \n",
              "3 0 days 00:00:02.652828                512                  32   \n",
              "2 0 days 00:00:05.369835                256                 256   \n",
              "1 0 days 00:00:51.293858                512                 512   \n",
              "4 0 days 00:00:11.279590                 64                  32   \n",
              "6 0 days 00:00:57.137020                 64                 512   \n",
              "\n",
              "   params_learning_rate  params_num_epochs  params_num_layers     state  \n",
              "5              0.052172                 25                  4  COMPLETE  \n",
              "0              0.003809                 45                  2  COMPLETE  \n",
              "3              0.025897                 50                  3  COMPLETE  \n",
              "2              0.006021                 45                  1  COMPLETE  \n",
              "1              0.066099                 50                  5  COMPLETE  \n",
              "4              0.012539                 25                  6  COMPLETE  \n",
              "6              0.005986                 35                  5  COMPLETE  "
            ],
            "text/html": [
              "\n",
              "  <div id=\"df-1d0f62b1-42fe-43d7-8156-9eae39c7867c\">\n",
              "    <div class=\"colab-df-container\">\n",
              "      <div>\n",
              "<style scoped>\n",
              "    .dataframe tbody tr th:only-of-type {\n",
              "        vertical-align: middle;\n",
              "    }\n",
              "\n",
              "    .dataframe tbody tr th {\n",
              "        vertical-align: top;\n",
              "    }\n",
              "\n",
              "    .dataframe thead th {\n",
              "        text-align: right;\n",
              "    }\n",
              "</style>\n",
              "<table border=\"1\" class=\"dataframe\">\n",
              "  <thead>\n",
              "    <tr style=\"text-align: right;\">\n",
              "      <th></th>\n",
              "      <th>number</th>\n",
              "      <th>value</th>\n",
              "      <th>datetime_start</th>\n",
              "      <th>datetime_complete</th>\n",
              "      <th>duration</th>\n",
              "      <th>params_batch_size</th>\n",
              "      <th>params_hidden_size</th>\n",
              "      <th>params_learning_rate</th>\n",
              "      <th>params_num_epochs</th>\n",
              "      <th>params_num_layers</th>\n",
              "      <th>state</th>\n",
              "    </tr>\n",
              "  </thead>\n",
              "  <tbody>\n",
              "    <tr>\n",
              "      <th>5</th>\n",
              "      <td>5</td>\n",
              "      <td>64.258700</td>\n",
              "      <td>2022-06-22 11:35:30.269737</td>\n",
              "      <td>2022-06-22 11:35:43.250624</td>\n",
              "      <td>0 days 00:00:12.980887</td>\n",
              "      <td>32</td>\n",
              "      <td>32</td>\n",
              "      <td>0.052172</td>\n",
              "      <td>25</td>\n",
              "      <td>4</td>\n",
              "      <td>COMPLETE</td>\n",
              "    </tr>\n",
              "    <tr>\n",
              "      <th>0</th>\n",
              "      <td>0</td>\n",
              "      <td>65.264598</td>\n",
              "      <td>2022-06-22 11:33:58.832678</td>\n",
              "      <td>2022-06-22 11:34:19.662926</td>\n",
              "      <td>0 days 00:00:20.830248</td>\n",
              "      <td>128</td>\n",
              "      <td>128</td>\n",
              "      <td>0.003809</td>\n",
              "      <td>45</td>\n",
              "      <td>2</td>\n",
              "      <td>COMPLETE</td>\n",
              "    </tr>\n",
              "    <tr>\n",
              "      <th>3</th>\n",
              "      <td>3</td>\n",
              "      <td>66.497066</td>\n",
              "      <td>2022-06-22 11:35:16.333515</td>\n",
              "      <td>2022-06-22 11:35:18.986343</td>\n",
              "      <td>0 days 00:00:02.652828</td>\n",
              "      <td>512</td>\n",
              "      <td>32</td>\n",
              "      <td>0.025897</td>\n",
              "      <td>50</td>\n",
              "      <td>3</td>\n",
              "      <td>COMPLETE</td>\n",
              "    </tr>\n",
              "    <tr>\n",
              "      <th>2</th>\n",
              "      <td>2</td>\n",
              "      <td>67.335145</td>\n",
              "      <td>2022-06-22 11:35:10.961908</td>\n",
              "      <td>2022-06-22 11:35:16.331743</td>\n",
              "      <td>0 days 00:00:05.369835</td>\n",
              "      <td>256</td>\n",
              "      <td>256</td>\n",
              "      <td>0.006021</td>\n",
              "      <td>45</td>\n",
              "      <td>1</td>\n",
              "      <td>COMPLETE</td>\n",
              "    </tr>\n",
              "    <tr>\n",
              "      <th>1</th>\n",
              "      <td>1</td>\n",
              "      <td>71.487864</td>\n",
              "      <td>2022-06-22 11:34:19.666222</td>\n",
              "      <td>2022-06-22 11:35:10.960080</td>\n",
              "      <td>0 days 00:00:51.293858</td>\n",
              "      <td>512</td>\n",
              "      <td>512</td>\n",
              "      <td>0.066099</td>\n",
              "      <td>50</td>\n",
              "      <td>5</td>\n",
              "      <td>COMPLETE</td>\n",
              "    </tr>\n",
              "    <tr>\n",
              "      <th>4</th>\n",
              "      <td>4</td>\n",
              "      <td>80.762639</td>\n",
              "      <td>2022-06-22 11:35:18.988171</td>\n",
              "      <td>2022-06-22 11:35:30.267761</td>\n",
              "      <td>0 days 00:00:11.279590</td>\n",
              "      <td>64</td>\n",
              "      <td>32</td>\n",
              "      <td>0.012539</td>\n",
              "      <td>25</td>\n",
              "      <td>6</td>\n",
              "      <td>COMPLETE</td>\n",
              "    </tr>\n",
              "    <tr>\n",
              "      <th>6</th>\n",
              "      <td>6</td>\n",
              "      <td>80.906707</td>\n",
              "      <td>2022-06-22 11:35:43.254234</td>\n",
              "      <td>2022-06-22 11:36:40.391254</td>\n",
              "      <td>0 days 00:00:57.137020</td>\n",
              "      <td>64</td>\n",
              "      <td>512</td>\n",
              "      <td>0.005986</td>\n",
              "      <td>35</td>\n",
              "      <td>5</td>\n",
              "      <td>COMPLETE</td>\n",
              "    </tr>\n",
              "  </tbody>\n",
              "</table>\n",
              "</div>\n",
              "      <button class=\"colab-df-convert\" onclick=\"convertToInteractive('df-1d0f62b1-42fe-43d7-8156-9eae39c7867c')\"\n",
              "              title=\"Convert this dataframe to an interactive table.\"\n",
              "              style=\"display:none;\">\n",
              "        \n",
              "  <svg xmlns=\"http://www.w3.org/2000/svg\" height=\"24px\"viewBox=\"0 0 24 24\"\n",
              "       width=\"24px\">\n",
              "    <path d=\"M0 0h24v24H0V0z\" fill=\"none\"/>\n",
              "    <path d=\"M18.56 5.44l.94 2.06.94-2.06 2.06-.94-2.06-.94-.94-2.06-.94 2.06-2.06.94zm-11 1L8.5 8.5l.94-2.06 2.06-.94-2.06-.94L8.5 2.5l-.94 2.06-2.06.94zm10 10l.94 2.06.94-2.06 2.06-.94-2.06-.94-.94-2.06-.94 2.06-2.06.94z\"/><path d=\"M17.41 7.96l-1.37-1.37c-.4-.4-.92-.59-1.43-.59-.52 0-1.04.2-1.43.59L10.3 9.45l-7.72 7.72c-.78.78-.78 2.05 0 2.83L4 21.41c.39.39.9.59 1.41.59.51 0 1.02-.2 1.41-.59l7.78-7.78 2.81-2.81c.8-.78.8-2.07 0-2.86zM5.41 20L4 18.59l7.72-7.72 1.47 1.35L5.41 20z\"/>\n",
              "  </svg>\n",
              "      </button>\n",
              "      \n",
              "  <style>\n",
              "    .colab-df-container {\n",
              "      display:flex;\n",
              "      flex-wrap:wrap;\n",
              "      gap: 12px;\n",
              "    }\n",
              "\n",
              "    .colab-df-convert {\n",
              "      background-color: #E8F0FE;\n",
              "      border: none;\n",
              "      border-radius: 50%;\n",
              "      cursor: pointer;\n",
              "      display: none;\n",
              "      fill: #1967D2;\n",
              "      height: 32px;\n",
              "      padding: 0 0 0 0;\n",
              "      width: 32px;\n",
              "    }\n",
              "\n",
              "    .colab-df-convert:hover {\n",
              "      background-color: #E2EBFA;\n",
              "      box-shadow: 0px 1px 2px rgba(60, 64, 67, 0.3), 0px 1px 3px 1px rgba(60, 64, 67, 0.15);\n",
              "      fill: #174EA6;\n",
              "    }\n",
              "\n",
              "    [theme=dark] .colab-df-convert {\n",
              "      background-color: #3B4455;\n",
              "      fill: #D2E3FC;\n",
              "    }\n",
              "\n",
              "    [theme=dark] .colab-df-convert:hover {\n",
              "      background-color: #434B5C;\n",
              "      box-shadow: 0px 1px 3px 1px rgba(0, 0, 0, 0.15);\n",
              "      filter: drop-shadow(0px 1px 2px rgba(0, 0, 0, 0.3));\n",
              "      fill: #FFFFFF;\n",
              "    }\n",
              "  </style>\n",
              "\n",
              "      <script>\n",
              "        const buttonEl =\n",
              "          document.querySelector('#df-1d0f62b1-42fe-43d7-8156-9eae39c7867c button.colab-df-convert');\n",
              "        buttonEl.style.display =\n",
              "          google.colab.kernel.accessAllowed ? 'block' : 'none';\n",
              "\n",
              "        async function convertToInteractive(key) {\n",
              "          const element = document.querySelector('#df-1d0f62b1-42fe-43d7-8156-9eae39c7867c');\n",
              "          const dataTable =\n",
              "            await google.colab.kernel.invokeFunction('convertToInteractive',\n",
              "                                                     [key], {});\n",
              "          if (!dataTable) return;\n",
              "\n",
              "          const docLinkHtml = 'Like what you see? Visit the ' +\n",
              "            '<a target=\"_blank\" href=https://colab.research.google.com/notebooks/data_table.ipynb>data table notebook</a>'\n",
              "            + ' to learn more about interactive tables.';\n",
              "          element.innerHTML = '';\n",
              "          dataTable['output_type'] = 'display_data';\n",
              "          await google.colab.output.renderOutput(dataTable, element);\n",
              "          const docLink = document.createElement('div');\n",
              "          docLink.innerHTML = docLinkHtml;\n",
              "          element.appendChild(docLink);\n",
              "        }\n",
              "      </script>\n",
              "    </div>\n",
              "  </div>\n",
              "  "
            ]
          },
          "metadata": {},
          "execution_count": 23
        }
      ],
      "source": [
        "study = joblib.load('/content/drive/MyDrive/교육/AI실무인증과정/LSTM/LSTM_pytorch_optuna_06.pkl') \n",
        "df = study.trials_dataframe() \n",
        "df.sort_values('value')"
      ]
    },
    {
      "cell_type": "code",
      "source": [
        "study.best_params"
      ],
      "metadata": {
        "id": "vfNBpfq07pOe",
        "colab": {
          "base_uri": "https://localhost:8080/"
        },
        "outputId": "42c51d34-f168-4bac-a30a-7a83481976cc"
      },
      "execution_count": 24,
      "outputs": [
        {
          "output_type": "execute_result",
          "data": {
            "text/plain": [
              "{'batch_size': 32,\n",
              " 'hidden_size': 32,\n",
              " 'learning_rate': 0.05217185390739443,\n",
              " 'num_epochs': 25,\n",
              " 'num_layers': 4}"
            ]
          },
          "metadata": {},
          "execution_count": 24
        }
      ]
    },
    {
      "cell_type": "code",
      "source": [
        "optuna.visualization.plot_param_importances(study)"
      ],
      "metadata": {
        "id": "cylCvtyz7r1H",
        "colab": {
          "base_uri": "https://localhost:8080/",
          "height": 542
        },
        "outputId": "274b9783-bea5-4e4c-902d-44746f445fb1"
      },
      "execution_count": 25,
      "outputs": [
        {
          "output_type": "display_data",
          "data": {
            "text/html": [
              "<html>\n",
              "<head><meta charset=\"utf-8\" /></head>\n",
              "<body>\n",
              "    <div>            <script src=\"https://cdnjs.cloudflare.com/ajax/libs/mathjax/2.7.5/MathJax.js?config=TeX-AMS-MML_SVG\"></script><script type=\"text/javascript\">if (window.MathJax) {MathJax.Hub.Config({SVG: {font: \"STIX-Web\"}});}</script>                <script type=\"text/javascript\">window.PlotlyConfig = {MathJaxConfig: 'local'};</script>\n",
              "        <script src=\"https://cdn.plot.ly/plotly-2.8.3.min.js\"></script>                <div id=\"19b533ef-840a-491a-acd1-d3f95918ad7b\" class=\"plotly-graph-div\" style=\"height:525px; width:100%;\"></div>            <script type=\"text/javascript\">                                    window.PLOTLYENV=window.PLOTLYENV || {};                                    if (document.getElementById(\"19b533ef-840a-491a-acd1-d3f95918ad7b\")) {                    Plotly.newPlot(                        \"19b533ef-840a-491a-acd1-d3f95918ad7b\",                        [{\"cliponaxis\":false,\"hovertemplate\":[\"learning_rate (LogUniformDistribution): 0.05739212229578057<extra></extra>\",\"hidden_size (CategoricalDistribution): 0.06913414947726336<extra></extra>\",\"num_epochs (IntUniformDistribution): 0.1103436946833593<extra></extra>\",\"num_layers (IntUniformDistribution): 0.18926807120027714<extra></extra>\",\"batch_size (CategoricalDistribution): 0.5738619623433197<extra></extra>\"],\"marker\":{\"color\":\"rgb(66,146,198)\"},\"orientation\":\"h\",\"text\":[\"0.05739212229578057\",\"0.06913414947726336\",\"0.1103436946833593\",\"0.18926807120027714\",\"0.5738619623433197\"],\"textposition\":\"outside\",\"texttemplate\":\"%{text:.2f}\",\"x\":[0.05739212229578057,0.06913414947726336,0.1103436946833593,0.18926807120027714,0.5738619623433197],\"y\":[\"learning_rate\",\"hidden_size\",\"num_epochs\",\"num_layers\",\"batch_size\"],\"type\":\"bar\"}],                        {\"showlegend\":false,\"title\":{\"text\":\"Hyperparameter Importances\"},\"xaxis\":{\"title\":{\"text\":\"Importance for Objective Value\"}},\"yaxis\":{\"title\":{\"text\":\"Hyperparameter\"}},\"template\":{\"data\":{\"bar\":[{\"error_x\":{\"color\":\"#2a3f5f\"},\"error_y\":{\"color\":\"#2a3f5f\"},\"marker\":{\"line\":{\"color\":\"#E5ECF6\",\"width\":0.5},\"pattern\":{\"fillmode\":\"overlay\",\"size\":10,\"solidity\":0.2}},\"type\":\"bar\"}],\"barpolar\":[{\"marker\":{\"line\":{\"color\":\"#E5ECF6\",\"width\":0.5},\"pattern\":{\"fillmode\":\"overlay\",\"size\":10,\"solidity\":0.2}},\"type\":\"barpolar\"}],\"carpet\":[{\"aaxis\":{\"endlinecolor\":\"#2a3f5f\",\"gridcolor\":\"white\",\"linecolor\":\"white\",\"minorgridcolor\":\"white\",\"startlinecolor\":\"#2a3f5f\"},\"baxis\":{\"endlinecolor\":\"#2a3f5f\",\"gridcolor\":\"white\",\"linecolor\":\"white\",\"minorgridcolor\":\"white\",\"startlinecolor\":\"#2a3f5f\"},\"type\":\"carpet\"}],\"choropleth\":[{\"colorbar\":{\"outlinewidth\":0,\"ticks\":\"\"},\"type\":\"choropleth\"}],\"contour\":[{\"colorbar\":{\"outlinewidth\":0,\"ticks\":\"\"},\"colorscale\":[[0.0,\"#0d0887\"],[0.1111111111111111,\"#46039f\"],[0.2222222222222222,\"#7201a8\"],[0.3333333333333333,\"#9c179e\"],[0.4444444444444444,\"#bd3786\"],[0.5555555555555556,\"#d8576b\"],[0.6666666666666666,\"#ed7953\"],[0.7777777777777778,\"#fb9f3a\"],[0.8888888888888888,\"#fdca26\"],[1.0,\"#f0f921\"]],\"type\":\"contour\"}],\"contourcarpet\":[{\"colorbar\":{\"outlinewidth\":0,\"ticks\":\"\"},\"type\":\"contourcarpet\"}],\"heatmap\":[{\"colorbar\":{\"outlinewidth\":0,\"ticks\":\"\"},\"colorscale\":[[0.0,\"#0d0887\"],[0.1111111111111111,\"#46039f\"],[0.2222222222222222,\"#7201a8\"],[0.3333333333333333,\"#9c179e\"],[0.4444444444444444,\"#bd3786\"],[0.5555555555555556,\"#d8576b\"],[0.6666666666666666,\"#ed7953\"],[0.7777777777777778,\"#fb9f3a\"],[0.8888888888888888,\"#fdca26\"],[1.0,\"#f0f921\"]],\"type\":\"heatmap\"}],\"heatmapgl\":[{\"colorbar\":{\"outlinewidth\":0,\"ticks\":\"\"},\"colorscale\":[[0.0,\"#0d0887\"],[0.1111111111111111,\"#46039f\"],[0.2222222222222222,\"#7201a8\"],[0.3333333333333333,\"#9c179e\"],[0.4444444444444444,\"#bd3786\"],[0.5555555555555556,\"#d8576b\"],[0.6666666666666666,\"#ed7953\"],[0.7777777777777778,\"#fb9f3a\"],[0.8888888888888888,\"#fdca26\"],[1.0,\"#f0f921\"]],\"type\":\"heatmapgl\"}],\"histogram\":[{\"marker\":{\"pattern\":{\"fillmode\":\"overlay\",\"size\":10,\"solidity\":0.2}},\"type\":\"histogram\"}],\"histogram2d\":[{\"colorbar\":{\"outlinewidth\":0,\"ticks\":\"\"},\"colorscale\":[[0.0,\"#0d0887\"],[0.1111111111111111,\"#46039f\"],[0.2222222222222222,\"#7201a8\"],[0.3333333333333333,\"#9c179e\"],[0.4444444444444444,\"#bd3786\"],[0.5555555555555556,\"#d8576b\"],[0.6666666666666666,\"#ed7953\"],[0.7777777777777778,\"#fb9f3a\"],[0.8888888888888888,\"#fdca26\"],[1.0,\"#f0f921\"]],\"type\":\"histogram2d\"}],\"histogram2dcontour\":[{\"colorbar\":{\"outlinewidth\":0,\"ticks\":\"\"},\"colorscale\":[[0.0,\"#0d0887\"],[0.1111111111111111,\"#46039f\"],[0.2222222222222222,\"#7201a8\"],[0.3333333333333333,\"#9c179e\"],[0.4444444444444444,\"#bd3786\"],[0.5555555555555556,\"#d8576b\"],[0.6666666666666666,\"#ed7953\"],[0.7777777777777778,\"#fb9f3a\"],[0.8888888888888888,\"#fdca26\"],[1.0,\"#f0f921\"]],\"type\":\"histogram2dcontour\"}],\"mesh3d\":[{\"colorbar\":{\"outlinewidth\":0,\"ticks\":\"\"},\"type\":\"mesh3d\"}],\"parcoords\":[{\"line\":{\"colorbar\":{\"outlinewidth\":0,\"ticks\":\"\"}},\"type\":\"parcoords\"}],\"pie\":[{\"automargin\":true,\"type\":\"pie\"}],\"scatter\":[{\"marker\":{\"colorbar\":{\"outlinewidth\":0,\"ticks\":\"\"}},\"type\":\"scatter\"}],\"scatter3d\":[{\"line\":{\"colorbar\":{\"outlinewidth\":0,\"ticks\":\"\"}},\"marker\":{\"colorbar\":{\"outlinewidth\":0,\"ticks\":\"\"}},\"type\":\"scatter3d\"}],\"scattercarpet\":[{\"marker\":{\"colorbar\":{\"outlinewidth\":0,\"ticks\":\"\"}},\"type\":\"scattercarpet\"}],\"scattergeo\":[{\"marker\":{\"colorbar\":{\"outlinewidth\":0,\"ticks\":\"\"}},\"type\":\"scattergeo\"}],\"scattergl\":[{\"marker\":{\"colorbar\":{\"outlinewidth\":0,\"ticks\":\"\"}},\"type\":\"scattergl\"}],\"scattermapbox\":[{\"marker\":{\"colorbar\":{\"outlinewidth\":0,\"ticks\":\"\"}},\"type\":\"scattermapbox\"}],\"scatterpolar\":[{\"marker\":{\"colorbar\":{\"outlinewidth\":0,\"ticks\":\"\"}},\"type\":\"scatterpolar\"}],\"scatterpolargl\":[{\"marker\":{\"colorbar\":{\"outlinewidth\":0,\"ticks\":\"\"}},\"type\":\"scatterpolargl\"}],\"scatterternary\":[{\"marker\":{\"colorbar\":{\"outlinewidth\":0,\"ticks\":\"\"}},\"type\":\"scatterternary\"}],\"surface\":[{\"colorbar\":{\"outlinewidth\":0,\"ticks\":\"\"},\"colorscale\":[[0.0,\"#0d0887\"],[0.1111111111111111,\"#46039f\"],[0.2222222222222222,\"#7201a8\"],[0.3333333333333333,\"#9c179e\"],[0.4444444444444444,\"#bd3786\"],[0.5555555555555556,\"#d8576b\"],[0.6666666666666666,\"#ed7953\"],[0.7777777777777778,\"#fb9f3a\"],[0.8888888888888888,\"#fdca26\"],[1.0,\"#f0f921\"]],\"type\":\"surface\"}],\"table\":[{\"cells\":{\"fill\":{\"color\":\"#EBF0F8\"},\"line\":{\"color\":\"white\"}},\"header\":{\"fill\":{\"color\":\"#C8D4E3\"},\"line\":{\"color\":\"white\"}},\"type\":\"table\"}]},\"layout\":{\"annotationdefaults\":{\"arrowcolor\":\"#2a3f5f\",\"arrowhead\":0,\"arrowwidth\":1},\"autotypenumbers\":\"strict\",\"coloraxis\":{\"colorbar\":{\"outlinewidth\":0,\"ticks\":\"\"}},\"colorscale\":{\"diverging\":[[0,\"#8e0152\"],[0.1,\"#c51b7d\"],[0.2,\"#de77ae\"],[0.3,\"#f1b6da\"],[0.4,\"#fde0ef\"],[0.5,\"#f7f7f7\"],[0.6,\"#e6f5d0\"],[0.7,\"#b8e186\"],[0.8,\"#7fbc41\"],[0.9,\"#4d9221\"],[1,\"#276419\"]],\"sequential\":[[0.0,\"#0d0887\"],[0.1111111111111111,\"#46039f\"],[0.2222222222222222,\"#7201a8\"],[0.3333333333333333,\"#9c179e\"],[0.4444444444444444,\"#bd3786\"],[0.5555555555555556,\"#d8576b\"],[0.6666666666666666,\"#ed7953\"],[0.7777777777777778,\"#fb9f3a\"],[0.8888888888888888,\"#fdca26\"],[1.0,\"#f0f921\"]],\"sequentialminus\":[[0.0,\"#0d0887\"],[0.1111111111111111,\"#46039f\"],[0.2222222222222222,\"#7201a8\"],[0.3333333333333333,\"#9c179e\"],[0.4444444444444444,\"#bd3786\"],[0.5555555555555556,\"#d8576b\"],[0.6666666666666666,\"#ed7953\"],[0.7777777777777778,\"#fb9f3a\"],[0.8888888888888888,\"#fdca26\"],[1.0,\"#f0f921\"]]},\"colorway\":[\"#636efa\",\"#EF553B\",\"#00cc96\",\"#ab63fa\",\"#FFA15A\",\"#19d3f3\",\"#FF6692\",\"#B6E880\",\"#FF97FF\",\"#FECB52\"],\"font\":{\"color\":\"#2a3f5f\"},\"geo\":{\"bgcolor\":\"white\",\"lakecolor\":\"white\",\"landcolor\":\"#E5ECF6\",\"showlakes\":true,\"showland\":true,\"subunitcolor\":\"white\"},\"hoverlabel\":{\"align\":\"left\"},\"hovermode\":\"closest\",\"mapbox\":{\"style\":\"light\"},\"paper_bgcolor\":\"white\",\"plot_bgcolor\":\"#E5ECF6\",\"polar\":{\"angularaxis\":{\"gridcolor\":\"white\",\"linecolor\":\"white\",\"ticks\":\"\"},\"bgcolor\":\"#E5ECF6\",\"radialaxis\":{\"gridcolor\":\"white\",\"linecolor\":\"white\",\"ticks\":\"\"}},\"scene\":{\"xaxis\":{\"backgroundcolor\":\"#E5ECF6\",\"gridcolor\":\"white\",\"gridwidth\":2,\"linecolor\":\"white\",\"showbackground\":true,\"ticks\":\"\",\"zerolinecolor\":\"white\"},\"yaxis\":{\"backgroundcolor\":\"#E5ECF6\",\"gridcolor\":\"white\",\"gridwidth\":2,\"linecolor\":\"white\",\"showbackground\":true,\"ticks\":\"\",\"zerolinecolor\":\"white\"},\"zaxis\":{\"backgroundcolor\":\"#E5ECF6\",\"gridcolor\":\"white\",\"gridwidth\":2,\"linecolor\":\"white\",\"showbackground\":true,\"ticks\":\"\",\"zerolinecolor\":\"white\"}},\"shapedefaults\":{\"line\":{\"color\":\"#2a3f5f\"}},\"ternary\":{\"aaxis\":{\"gridcolor\":\"white\",\"linecolor\":\"white\",\"ticks\":\"\"},\"baxis\":{\"gridcolor\":\"white\",\"linecolor\":\"white\",\"ticks\":\"\"},\"bgcolor\":\"#E5ECF6\",\"caxis\":{\"gridcolor\":\"white\",\"linecolor\":\"white\",\"ticks\":\"\"}},\"title\":{\"x\":0.05},\"xaxis\":{\"automargin\":true,\"gridcolor\":\"white\",\"linecolor\":\"white\",\"ticks\":\"\",\"title\":{\"standoff\":15},\"zerolinecolor\":\"white\",\"zerolinewidth\":2},\"yaxis\":{\"automargin\":true,\"gridcolor\":\"white\",\"linecolor\":\"white\",\"ticks\":\"\",\"title\":{\"standoff\":15},\"zerolinecolor\":\"white\",\"zerolinewidth\":2}}}},                        {\"responsive\": true}                    ).then(function(){\n",
              "                            \n",
              "var gd = document.getElementById('19b533ef-840a-491a-acd1-d3f95918ad7b');\n",
              "var x = new MutationObserver(function (mutations, observer) {{\n",
              "        var display = window.getComputedStyle(gd).display;\n",
              "        if (!display || display === 'none') {{\n",
              "            console.log([gd, 'removed!']);\n",
              "            Plotly.purge(gd);\n",
              "            observer.disconnect();\n",
              "        }}\n",
              "}});\n",
              "\n",
              "// Listen for the removal of the full notebook cells\n",
              "var notebookContainer = gd.closest('#notebook-container');\n",
              "if (notebookContainer) {{\n",
              "    x.observe(notebookContainer, {childList: true});\n",
              "}}\n",
              "\n",
              "// Listen for the clearing of the current output cell\n",
              "var outputEl = gd.closest('.output');\n",
              "if (outputEl) {{\n",
              "    x.observe(outputEl, {childList: true});\n",
              "}}\n",
              "\n",
              "                        })                };                            </script>        </div>\n",
              "</body>\n",
              "</html>"
            ]
          },
          "metadata": {}
        }
      ]
    },
    {
      "cell_type": "code",
      "source": [
        "optuna.visualization.plot_optimization_history(study)"
      ],
      "metadata": {
        "id": "gwQcHpDv7t44",
        "colab": {
          "base_uri": "https://localhost:8080/",
          "height": 542
        },
        "outputId": "6e07f02a-acc2-42f7-dfb9-d70a2b1ceb9e"
      },
      "execution_count": 26,
      "outputs": [
        {
          "output_type": "display_data",
          "data": {
            "text/html": [
              "<html>\n",
              "<head><meta charset=\"utf-8\" /></head>\n",
              "<body>\n",
              "    <div>            <script src=\"https://cdnjs.cloudflare.com/ajax/libs/mathjax/2.7.5/MathJax.js?config=TeX-AMS-MML_SVG\"></script><script type=\"text/javascript\">if (window.MathJax) {MathJax.Hub.Config({SVG: {font: \"STIX-Web\"}});}</script>                <script type=\"text/javascript\">window.PlotlyConfig = {MathJaxConfig: 'local'};</script>\n",
              "        <script src=\"https://cdn.plot.ly/plotly-2.8.3.min.js\"></script>                <div id=\"15409345-17f6-4655-bb80-46d8795f68fc\" class=\"plotly-graph-div\" style=\"height:525px; width:100%;\"></div>            <script type=\"text/javascript\">                                    window.PLOTLYENV=window.PLOTLYENV || {};                                    if (document.getElementById(\"15409345-17f6-4655-bb80-46d8795f68fc\")) {                    Plotly.newPlot(                        \"15409345-17f6-4655-bb80-46d8795f68fc\",                        [{\"mode\":\"markers\",\"name\":\"Objective Value\",\"x\":[0,1,2,3,4,5,6],\"y\":[65.2645984124806,71.48786428210035,67.33514514524812,66.49706579683958,80.76263883197424,64.25869960736114,80.90670728743356],\"type\":\"scatter\"},{\"name\":\"Best Value\",\"x\":[0,1,2,3,4,5,6],\"y\":[65.2645984124806,65.2645984124806,65.2645984124806,65.2645984124806,65.2645984124806,64.25869960736114,64.25869960736114],\"type\":\"scatter\"}],                        {\"title\":{\"text\":\"Optimization History Plot\"},\"xaxis\":{\"title\":{\"text\":\"#Trials\"}},\"yaxis\":{\"title\":{\"text\":\"Objective Value\"}},\"template\":{\"data\":{\"bar\":[{\"error_x\":{\"color\":\"#2a3f5f\"},\"error_y\":{\"color\":\"#2a3f5f\"},\"marker\":{\"line\":{\"color\":\"#E5ECF6\",\"width\":0.5},\"pattern\":{\"fillmode\":\"overlay\",\"size\":10,\"solidity\":0.2}},\"type\":\"bar\"}],\"barpolar\":[{\"marker\":{\"line\":{\"color\":\"#E5ECF6\",\"width\":0.5},\"pattern\":{\"fillmode\":\"overlay\",\"size\":10,\"solidity\":0.2}},\"type\":\"barpolar\"}],\"carpet\":[{\"aaxis\":{\"endlinecolor\":\"#2a3f5f\",\"gridcolor\":\"white\",\"linecolor\":\"white\",\"minorgridcolor\":\"white\",\"startlinecolor\":\"#2a3f5f\"},\"baxis\":{\"endlinecolor\":\"#2a3f5f\",\"gridcolor\":\"white\",\"linecolor\":\"white\",\"minorgridcolor\":\"white\",\"startlinecolor\":\"#2a3f5f\"},\"type\":\"carpet\"}],\"choropleth\":[{\"colorbar\":{\"outlinewidth\":0,\"ticks\":\"\"},\"type\":\"choropleth\"}],\"contour\":[{\"colorbar\":{\"outlinewidth\":0,\"ticks\":\"\"},\"colorscale\":[[0.0,\"#0d0887\"],[0.1111111111111111,\"#46039f\"],[0.2222222222222222,\"#7201a8\"],[0.3333333333333333,\"#9c179e\"],[0.4444444444444444,\"#bd3786\"],[0.5555555555555556,\"#d8576b\"],[0.6666666666666666,\"#ed7953\"],[0.7777777777777778,\"#fb9f3a\"],[0.8888888888888888,\"#fdca26\"],[1.0,\"#f0f921\"]],\"type\":\"contour\"}],\"contourcarpet\":[{\"colorbar\":{\"outlinewidth\":0,\"ticks\":\"\"},\"type\":\"contourcarpet\"}],\"heatmap\":[{\"colorbar\":{\"outlinewidth\":0,\"ticks\":\"\"},\"colorscale\":[[0.0,\"#0d0887\"],[0.1111111111111111,\"#46039f\"],[0.2222222222222222,\"#7201a8\"],[0.3333333333333333,\"#9c179e\"],[0.4444444444444444,\"#bd3786\"],[0.5555555555555556,\"#d8576b\"],[0.6666666666666666,\"#ed7953\"],[0.7777777777777778,\"#fb9f3a\"],[0.8888888888888888,\"#fdca26\"],[1.0,\"#f0f921\"]],\"type\":\"heatmap\"}],\"heatmapgl\":[{\"colorbar\":{\"outlinewidth\":0,\"ticks\":\"\"},\"colorscale\":[[0.0,\"#0d0887\"],[0.1111111111111111,\"#46039f\"],[0.2222222222222222,\"#7201a8\"],[0.3333333333333333,\"#9c179e\"],[0.4444444444444444,\"#bd3786\"],[0.5555555555555556,\"#d8576b\"],[0.6666666666666666,\"#ed7953\"],[0.7777777777777778,\"#fb9f3a\"],[0.8888888888888888,\"#fdca26\"],[1.0,\"#f0f921\"]],\"type\":\"heatmapgl\"}],\"histogram\":[{\"marker\":{\"pattern\":{\"fillmode\":\"overlay\",\"size\":10,\"solidity\":0.2}},\"type\":\"histogram\"}],\"histogram2d\":[{\"colorbar\":{\"outlinewidth\":0,\"ticks\":\"\"},\"colorscale\":[[0.0,\"#0d0887\"],[0.1111111111111111,\"#46039f\"],[0.2222222222222222,\"#7201a8\"],[0.3333333333333333,\"#9c179e\"],[0.4444444444444444,\"#bd3786\"],[0.5555555555555556,\"#d8576b\"],[0.6666666666666666,\"#ed7953\"],[0.7777777777777778,\"#fb9f3a\"],[0.8888888888888888,\"#fdca26\"],[1.0,\"#f0f921\"]],\"type\":\"histogram2d\"}],\"histogram2dcontour\":[{\"colorbar\":{\"outlinewidth\":0,\"ticks\":\"\"},\"colorscale\":[[0.0,\"#0d0887\"],[0.1111111111111111,\"#46039f\"],[0.2222222222222222,\"#7201a8\"],[0.3333333333333333,\"#9c179e\"],[0.4444444444444444,\"#bd3786\"],[0.5555555555555556,\"#d8576b\"],[0.6666666666666666,\"#ed7953\"],[0.7777777777777778,\"#fb9f3a\"],[0.8888888888888888,\"#fdca26\"],[1.0,\"#f0f921\"]],\"type\":\"histogram2dcontour\"}],\"mesh3d\":[{\"colorbar\":{\"outlinewidth\":0,\"ticks\":\"\"},\"type\":\"mesh3d\"}],\"parcoords\":[{\"line\":{\"colorbar\":{\"outlinewidth\":0,\"ticks\":\"\"}},\"type\":\"parcoords\"}],\"pie\":[{\"automargin\":true,\"type\":\"pie\"}],\"scatter\":[{\"marker\":{\"colorbar\":{\"outlinewidth\":0,\"ticks\":\"\"}},\"type\":\"scatter\"}],\"scatter3d\":[{\"line\":{\"colorbar\":{\"outlinewidth\":0,\"ticks\":\"\"}},\"marker\":{\"colorbar\":{\"outlinewidth\":0,\"ticks\":\"\"}},\"type\":\"scatter3d\"}],\"scattercarpet\":[{\"marker\":{\"colorbar\":{\"outlinewidth\":0,\"ticks\":\"\"}},\"type\":\"scattercarpet\"}],\"scattergeo\":[{\"marker\":{\"colorbar\":{\"outlinewidth\":0,\"ticks\":\"\"}},\"type\":\"scattergeo\"}],\"scattergl\":[{\"marker\":{\"colorbar\":{\"outlinewidth\":0,\"ticks\":\"\"}},\"type\":\"scattergl\"}],\"scattermapbox\":[{\"marker\":{\"colorbar\":{\"outlinewidth\":0,\"ticks\":\"\"}},\"type\":\"scattermapbox\"}],\"scatterpolar\":[{\"marker\":{\"colorbar\":{\"outlinewidth\":0,\"ticks\":\"\"}},\"type\":\"scatterpolar\"}],\"scatterpolargl\":[{\"marker\":{\"colorbar\":{\"outlinewidth\":0,\"ticks\":\"\"}},\"type\":\"scatterpolargl\"}],\"scatterternary\":[{\"marker\":{\"colorbar\":{\"outlinewidth\":0,\"ticks\":\"\"}},\"type\":\"scatterternary\"}],\"surface\":[{\"colorbar\":{\"outlinewidth\":0,\"ticks\":\"\"},\"colorscale\":[[0.0,\"#0d0887\"],[0.1111111111111111,\"#46039f\"],[0.2222222222222222,\"#7201a8\"],[0.3333333333333333,\"#9c179e\"],[0.4444444444444444,\"#bd3786\"],[0.5555555555555556,\"#d8576b\"],[0.6666666666666666,\"#ed7953\"],[0.7777777777777778,\"#fb9f3a\"],[0.8888888888888888,\"#fdca26\"],[1.0,\"#f0f921\"]],\"type\":\"surface\"}],\"table\":[{\"cells\":{\"fill\":{\"color\":\"#EBF0F8\"},\"line\":{\"color\":\"white\"}},\"header\":{\"fill\":{\"color\":\"#C8D4E3\"},\"line\":{\"color\":\"white\"}},\"type\":\"table\"}]},\"layout\":{\"annotationdefaults\":{\"arrowcolor\":\"#2a3f5f\",\"arrowhead\":0,\"arrowwidth\":1},\"autotypenumbers\":\"strict\",\"coloraxis\":{\"colorbar\":{\"outlinewidth\":0,\"ticks\":\"\"}},\"colorscale\":{\"diverging\":[[0,\"#8e0152\"],[0.1,\"#c51b7d\"],[0.2,\"#de77ae\"],[0.3,\"#f1b6da\"],[0.4,\"#fde0ef\"],[0.5,\"#f7f7f7\"],[0.6,\"#e6f5d0\"],[0.7,\"#b8e186\"],[0.8,\"#7fbc41\"],[0.9,\"#4d9221\"],[1,\"#276419\"]],\"sequential\":[[0.0,\"#0d0887\"],[0.1111111111111111,\"#46039f\"],[0.2222222222222222,\"#7201a8\"],[0.3333333333333333,\"#9c179e\"],[0.4444444444444444,\"#bd3786\"],[0.5555555555555556,\"#d8576b\"],[0.6666666666666666,\"#ed7953\"],[0.7777777777777778,\"#fb9f3a\"],[0.8888888888888888,\"#fdca26\"],[1.0,\"#f0f921\"]],\"sequentialminus\":[[0.0,\"#0d0887\"],[0.1111111111111111,\"#46039f\"],[0.2222222222222222,\"#7201a8\"],[0.3333333333333333,\"#9c179e\"],[0.4444444444444444,\"#bd3786\"],[0.5555555555555556,\"#d8576b\"],[0.6666666666666666,\"#ed7953\"],[0.7777777777777778,\"#fb9f3a\"],[0.8888888888888888,\"#fdca26\"],[1.0,\"#f0f921\"]]},\"colorway\":[\"#636efa\",\"#EF553B\",\"#00cc96\",\"#ab63fa\",\"#FFA15A\",\"#19d3f3\",\"#FF6692\",\"#B6E880\",\"#FF97FF\",\"#FECB52\"],\"font\":{\"color\":\"#2a3f5f\"},\"geo\":{\"bgcolor\":\"white\",\"lakecolor\":\"white\",\"landcolor\":\"#E5ECF6\",\"showlakes\":true,\"showland\":true,\"subunitcolor\":\"white\"},\"hoverlabel\":{\"align\":\"left\"},\"hovermode\":\"closest\",\"mapbox\":{\"style\":\"light\"},\"paper_bgcolor\":\"white\",\"plot_bgcolor\":\"#E5ECF6\",\"polar\":{\"angularaxis\":{\"gridcolor\":\"white\",\"linecolor\":\"white\",\"ticks\":\"\"},\"bgcolor\":\"#E5ECF6\",\"radialaxis\":{\"gridcolor\":\"white\",\"linecolor\":\"white\",\"ticks\":\"\"}},\"scene\":{\"xaxis\":{\"backgroundcolor\":\"#E5ECF6\",\"gridcolor\":\"white\",\"gridwidth\":2,\"linecolor\":\"white\",\"showbackground\":true,\"ticks\":\"\",\"zerolinecolor\":\"white\"},\"yaxis\":{\"backgroundcolor\":\"#E5ECF6\",\"gridcolor\":\"white\",\"gridwidth\":2,\"linecolor\":\"white\",\"showbackground\":true,\"ticks\":\"\",\"zerolinecolor\":\"white\"},\"zaxis\":{\"backgroundcolor\":\"#E5ECF6\",\"gridcolor\":\"white\",\"gridwidth\":2,\"linecolor\":\"white\",\"showbackground\":true,\"ticks\":\"\",\"zerolinecolor\":\"white\"}},\"shapedefaults\":{\"line\":{\"color\":\"#2a3f5f\"}},\"ternary\":{\"aaxis\":{\"gridcolor\":\"white\",\"linecolor\":\"white\",\"ticks\":\"\"},\"baxis\":{\"gridcolor\":\"white\",\"linecolor\":\"white\",\"ticks\":\"\"},\"bgcolor\":\"#E5ECF6\",\"caxis\":{\"gridcolor\":\"white\",\"linecolor\":\"white\",\"ticks\":\"\"}},\"title\":{\"x\":0.05},\"xaxis\":{\"automargin\":true,\"gridcolor\":\"white\",\"linecolor\":\"white\",\"ticks\":\"\",\"title\":{\"standoff\":15},\"zerolinecolor\":\"white\",\"zerolinewidth\":2},\"yaxis\":{\"automargin\":true,\"gridcolor\":\"white\",\"linecolor\":\"white\",\"ticks\":\"\",\"title\":{\"standoff\":15},\"zerolinecolor\":\"white\",\"zerolinewidth\":2}}}},                        {\"responsive\": true}                    ).then(function(){\n",
              "                            \n",
              "var gd = document.getElementById('15409345-17f6-4655-bb80-46d8795f68fc');\n",
              "var x = new MutationObserver(function (mutations, observer) {{\n",
              "        var display = window.getComputedStyle(gd).display;\n",
              "        if (!display || display === 'none') {{\n",
              "            console.log([gd, 'removed!']);\n",
              "            Plotly.purge(gd);\n",
              "            observer.disconnect();\n",
              "        }}\n",
              "}});\n",
              "\n",
              "// Listen for the removal of the full notebook cells\n",
              "var notebookContainer = gd.closest('#notebook-container');\n",
              "if (notebookContainer) {{\n",
              "    x.observe(notebookContainer, {childList: true});\n",
              "}}\n",
              "\n",
              "// Listen for the clearing of the current output cell\n",
              "var outputEl = gd.closest('.output');\n",
              "if (outputEl) {{\n",
              "    x.observe(outputEl, {childList: true});\n",
              "}}\n",
              "\n",
              "                        })                };                            </script>        </div>\n",
              "</body>\n",
              "</html>"
            ]
          },
          "metadata": {}
        }
      ]
    },
    {
      "cell_type": "code",
      "source": [
        ""
      ],
      "metadata": {
        "id": "7_XglAw4HvTf"
      },
      "execution_count": 26,
      "outputs": []
    },
    {
      "cell_type": "code",
      "source": [
        "# 실제 예측하려는 target 구간의 max_encoder_length : 100일 \n",
        "test_data = res_data[res_data[\"Date\"].isin(pd.date_range('2019-10-24', '2020-01-31'))]\n",
        "test_data.info()"
      ],
      "metadata": {
        "id": "xtNCQTnLHue3",
        "colab": {
          "base_uri": "https://localhost:8080/"
        },
        "outputId": "8ba8a9c3-ad99-4953-a5b3-e8181e72799c"
      },
      "execution_count": 27,
      "outputs": [
        {
          "output_type": "stream",
          "name": "stdout",
          "text": [
            "<class 'pandas.core.frame.DataFrame'>\n",
            "Int64Index: 100 entries, 1389 to 1488\n",
            "Data columns (total 2 columns):\n",
            " #   Column   Non-Null Count  Dtype         \n",
            "---  ------   --------------  -----         \n",
            " 0   Date     100 non-null    datetime64[ns]\n",
            " 1   REV OBD  100 non-null    float64       \n",
            "dtypes: datetime64[ns](1), float64(1)\n",
            "memory usage: 2.3 KB\n"
          ]
        }
      ]
    },
    {
      "cell_type": "code",
      "source": [
        "test_data.shape"
      ],
      "metadata": {
        "id": "ZtrAGWjRH1wd",
        "colab": {
          "base_uri": "https://localhost:8080/"
        },
        "outputId": "76f7036f-af2e-44c7-da64-ba70d8cd0125"
      },
      "execution_count": 28,
      "outputs": [
        {
          "output_type": "execute_result",
          "data": {
            "text/plain": [
              "(100, 2)"
            ]
          },
          "metadata": {},
          "execution_count": 28
        }
      ]
    },
    {
      "cell_type": "code",
      "source": [
        "torch.manual_seed(42)\n",
        "\n",
        "log_interval = 5\n",
        "num_classes = 1 # parameter에서 빼서 상수로 설정\n",
        "\n",
        "train_dl, val_dl, input_size = get_data_loader(x, y,  study.best_params['batch_size'])\n",
        "\n",
        "model = LSTM(\n",
        "    num_classes = num_classes, \n",
        "    input_size = input_size, \n",
        "    hidden_size = study.best_params['hidden_size'], \n",
        "    num_layers = study.best_params['num_layers']\n",
        ")\n",
        "\n",
        "if torch.cuda.is_available():\n",
        "    model = model.cuda()\n",
        "    \n",
        "optimizer = optim.Adam(model.parameters(), lr=study.best_params['learning_rate'])\n",
        "criterion = torch.nn.MSELoss()\n",
        "best_loss = train(log_interval, model, train_dl, val_dl, optimizer, criterion, study.best_params['num_epochs'])\n",
        "\n",
        "print('best loss for the trial = ', best_loss)\n",
        "predict_data = []\n",
        "# 여기서 x는 (sample, lookback_length, 1)의 크기를 지님. 따라서, 제일 앞의 시점을 제거하려면, x[:, -1, :]이 되어야 함\n",
        "x_pred = np.expand_dims(x_for_metric, 0)  # Inference에 사용할 lookback data를 x_pred로 지정. 앞으로 x_pred를 하나씩 옮겨 가면서 inference를 할 예정\n",
        "\n",
        "for j, i in enumerate(range(max_prediction_length)):\n",
        "\n",
        "    # feed the last forecast back to the model as an input\n",
        "    x_pred = np.append( x_pred[:, 1:, :], np.expand_dims(y_for_metric[j, :], (0,2)), axis=1)\n",
        "    xt_pred = torch.Tensor(x_pred)\n",
        "\n",
        "    if torch.cuda.is_available():\n",
        "        xt_pred = xt_pred.cuda()\n",
        "    # generate the next forecast\n",
        "    yt_pred = model(xt_pred)\n",
        "    # tensor to array\n",
        "    # x_pred = xt_pred.cpu().detach().numpy()\n",
        "    y_pred = yt_pred.cpu().detach().numpy()\n",
        "\n",
        "    # save the forecast\n",
        "    predict_data.append(y_pred)\n",
        "\n",
        "# transform the forecasts back to the original scale\n",
        "predict_data = np.array(predict_data).reshape(-1, 1)\n",
        "SMAPE = smape(y_for_metric, predict_data)\n",
        "\n",
        "print(f' \\nSMAPE : {SMAPE}')"
      ],
      "metadata": {
        "id": "DOyR0jZc6y8f",
        "colab": {
          "base_uri": "https://localhost:8080/"
        },
        "outputId": "396e3f28-e7bb-4b51-af22-c020feee427f"
      },
      "execution_count": 29,
      "outputs": [
        {
          "output_type": "stream",
          "name": "stdout",
          "text": [
            "\n",
            " Epoch 0 \t Training Loss: 0.11322279231888907 \t Validation Loss: 0.01789849054896169 \n",
            "\n",
            "Validation Loss Decreased(inf--->0.017898) \t Saving The Model\n",
            "Validation Loss Decreased(0.017898--->0.017869) \t Saving The Model\n",
            "Validation Loss Decreased(0.017869--->0.017253) \t Saving The Model\n",
            "Validation Loss Decreased(0.017253--->0.017139) \t Saving The Model\n",
            "\n",
            " Epoch 5 \t Training Loss: 0.023498190247586797 \t Validation Loss: 0.0171440981535448 \n",
            "\n",
            "\n",
            " Epoch 10 \t Training Loss: 0.023569034731813838 \t Validation Loss: 0.017685135309067037 \n",
            "\n",
            "Validation Loss Decreased(0.017139--->0.017096) \t Saving The Model\n",
            "Validation Loss Decreased(0.017096--->0.016878) \t Saving The Model\n",
            "\n",
            " Epoch 15 \t Training Loss: 0.022819578221866064 \t Validation Loss: 0.017294477878345385 \n",
            "\n",
            "\n",
            " Epoch 20 \t Training Loss: 0.022853820105748518 \t Validation Loss: 0.01706583332270384 \n",
            "\n",
            "Validation Loss Decreased(0.016878--->0.016844) \t Saving The Model\n",
            "best loss for the trial =  0.016843916848301888\n",
            " \n",
            "SMAPE : 64.25869960736114\n"
          ]
        }
      ]
    },
    {
      "cell_type": "code",
      "source": [
        "# actual_data는 max_prediction_length에 해당하는 20일의 기간 : 실제 예측하려는 기간 (2020년 2월1일 ~ 2020년 2월 20일)\n",
        "actual_data = data[data[\"Date\"].isin(pd.date_range('2020-02-01', '2020-02-20'))]\n",
        "actual_data['time_index'] = np.arange(len(actual_data))\n",
        "actual_data['market'] = 'OBD'\n",
        "actual_data.head()"
      ],
      "metadata": {
        "id": "iWdqeAuYAJxc",
        "colab": {
          "base_uri": "https://localhost:8080/",
          "height": 374
        },
        "outputId": "fb626db6-e1a3-4dcf-a832-4533917e1566"
      },
      "execution_count": 30,
      "outputs": [
        {
          "output_type": "execute_result",
          "data": {
            "text/plain": [
              "           Date Account DOW  REV OBD  OBD NET+FSC_KRW  OBD A/R_KRW  REV CPN  \\\n",
              "1492 2020-02-01         SAT  23210.0     1.172142e+10  505015.9678   6412.0   \n",
              "1493 2020-02-02         SUN  20824.0     9.549017e+09  458558.2667   6049.0   \n",
              "1494 2020-02-03         MON  19331.0     8.695239e+09  449808.0166  17749.0   \n",
              "1495 2020-02-04         TUE  17277.0     7.375559e+09  426900.4457  16530.0   \n",
              "1496 2020-02-05         WED  17211.0     7.884009e+09  458079.6780  18526.0   \n",
              "\n",
              "      CPN NET+FSC_KRW  CPN A/R_KRW  REV TKT  TKT NET+FSC_KRW   TKT A/R_KRW  \\\n",
              "1492     2.781090e+09  433732.0616   3888.0     3.517716e+09  9.047624e+05   \n",
              "1493     2.553490e+09  422134.2552   3675.0     2.836992e+09  7.719705e+05   \n",
              "1494     1.013166e+10  570829.9001  10027.0     1.117746e+10  1.114736e+06   \n",
              "1495     9.081702e+09  549407.2659   9351.0     1.003142e+10  1.072765e+06   \n",
              "1496     1.005432e+10  542713.8500  10438.0     1.124609e+10  1.077418e+06   \n",
              "\n",
              "        WTI  exchanges    kospi  rates  stock_a  stock_k  stock_kkj  \\\n",
              "1492  51.56     1194.5  2119.01   1.30  21763.0  15335.0    43860.0   \n",
              "1493  51.56     1194.5  2119.01   1.30  21763.0  15335.0    43860.0   \n",
              "1494  50.11     1194.0  2118.88   1.29  21883.0  15659.0    44739.0   \n",
              "1495  49.61     1188.5  2157.90   1.33  22790.0  16697.0    47035.0   \n",
              "1496  50.75     1184.5  2165.63   1.31  22909.0  16859.0    46937.0   \n",
              "\n",
              "      time_index market  \n",
              "1492           0    OBD  \n",
              "1493           1    OBD  \n",
              "1494           2    OBD  \n",
              "1495           3    OBD  \n",
              "1496           4    OBD  "
            ],
            "text/html": [
              "\n",
              "  <div id=\"df-254aac0b-5e4a-4141-9d64-c318f3168bca\">\n",
              "    <div class=\"colab-df-container\">\n",
              "      <div>\n",
              "<style scoped>\n",
              "    .dataframe tbody tr th:only-of-type {\n",
              "        vertical-align: middle;\n",
              "    }\n",
              "\n",
              "    .dataframe tbody tr th {\n",
              "        vertical-align: top;\n",
              "    }\n",
              "\n",
              "    .dataframe thead th {\n",
              "        text-align: right;\n",
              "    }\n",
              "</style>\n",
              "<table border=\"1\" class=\"dataframe\">\n",
              "  <thead>\n",
              "    <tr style=\"text-align: right;\">\n",
              "      <th></th>\n",
              "      <th>Date</th>\n",
              "      <th>Account DOW</th>\n",
              "      <th>REV OBD</th>\n",
              "      <th>OBD NET+FSC_KRW</th>\n",
              "      <th>OBD A/R_KRW</th>\n",
              "      <th>REV CPN</th>\n",
              "      <th>CPN NET+FSC_KRW</th>\n",
              "      <th>CPN A/R_KRW</th>\n",
              "      <th>REV TKT</th>\n",
              "      <th>TKT NET+FSC_KRW</th>\n",
              "      <th>TKT A/R_KRW</th>\n",
              "      <th>WTI</th>\n",
              "      <th>exchanges</th>\n",
              "      <th>kospi</th>\n",
              "      <th>rates</th>\n",
              "      <th>stock_a</th>\n",
              "      <th>stock_k</th>\n",
              "      <th>stock_kkj</th>\n",
              "      <th>time_index</th>\n",
              "      <th>market</th>\n",
              "    </tr>\n",
              "  </thead>\n",
              "  <tbody>\n",
              "    <tr>\n",
              "      <th>1492</th>\n",
              "      <td>2020-02-01</td>\n",
              "      <td>SAT</td>\n",
              "      <td>23210.0</td>\n",
              "      <td>1.172142e+10</td>\n",
              "      <td>505015.9678</td>\n",
              "      <td>6412.0</td>\n",
              "      <td>2.781090e+09</td>\n",
              "      <td>433732.0616</td>\n",
              "      <td>3888.0</td>\n",
              "      <td>3.517716e+09</td>\n",
              "      <td>9.047624e+05</td>\n",
              "      <td>51.56</td>\n",
              "      <td>1194.5</td>\n",
              "      <td>2119.01</td>\n",
              "      <td>1.30</td>\n",
              "      <td>21763.0</td>\n",
              "      <td>15335.0</td>\n",
              "      <td>43860.0</td>\n",
              "      <td>0</td>\n",
              "      <td>OBD</td>\n",
              "    </tr>\n",
              "    <tr>\n",
              "      <th>1493</th>\n",
              "      <td>2020-02-02</td>\n",
              "      <td>SUN</td>\n",
              "      <td>20824.0</td>\n",
              "      <td>9.549017e+09</td>\n",
              "      <td>458558.2667</td>\n",
              "      <td>6049.0</td>\n",
              "      <td>2.553490e+09</td>\n",
              "      <td>422134.2552</td>\n",
              "      <td>3675.0</td>\n",
              "      <td>2.836992e+09</td>\n",
              "      <td>7.719705e+05</td>\n",
              "      <td>51.56</td>\n",
              "      <td>1194.5</td>\n",
              "      <td>2119.01</td>\n",
              "      <td>1.30</td>\n",
              "      <td>21763.0</td>\n",
              "      <td>15335.0</td>\n",
              "      <td>43860.0</td>\n",
              "      <td>1</td>\n",
              "      <td>OBD</td>\n",
              "    </tr>\n",
              "    <tr>\n",
              "      <th>1494</th>\n",
              "      <td>2020-02-03</td>\n",
              "      <td>MON</td>\n",
              "      <td>19331.0</td>\n",
              "      <td>8.695239e+09</td>\n",
              "      <td>449808.0166</td>\n",
              "      <td>17749.0</td>\n",
              "      <td>1.013166e+10</td>\n",
              "      <td>570829.9001</td>\n",
              "      <td>10027.0</td>\n",
              "      <td>1.117746e+10</td>\n",
              "      <td>1.114736e+06</td>\n",
              "      <td>50.11</td>\n",
              "      <td>1194.0</td>\n",
              "      <td>2118.88</td>\n",
              "      <td>1.29</td>\n",
              "      <td>21883.0</td>\n",
              "      <td>15659.0</td>\n",
              "      <td>44739.0</td>\n",
              "      <td>2</td>\n",
              "      <td>OBD</td>\n",
              "    </tr>\n",
              "    <tr>\n",
              "      <th>1495</th>\n",
              "      <td>2020-02-04</td>\n",
              "      <td>TUE</td>\n",
              "      <td>17277.0</td>\n",
              "      <td>7.375559e+09</td>\n",
              "      <td>426900.4457</td>\n",
              "      <td>16530.0</td>\n",
              "      <td>9.081702e+09</td>\n",
              "      <td>549407.2659</td>\n",
              "      <td>9351.0</td>\n",
              "      <td>1.003142e+10</td>\n",
              "      <td>1.072765e+06</td>\n",
              "      <td>49.61</td>\n",
              "      <td>1188.5</td>\n",
              "      <td>2157.90</td>\n",
              "      <td>1.33</td>\n",
              "      <td>22790.0</td>\n",
              "      <td>16697.0</td>\n",
              "      <td>47035.0</td>\n",
              "      <td>3</td>\n",
              "      <td>OBD</td>\n",
              "    </tr>\n",
              "    <tr>\n",
              "      <th>1496</th>\n",
              "      <td>2020-02-05</td>\n",
              "      <td>WED</td>\n",
              "      <td>17211.0</td>\n",
              "      <td>7.884009e+09</td>\n",
              "      <td>458079.6780</td>\n",
              "      <td>18526.0</td>\n",
              "      <td>1.005432e+10</td>\n",
              "      <td>542713.8500</td>\n",
              "      <td>10438.0</td>\n",
              "      <td>1.124609e+10</td>\n",
              "      <td>1.077418e+06</td>\n",
              "      <td>50.75</td>\n",
              "      <td>1184.5</td>\n",
              "      <td>2165.63</td>\n",
              "      <td>1.31</td>\n",
              "      <td>22909.0</td>\n",
              "      <td>16859.0</td>\n",
              "      <td>46937.0</td>\n",
              "      <td>4</td>\n",
              "      <td>OBD</td>\n",
              "    </tr>\n",
              "  </tbody>\n",
              "</table>\n",
              "</div>\n",
              "      <button class=\"colab-df-convert\" onclick=\"convertToInteractive('df-254aac0b-5e4a-4141-9d64-c318f3168bca')\"\n",
              "              title=\"Convert this dataframe to an interactive table.\"\n",
              "              style=\"display:none;\">\n",
              "        \n",
              "  <svg xmlns=\"http://www.w3.org/2000/svg\" height=\"24px\"viewBox=\"0 0 24 24\"\n",
              "       width=\"24px\">\n",
              "    <path d=\"M0 0h24v24H0V0z\" fill=\"none\"/>\n",
              "    <path d=\"M18.56 5.44l.94 2.06.94-2.06 2.06-.94-2.06-.94-.94-2.06-.94 2.06-2.06.94zm-11 1L8.5 8.5l.94-2.06 2.06-.94-2.06-.94L8.5 2.5l-.94 2.06-2.06.94zm10 10l.94 2.06.94-2.06 2.06-.94-2.06-.94-.94-2.06-.94 2.06-2.06.94z\"/><path d=\"M17.41 7.96l-1.37-1.37c-.4-.4-.92-.59-1.43-.59-.52 0-1.04.2-1.43.59L10.3 9.45l-7.72 7.72c-.78.78-.78 2.05 0 2.83L4 21.41c.39.39.9.59 1.41.59.51 0 1.02-.2 1.41-.59l7.78-7.78 2.81-2.81c.8-.78.8-2.07 0-2.86zM5.41 20L4 18.59l7.72-7.72 1.47 1.35L5.41 20z\"/>\n",
              "  </svg>\n",
              "      </button>\n",
              "      \n",
              "  <style>\n",
              "    .colab-df-container {\n",
              "      display:flex;\n",
              "      flex-wrap:wrap;\n",
              "      gap: 12px;\n",
              "    }\n",
              "\n",
              "    .colab-df-convert {\n",
              "      background-color: #E8F0FE;\n",
              "      border: none;\n",
              "      border-radius: 50%;\n",
              "      cursor: pointer;\n",
              "      display: none;\n",
              "      fill: #1967D2;\n",
              "      height: 32px;\n",
              "      padding: 0 0 0 0;\n",
              "      width: 32px;\n",
              "    }\n",
              "\n",
              "    .colab-df-convert:hover {\n",
              "      background-color: #E2EBFA;\n",
              "      box-shadow: 0px 1px 2px rgba(60, 64, 67, 0.3), 0px 1px 3px 1px rgba(60, 64, 67, 0.15);\n",
              "      fill: #174EA6;\n",
              "    }\n",
              "\n",
              "    [theme=dark] .colab-df-convert {\n",
              "      background-color: #3B4455;\n",
              "      fill: #D2E3FC;\n",
              "    }\n",
              "\n",
              "    [theme=dark] .colab-df-convert:hover {\n",
              "      background-color: #434B5C;\n",
              "      box-shadow: 0px 1px 3px 1px rgba(0, 0, 0, 0.15);\n",
              "      filter: drop-shadow(0px 1px 2px rgba(0, 0, 0, 0.3));\n",
              "      fill: #FFFFFF;\n",
              "    }\n",
              "  </style>\n",
              "\n",
              "      <script>\n",
              "        const buttonEl =\n",
              "          document.querySelector('#df-254aac0b-5e4a-4141-9d64-c318f3168bca button.colab-df-convert');\n",
              "        buttonEl.style.display =\n",
              "          google.colab.kernel.accessAllowed ? 'block' : 'none';\n",
              "\n",
              "        async function convertToInteractive(key) {\n",
              "          const element = document.querySelector('#df-254aac0b-5e4a-4141-9d64-c318f3168bca');\n",
              "          const dataTable =\n",
              "            await google.colab.kernel.invokeFunction('convertToInteractive',\n",
              "                                                     [key], {});\n",
              "          if (!dataTable) return;\n",
              "\n",
              "          const docLinkHtml = 'Like what you see? Visit the ' +\n",
              "            '<a target=\"_blank\" href=https://colab.research.google.com/notebooks/data_table.ipynb>data table notebook</a>'\n",
              "            + ' to learn more about interactive tables.';\n",
              "          element.innerHTML = '';\n",
              "          dataTable['output_type'] = 'display_data';\n",
              "          await google.colab.output.renderOutput(dataTable, element);\n",
              "          const docLink = document.createElement('div');\n",
              "          docLink.innerHTML = docLinkHtml;\n",
              "          element.appendChild(docLink);\n",
              "        }\n",
              "      </script>\n",
              "    </div>\n",
              "  </div>\n",
              "  "
            ]
          },
          "metadata": {},
          "execution_count": 30
        }
      ]
    },
    {
      "cell_type": "code",
      "source": [
        "# 실제 예측하려는 target prediction 구간 : 20일\n",
        "actuals = actual_data['REV OBD']\n",
        "actuals"
      ],
      "metadata": {
        "id": "jNhgd-GlAQ8p",
        "colab": {
          "base_uri": "https://localhost:8080/"
        },
        "outputId": "f18bde69-2081-425b-c113-7eddceb88890"
      },
      "execution_count": 31,
      "outputs": [
        {
          "output_type": "execute_result",
          "data": {
            "text/plain": [
              "1492    23210.0\n",
              "1493    20824.0\n",
              "1494    19331.0\n",
              "1495    17277.0\n",
              "1496    17211.0\n",
              "1497    16299.0\n",
              "1498    18470.0\n",
              "1499    17570.0\n",
              "1500    17037.0\n",
              "1501    16587.0\n",
              "1502    13758.0\n",
              "1503    14898.0\n",
              "1504    14091.0\n",
              "1505    16195.0\n",
              "1506    16074.0\n",
              "1507    15017.0\n",
              "1508    14490.0\n",
              "1509    11933.0\n",
              "1510    13100.0\n",
              "1511    12061.0\n",
              "Name: REV OBD, dtype: float64"
            ]
          },
          "metadata": {},
          "execution_count": 31
        }
      ]
    },
    {
      "cell_type": "code",
      "source": [
        "actuals = torch.tensor(actual_data['REV OBD'].values)\n",
        "print(actuals)\n",
        "print(actuals.shape)"
      ],
      "metadata": {
        "id": "T2GJ5w04AUez",
        "colab": {
          "base_uri": "https://localhost:8080/"
        },
        "outputId": "0a91c527-b486-470c-cbd2-92e40df87fac"
      },
      "execution_count": 32,
      "outputs": [
        {
          "output_type": "stream",
          "name": "stdout",
          "text": [
            "tensor([23210., 20824., 19331., 17277., 17211., 16299., 18470., 17570., 17037.,\n",
            "        16587., 13758., 14898., 14091., 16195., 16074., 15017., 14490., 11933.,\n",
            "        13100., 12061.], dtype=torch.float64)\n",
            "torch.Size([20])\n"
          ]
        }
      ]
    },
    {
      "cell_type": "code",
      "source": [
        "baseline_predictions =  torch.tensor([data.loc[data.Date == '2020-01-31']['REV OBD'].values[0]] * len(actuals)).to(torch.float32)\n",
        "\n",
        "mae_with_baseline = (actuals - baseline_predictions).abs().mean().item()\n",
        "smape_with_baseline = (2 * (baseline_predictions - actuals).abs() / (baseline_predictions.abs() + actuals.abs() + 1e-8)).mean()\n",
        "\n",
        "print(f'mae_with_baseline : {mae_with_baseline}')\n",
        "print(f'smape_with_baseline : {smape_with_baseline}')"
      ],
      "metadata": {
        "id": "hCcwkzZxAY47",
        "colab": {
          "base_uri": "https://localhost:8080/"
        },
        "outputId": "6d90dabb-cb39-4d06-bc0f-6be2a7edfea2"
      },
      "execution_count": 33,
      "outputs": [
        {
          "output_type": "stream",
          "name": "stdout",
          "text": [
            "mae_with_baseline : 7632.35\n",
            "smape_with_baseline : 0.39083401983455535\n"
          ]
        }
      ]
    },
    {
      "cell_type": "code",
      "source": [
        "torch.tensor([data.loc[data.Date == '2020-01-31']['REV OBD'].values[0]] * len(actuals)).to(torch.float32)"
      ],
      "metadata": {
        "colab": {
          "base_uri": "https://localhost:8080/"
        },
        "id": "S3_z8xQTbT7j",
        "outputId": "3060cc0d-2cfc-410d-a584-918106ca71d9"
      },
      "execution_count": 38,
      "outputs": [
        {
          "output_type": "execute_result",
          "data": {
            "text/plain": [
              "tensor([23904., 23904., 23904., 23904., 23904., 23904., 23904., 23904., 23904.,\n",
              "        23904., 23904., 23904., 23904., 23904., 23904., 23904., 23904., 23904.,\n",
              "        23904., 23904.])"
            ]
          },
          "metadata": {},
          "execution_count": 38
        }
      ]
    },
    {
      "cell_type": "code",
      "source": [
        "predicts = scaler.inverse_transform(predict_data)\n",
        "print(predicts.shape)\n",
        "print(predicts)\n",
        "print(type(predicts))"
      ],
      "metadata": {
        "id": "sys72FgHMd2z",
        "colab": {
          "base_uri": "https://localhost:8080/"
        },
        "outputId": "2d6fccfe-b3fa-4669-919c-48f9f28d3bf0"
      },
      "execution_count": 34,
      "outputs": [
        {
          "output_type": "stream",
          "name": "stdout",
          "text": [
            "(20, 1)\n",
            "[[25458.75 ]\n",
            " [25387.09 ]\n",
            " [25091.88 ]\n",
            " [25435.121]\n",
            " [25151.662]\n",
            " [25639.234]\n",
            " [25292.557]\n",
            " [25087.676]\n",
            " [24852.074]\n",
            " [24863.977]\n",
            " [25256.951]\n",
            " [25193.934]\n",
            " [24965.936]\n",
            " [24552.059]\n",
            " [25093.479]\n",
            " [25416.496]\n",
            " [25019.54 ]\n",
            " [24737.062]\n",
            " [24675.943]\n",
            " [24816.951]]\n",
            "<class 'numpy.ndarray'>\n"
          ]
        }
      ]
    },
    {
      "cell_type": "code",
      "source": [
        "predicts = torch.tensor(predicts)\n",
        "predicts.shape"
      ],
      "metadata": {
        "id": "hYGCzrBiCAGj",
        "colab": {
          "base_uri": "https://localhost:8080/"
        },
        "outputId": "0331a97d-12aa-4a5a-aa8d-cbba208a3e0a"
      },
      "execution_count": 35,
      "outputs": [
        {
          "output_type": "execute_result",
          "data": {
            "text/plain": [
              "torch.Size([20, 1])"
            ]
          },
          "metadata": {},
          "execution_count": 35
        }
      ]
    },
    {
      "cell_type": "code",
      "source": [
        "mae_with_test = (actuals - predicts).abs().mean().item()\n",
        "smape_with_test = smape(actuals.numpy(), predicts.numpy())\n",
        "\n",
        "print(f'mae_with_test : {mae_with_test}')\n",
        "print(f'smape_with_test : {smape_with_test}')"
      ],
      "metadata": {
        "id": "NuaLALHQTP5C",
        "colab": {
          "base_uri": "https://localhost:8080/"
        },
        "outputId": "b639c966-c625-4fea-8ae3-c78fcc843a24"
      },
      "execution_count": 36,
      "outputs": [
        {
          "output_type": "stream",
          "name": "stdout",
          "text": [
            "mae_with_test : 8827.7685546875\n",
            "smape_with_test : 874.3154316016535\n"
          ]
        }
      ]
    },
    {
      "cell_type": "code",
      "source": [
        ""
      ],
      "metadata": {
        "id": "kuHFzcs_E9g1"
      },
      "execution_count": 36,
      "outputs": []
    },
    {
      "cell_type": "code",
      "source": [
        "y_train.shape\n",
        "\n",
        "np.expand_dims(pred, axis=1).shape\n",
        "\n",
        "predicted_for_plot = sc.inverse_transform(np.concatenate((y_train, np.expand_dims(pred, axis=1))))\n",
        "actual_for_plot = sc.inverse_transform(np.concatenate((y_train, y_test)))\n",
        "\n",
        "predicted_for_plot.shape\n",
        "\n",
        "actual_for_plot.shape\n",
        "\n",
        "plt.plot(predicted_for_plot[300:])\n",
        "plt.plot(actual_for_plot[300:])\n",
        "plt.suptitle('Timeseries Prediction')\n",
        "plt.axvline(x=y_train.shape[0]-300, c='r', linestyle='--')\n",
        "plt.show()"
      ],
      "metadata": {
        "colab": {
          "base_uri": "https://localhost:8080/",
          "height": 244
        },
        "id": "xS1ykF026jrf",
        "outputId": "a9a59b6b-b7d3-4c50-c91b-2bcf804253d8"
      },
      "execution_count": 37,
      "outputs": [
        {
          "output_type": "error",
          "ename": "NameError",
          "evalue": "ignored",
          "traceback": [
            "\u001b[0;31m---------------------------------------------------------------------------\u001b[0m",
            "\u001b[0;31mNameError\u001b[0m                                 Traceback (most recent call last)",
            "\u001b[0;32m<ipython-input-37-6ec47954aaea>\u001b[0m in \u001b[0;36m<module>\u001b[0;34m()\u001b[0m\n\u001b[0;32m----> 1\u001b[0;31m \u001b[0my_train\u001b[0m\u001b[0;34m.\u001b[0m\u001b[0mshape\u001b[0m\u001b[0;34m\u001b[0m\u001b[0;34m\u001b[0m\u001b[0m\n\u001b[0m\u001b[1;32m      2\u001b[0m \u001b[0;34m\u001b[0m\u001b[0m\n\u001b[1;32m      3\u001b[0m \u001b[0mnp\u001b[0m\u001b[0;34m.\u001b[0m\u001b[0mexpand_dims\u001b[0m\u001b[0;34m(\u001b[0m\u001b[0mpred\u001b[0m\u001b[0;34m,\u001b[0m \u001b[0maxis\u001b[0m\u001b[0;34m=\u001b[0m\u001b[0;36m1\u001b[0m\u001b[0;34m)\u001b[0m\u001b[0;34m.\u001b[0m\u001b[0mshape\u001b[0m\u001b[0;34m\u001b[0m\u001b[0;34m\u001b[0m\u001b[0m\n\u001b[1;32m      4\u001b[0m \u001b[0;34m\u001b[0m\u001b[0m\n\u001b[1;32m      5\u001b[0m \u001b[0mpredicted_for_plot\u001b[0m \u001b[0;34m=\u001b[0m \u001b[0msc\u001b[0m\u001b[0;34m.\u001b[0m\u001b[0minverse_transform\u001b[0m\u001b[0;34m(\u001b[0m\u001b[0mnp\u001b[0m\u001b[0;34m.\u001b[0m\u001b[0mconcatenate\u001b[0m\u001b[0;34m(\u001b[0m\u001b[0;34m(\u001b[0m\u001b[0my_train\u001b[0m\u001b[0;34m,\u001b[0m \u001b[0mnp\u001b[0m\u001b[0;34m.\u001b[0m\u001b[0mexpand_dims\u001b[0m\u001b[0;34m(\u001b[0m\u001b[0mpred\u001b[0m\u001b[0;34m,\u001b[0m \u001b[0maxis\u001b[0m\u001b[0;34m=\u001b[0m\u001b[0;36m1\u001b[0m\u001b[0;34m)\u001b[0m\u001b[0;34m)\u001b[0m\u001b[0;34m)\u001b[0m\u001b[0;34m)\u001b[0m\u001b[0;34m\u001b[0m\u001b[0;34m\u001b[0m\u001b[0m\n",
            "\u001b[0;31mNameError\u001b[0m: name 'y_train' is not defined"
          ]
        }
      ]
    },
    {
      "cell_type": "code",
      "source": [
        ""
      ],
      "metadata": {
        "id": "_zEeT_006jom"
      },
      "execution_count": null,
      "outputs": []
    },
    {
      "cell_type": "code",
      "source": [
        ""
      ],
      "metadata": {
        "id": "ntsiZvsU6jlR"
      },
      "execution_count": null,
      "outputs": []
    }
  ],
  "metadata": {
    "colab": {
      "name": "LSTM_pytorch_optuna_06.ipynb",
      "provenance": [],
      "collapsed_sections": []
    },
    "interpreter": {
      "hash": "3adb55b36cf11984244f732b8044a5f95e16798e2d742560837f6dd41133e800"
    },
    "kernelspec": {
      "display_name": "Python 3.8.3 64-bit ('image_crawler')",
      "language": "python",
      "name": "python3"
    },
    "language_info": {
      "codemirror_mode": {
        "name": "ipython",
        "version": 3
      },
      "file_extension": ".py",
      "mimetype": "text/x-python",
      "name": "python",
      "nbconvert_exporter": "python",
      "pygments_lexer": "ipython3",
      "version": "3.8.3"
    },
    "accelerator": "GPU",
    "gpuClass": "standard"
  },
  "nbformat": 4,
  "nbformat_minor": 0
}