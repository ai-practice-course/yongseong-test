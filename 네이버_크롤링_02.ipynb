{
  "nbformat": 4,
  "nbformat_minor": 0,
  "metadata": {
    "colab": {
      "name": "네이버_크롤링_02.ipynb",
      "provenance": [],
      "collapsed_sections": []
    },
    "kernelspec": {
      "name": "python3",
      "display_name": "Python 3"
    },
    "language_info": {
      "name": "python"
    }
  },
  "cells": [
    {
      "cell_type": "code",
      "execution_count": null,
      "metadata": {
        "id": "sWCDbxjhxf37"
      },
      "outputs": [],
      "source": [
        "import requests\n",
        "from bs4 import BeautifulSoup\n",
        "from datetime import datetime, timedelta"
      ]
    },
    {
      "cell_type": "code",
      "source": [
        "res = requests.get('https://finance.naver.com/sise/sise_index_day.naver?code=KOSPI&page=1')\n",
        "soup = BeautifulSoup(res.content, 'html.parser')"
      ],
      "metadata": {
        "id": "FcoUlnOVxtr1"
      },
      "execution_count": null,
      "outputs": []
    },
    {
      "cell_type": "code",
      "source": [
        "start_date = datetime(2022, 4, 1)\n",
        "end_date = datetime(2022, 3, 24)"
      ],
      "metadata": {
        "id": "ccIFtx59xto_"
      },
      "execution_count": null,
      "outputs": []
    },
    {
      "cell_type": "code",
      "source": [
        "trs = soup.find_all('tr')\n",
        "for tr in trs:\n",
        "  if tr.find('td', 'date'):\n",
        "    dates = tr.find('td', 'date')\n",
        "    date = dates.get_text()\n",
        "    target = datetime.strptime(date, '%Y.%m.%d')\n",
        "    if end_date < target < start_date:\n",
        "      print(target)\n",
        "      print(tr.find('td', 'number_1').get_text())"
      ],
      "metadata": {
        "colab": {
          "base_uri": "https://localhost:8080/"
        },
        "id": "t1H8nYlBxtmU",
        "outputId": "b022c1bd-c2fc-48bb-bd72-176f0cb6cd95"
      },
      "execution_count": null,
      "outputs": [
        {
          "output_type": "stream",
          "name": "stdout",
          "text": [
            "2022-03-31 00:00:00\n",
            "2,757.65\n",
            "2022-03-30 00:00:00\n",
            "2,746.74\n",
            "2022-03-29 00:00:00\n",
            "2,741.07\n",
            "2022-03-29 00:00:00\n",
            "2,741.07\n",
            "2022-03-28 00:00:00\n",
            "2,729.56\n",
            "2022-03-25 00:00:00\n",
            "2,729.98\n"
          ]
        }
      ]
    }
  ]
}